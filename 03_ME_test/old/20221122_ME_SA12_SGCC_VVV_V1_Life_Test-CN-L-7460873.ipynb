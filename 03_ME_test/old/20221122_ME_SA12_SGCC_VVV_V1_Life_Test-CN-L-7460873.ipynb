{
 "cells": [
  {
   "cell_type": "markdown",
   "id": "7168aec6",
   "metadata": {},
   "source": [
    "# 1_Initialization"
   ]
  },
  {
   "cell_type": "code",
   "execution_count": 1,
   "id": "417c7bfe",
   "metadata": {},
   "outputs": [],
   "source": [
    "from safedigital import mechanical as ME  # import mechanical module\n",
    "from datetime import datetime\n",
    "from datetime import timedelta\n",
    "import pandas as pd\n",
    "import os\n",
    "import numpy as np\n",
    "import matplotlib.pyplot as plt\n",
    "import seaborn as sns\n",
    "import importlib\n",
    "\n",
    "# from MRC.sswgmm_mech import mech_monitor as mm\n",
    "sns.set(color_codes=True)\n",
    "cur_directory = r'C:\\Users\\cnbofan1\\ABB\\Safe Digital in CN - Documents - Documents\\06_Test and Analytics'\n",
    "dir_data_washed = (cur_directory + '\\\\' + \n",
    "                  '20221122_ME_SA12kV_SGCC_VVV_V1_Life_Test_0_10000' + '\\\\'\n",
    "                  + '1_Data formatted')\n",
    "dir_data_raw = (cur_directory + '\\\\' +\n",
    "                '20221122_ME_SA12kV_SGCC_VVV_V1_Life_Test_0_10000' + '\\\\' +\n",
    "                '0_Data original')\n",
    "dir_noreclosing_washed = (cur_directory + '\\\\' + \n",
    "                  '20221122_ME_SA12kV_SGCC_VVV_V1_Life_Test_0_10000' + '\\\\'\n",
    "                  + '3_Data no reclosing' + '\\\\' + 'washed')\n",
    "dir_noreclosing_raw = (cur_directory + '\\\\' +\n",
    "                '20221122_ME_SA12kV_SGCC_VVV_V1_Life_Test_0_10000' + '\\\\' +\n",
    "                '3_Data no reclosing' + '\\\\' + 'raw')\n"
   ]
  },
  {
   "attachments": {},
   "cell_type": "markdown",
   "id": "5e81b2aa",
   "metadata": {},
   "source": [
    "# 2_Data washing\n",
    "## 2.1_Data re-orgnization\n",
    "### 2.1.1_All files \n",
    "Save every curve into one .csv file"
   ]
  },
  {
   "cell_type": "code",
   "execution_count": null,
   "id": "bf8f422e",
   "metadata": {},
   "outputs": [],
   "source": [
    "# for all data, split and save each curve into one single .csv file\n",
    "travel_path_list = []\n",
    "wave_class_dict = {'角度(合闸).txt':'travel_close', '角度(分闸).txt':'travel_open', \n",
    "                   '合闸电流(合闸).txt':'current_close', '分闸电流(分闸).txt':'current_open', \n",
    "                   '储能电流(储能).txt':'current_motor'}\n",
    "for cur_dir, dirs, files in os.walk(dir_data_raw):\n",
    "    print(cur_dir)\n",
    "    for wave_class in wave_class_dict.keys():\n",
    "        if wave_class in files:            \n",
    "            wave_path = os.path.join(cur_dir, wave_class)\n",
    "            # print(travel_path)\n",
    "            travel_path_list.append(wave_path)\n",
    "            with open(wave_path, \"r\", encoding='utf-8') as f: \n",
    "                data = f.read()\n",
    "            wave_list = data.split(\"WaveID:\")\n",
    "            # since the 1st element is blank, wave data splitting from 2nd element\n",
    "            for wave_str in wave_list[1:]:\n",
    "                # extract timestamp to be name of waveform file\n",
    "                time_stamp_start_idx = wave_str.find('Waveform time:') + len('Waveform time:')\n",
    "                time_stamp_end_idx = wave_str.find(';Sampling frequency(ms)')\n",
    "                time_stamp_str = wave_str[time_stamp_start_idx : time_stamp_end_idx]\n",
    "                \n",
    "                # change format of time stamp into 'XX_XX_XX'\n",
    "                time_stamp_num = time_stamp_str.replace(' ', '_')\n",
    "                time_stamp_num = time_stamp_num.replace(':', '_')\n",
    "                time_stamp_num = time_stamp_num.replace('-', '_')\n",
    "                \n",
    "                # extract waveform data\n",
    "                wave_data_start_idx = wave_str.find('Waveform data:') + len('Waveform data:')\n",
    "                wave_data_str = wave_str[wave_data_start_idx:]\n",
    "                wave_data_df = pd.DataFrame({'data':wave_data_str.split(',')})\n",
    "                \n",
    "                # export data into .csv file\n",
    "                wave_file_name = time_stamp_num + '_' + wave_class_dict[wave_class]\n",
    "                wave_data_df.to_csv(dir_data_washed + '\\\\' + wave_file_name + '.csv')\n",
    "                    \n",
    "                    \n",
    "            else:\n",
    "                pass\n",
    "    else:\n",
    "        pass\n",
    "print(travel_path_list)\n"
   ]
  },
  {
   "attachments": {},
   "cell_type": "markdown",
   "id": "461833a4",
   "metadata": {},
   "source": [
    "### 2.1.2_Files without reclosing"
   ]
  },
  {
   "cell_type": "code",
   "execution_count": null,
   "id": "e0e1747f",
   "metadata": {},
   "outputs": [],
   "source": [
    "ME.DataClean.mconfig_to_csv(dir_noreclosing_raw, dir_noreclosing_washed)"
   ]
  },
  {
   "attachments": {},
   "cell_type": "markdown",
   "id": "91b784e4",
   "metadata": {},
   "source": [
    "## 2.2_Data preview\n",
    "### 2.2.1_Travel open\n",
    "#### total plot"
   ]
  },
  {
   "cell_type": "code",
   "execution_count": null,
   "id": "e843fb35",
   "metadata": {},
   "outputs": [],
   "source": [
    "count_travel_open = 0\n",
    "for cur_dir, dirs, files in os.walk(dir_data_washed):\n",
    "    \n",
    "    # plot open travel curve\n",
    "    plt.figure(dpi=200)\n",
    "    for file in files:\n",
    "\n",
    "        if 'travel_open' in file:\n",
    "            count_travel_open += 1\n",
    "            curve_df = pd.read_csv(os.path.join(cur_dir, file), header=0)\n",
    "            plt.plot(curve_df['data'],\n",
    "                     c='g',\n",
    "                     linewidth=0.5)\n",
    "plt.title('open travel curves, total number: {}'.format(count_travel_open))\n",
    "print('number of open trave curves:', count_travel_open)\n",
    "         "
   ]
  },
  {
   "attachments": {},
   "cell_type": "markdown",
   "id": "d9bd88d2",
   "metadata": {},
   "source": [
    "#### plot every 2k"
   ]
  },
  {
   "cell_type": "code",
   "execution_count": null,
   "id": "e170bb7a",
   "metadata": {},
   "outputs": [],
   "source": [
    "ME.MechOperMconfig.plot_every_2k(dir_data_washed, \n",
    "                                 'travel_open',\n",
    "                                 date_time_2k = datetime(2022,11,24),\n",
    "                                 date_time_4k = datetime(2022,11,28),\n",
    "                                 date_time_6k = datetime(2022,12,12),\n",
    "                                 date_time_8k = datetime(2022,12,14),\n",
    "                                 date_time_10k = datetime(2022,12,16),\n",
    "                                )  "
   ]
  },
  {
   "attachments": {},
   "cell_type": "markdown",
   "id": "07d675eb",
   "metadata": {},
   "source": [
    "### 2.2.2_Travel close\n",
    "#### total plot"
   ]
  },
  {
   "cell_type": "code",
   "execution_count": null,
   "id": "c90fd7ac",
   "metadata": {},
   "outputs": [],
   "source": [
    "count_travel_close = 0\n",
    "for cur_dir, dirs, files in os.walk(dir_data_washed):\n",
    "    \n",
    "    # plot open travel curve\n",
    "    plt.figure(dpi=200)\n",
    "    for file in files:\n",
    "\n",
    "        if 'travel_close' in file:\n",
    "            count_travel_close += 1\n",
    "            curve_df = pd.read_csv(os.path.join(cur_dir, file), header=0)\n",
    "            plt.plot(curve_df['data'],\n",
    "                     c='g',\n",
    "                     linewidth=0.5)\n",
    "plt.title('close travel curves, total number: {}'.format(count_travel_close))\n",
    "print('number of close trave curves:', count_travel_close) "
   ]
  },
  {
   "attachments": {},
   "cell_type": "markdown",
   "id": "b62e0f33",
   "metadata": {},
   "source": [
    "#### plot every 2K"
   ]
  },
  {
   "cell_type": "code",
   "execution_count": null,
   "id": "d5a4b222",
   "metadata": {},
   "outputs": [],
   "source": [
    "ME.MechOperMconfig.plot_every_2k(dir_data_washed, \n",
    "                                 'travel_close',\n",
    "                                 date_time_2k = datetime(2022,11,24),\n",
    "                                 date_time_4k = datetime(2022,11,28),\n",
    "                                 date_time_6k = datetime(2022,12,12),\n",
    "                                 date_time_8k = datetime(2022,12,14),\n",
    "                                 date_time_10k = datetime(2022,12,16),\n",
    "                                 \n",
    "                                )  "
   ]
  },
  {
   "attachments": {},
   "cell_type": "markdown",
   "id": "110e4c00",
   "metadata": {},
   "source": [
    "### 2.2.3_Current_open\n",
    "#### total plot"
   ]
  },
  {
   "cell_type": "code",
   "execution_count": null,
   "id": "e843fb35",
   "metadata": {},
   "outputs": [],
   "source": [
    "count_current_open = 0\n",
    "for cur_dir, dirs, files in os.walk(dir_data_washed):\n",
    "    \n",
    "    # plot open travel curve\n",
    "    plt.figure(dpi=200)\n",
    "    for file in files:\n",
    "\n",
    "        if 'current_open' in file:\n",
    "            count_current_open += 1\n",
    "            curve_df = pd.read_csv(os.path.join(cur_dir, file), header=0)\n",
    "            plt.plot(curve_df['data'],\n",
    "                     c='g',\n",
    "                     linewidth=0.5)\n",
    "            if np.mean(curve_df['data']) >= 50:\n",
    "                print('invalid curve file name:', file)\n",
    "plt.title('open coil current curves, total number: {}'.format(count_current_open))\n",
    "print('number of open coil current curves:', count_current_open)           "
   ]
  },
  {
   "attachments": {},
   "cell_type": "markdown",
   "id": "cf22c375",
   "metadata": {},
   "source": [
    "#### plot every 2k"
   ]
  },
  {
   "cell_type": "code",
   "execution_count": null,
   "id": "96f37a95",
   "metadata": {},
   "outputs": [],
   "source": [
    "ME.MechOperMconfig.plot_every_2k(dir_data_washed, \n",
    "                                 'current_open',\n",
    "                                 date_time_2k = datetime(2022,11,24),\n",
    "                                 date_time_4k = datetime(2022,11,28),\n",
    "                                 date_time_6k = datetime(2022,12,12),\n",
    "                                 date_time_8k = datetime(2022,12,14),\n",
    "                                 date_time_10k = datetime(2022,12,16),\n",
    "                                )  "
   ]
  },
  {
   "attachments": {},
   "cell_type": "markdown",
   "id": "dd966812",
   "metadata": {},
   "source": [
    "#### invalid curve plot"
   ]
  },
  {
   "cell_type": "code",
   "execution_count": null,
   "id": "8ca2a7c4",
   "metadata": {},
   "outputs": [],
   "source": [
    "file = '2022_11_24_11_47_9_257_current_open.csv'\n",
    "curve_df_test = pd.read_csv(os.path.join(cur_dir, file), header=0)\n",
    "plt.plot(curve_df_test['data'],\n",
    "         c='g',\n",
    "         linewidth=0.5)"
   ]
  },
  {
   "attachments": {},
   "cell_type": "markdown",
   "id": "35a7151a",
   "metadata": {},
   "source": [
    "### 2.2.4_Current_close\n",
    "#### total plot"
   ]
  },
  {
   "cell_type": "code",
   "execution_count": null,
   "id": "e843fb35",
   "metadata": {},
   "outputs": [],
   "source": [
    "count_current_close = 0\n",
    "for cur_dir, dirs, files in os.walk(dir_data_washed):\n",
    "    \n",
    "    # plot close coil current curve\n",
    "    plt.figure(dpi=200)\n",
    "    for file in files:\n",
    "\n",
    "        if 'current_close' in file:\n",
    "            count_current_close += 1\n",
    "            curve_df = pd.read_csv(os.path.join(cur_dir, file), header=0)\n",
    "            plt.plot(curve_df['data'],\n",
    "                     c='g',\n",
    "                     linewidth=0.5)\n",
    "            # if np.mean(curve_df['data']) >= 50:\n",
    "            #     print('invalid curve file name:', file)\n",
    "plt.title('close coil current curves, total number: {}'.format(count_current_close))\n",
    "print('number of close coil current curves:', count_current_close)           "
   ]
  },
  {
   "attachments": {},
   "cell_type": "markdown",
   "id": "9040b955",
   "metadata": {},
   "source": [
    "#### plot every 2k"
   ]
  },
  {
   "cell_type": "code",
   "execution_count": null,
   "id": "17a5c659",
   "metadata": {},
   "outputs": [],
   "source": [
    "ME.MechOperMconfig.plot_every_2k(dir_data_washed, \n",
    "                                 'current_close',\n",
    "                                 date_time_2k = datetime(2022,11,24),\n",
    "                                 date_time_4k = datetime(2022,11,28),\n",
    "                                 date_time_6k = datetime(2022,12,12),\n",
    "                                 date_time_8k = datetime(2022,12,14),\n",
    "                                 date_time_10k = datetime(2022,12,16),\n",
    "                                )  "
   ]
  },
  {
   "attachments": {},
   "cell_type": "markdown",
   "id": "08543423",
   "metadata": {},
   "source": [
    "### 2.2.5_Travel open without reclosing"
   ]
  },
  {
   "cell_type": "code",
   "execution_count": null,
   "id": "b6d48ebb",
   "metadata": {},
   "outputs": [],
   "source": [
    "ME.MechOperMconfig.plot_all_csv(dir_noreclosing_washed, 'travel_open')\n",
    "ME.MechOperMconfig.plot_every_2k(dir_noreclosing_washed, \n",
    "                                 'travel_open',\n",
    "                                 date_time_2k = datetime(2022,11,24),\n",
    "                                 date_time_4k = datetime(2022,11,28),\n",
    "                                 date_time_6k = datetime(2022,12,12),\n",
    "                                 date_time_8k = datetime(2022,12,14),\n",
    "                                 date_time_10k = datetime(2022,12,16),\n",
    "                                )  "
   ]
  },
  {
   "attachments": {},
   "cell_type": "markdown",
   "id": "c3abd13b",
   "metadata": {},
   "source": [
    "### 2.2.6_Travel close without reclosing"
   ]
  },
  {
   "cell_type": "code",
   "execution_count": null,
   "id": "707386f0",
   "metadata": {},
   "outputs": [],
   "source": [
    "ME.MechOperMconfig.plot_all_csv(dir_noreclosing_washed, 'travel_close')\n",
    "ME.MechOperMconfig.plot_every_2k(dir_noreclosing_washed, \n",
    "                                 'travel_close',\n",
    "                                 date_time_2k = datetime(2022,11,24),\n",
    "                                 date_time_4k = datetime(2022,11,28),\n",
    "                                 date_time_6k = datetime(2022,12,12),\n",
    "                                 date_time_8k = datetime(2022,12,14),\n",
    "                                 date_time_10k = datetime(2022,12,16),\n",
    "                                )  "
   ]
  },
  {
   "attachments": {},
   "cell_type": "markdown",
   "id": "31ae8619",
   "metadata": {},
   "source": [
    "### 2.2.7_Current open without reclosing "
   ]
  },
  {
   "cell_type": "code",
   "execution_count": null,
   "id": "4477a806",
   "metadata": {},
   "outputs": [],
   "source": [
    "ME.MechOperMconfig.plot_all_csv(dir_noreclosing_washed, 'current_open')\n",
    "ME.MechOperMconfig.plot_every_2k(dir_noreclosing_washed, \n",
    "                                 'current_open',\n",
    "                                 date_time_2k = datetime(2022,11,24),\n",
    "                                 date_time_4k = datetime(2022,11,28),\n",
    "                                 date_time_6k = datetime(2022,12,12),\n",
    "                                 date_time_8k = datetime(2022,12,14),\n",
    "                                 date_time_10k = datetime(2022,12,16),\n",
    "                                )  "
   ]
  },
  {
   "attachments": {},
   "cell_type": "markdown",
   "id": "31ae8619",
   "metadata": {},
   "source": [
    "### 2.2.8_Current close without reclosing "
   ]
  },
  {
   "cell_type": "code",
   "execution_count": null,
   "id": "4477a806",
   "metadata": {},
   "outputs": [],
   "source": [
    "ME.MechOperMconfig.plot_all_csv(dir_noreclosing_washed, 'current_close')\n",
    "ME.MechOperMconfig.plot_every_2k(dir_noreclosing_washed, \n",
    "                                 'current_close',\n",
    "                                 date_time_2k = datetime(2022,11,24),\n",
    "                                 date_time_4k = datetime(2022,11,28),\n",
    "                                 date_time_6k = datetime(2022,12,12),\n",
    "                                 date_time_8k = datetime(2022,12,14),\n",
    "                                 date_time_10k = datetime(2022,12,16),\n",
    "                                )  "
   ]
  },
  {
   "attachments": {},
   "cell_type": "markdown",
   "id": "08fe1451",
   "metadata": {},
   "source": [
    "# 3_Parameter calculation\n",
    "## 3.1_Travel"
   ]
  },
  {
   "cell_type": "code",
   "execution_count": 2,
   "id": "f805edcb",
   "metadata": {},
   "outputs": [
    {
     "name": "stdout",
     "output_type": "stream",
     "text": [
      "---------------------------------------------------------------------------------------------------\n",
      "para              std     start   end     max     mean    median  min     span    alm_u   alm_l   \n",
      "---------------------------------------------------------------------------------------------------\n",
      "travel            0.70    47.41   48.74   49.19   47.89   47.84   46.43   2.75    65.00   35.00   \n"
     ]
    },
    {
     "name": "stderr",
     "output_type": "stream",
     "text": [
      "C:\\Users\\cnbofan1\\ABB\\Safe Digital in CN - Documents - Documents\\06_Test and Analytics\\01_Code\\lib\\safedigital\\mechanical.py:421: UserWarning: \n",
      "\n",
      "`distplot` is a deprecated function and will be removed in seaborn v0.14.0.\n",
      "\n",
      "Please adapt your code to use either `displot` (a figure-level function with\n",
      "similar flexibility) or `histplot` (an axes-level function for histograms).\n",
      "\n",
      "For a guide to updating your code to use the new functions, please see\n",
      "https://gist.github.com/mwaskom/de44147ed2974457ad6372750bbe5751\n",
      "\n",
      "  sns.distplot(data, bins=50, kde=True, ax=axs22, vertical=True, fit=stats.norm)\n"
     ]
    },
    {
     "data": {
      "image/png": "[encoded data removed]",
      "text/plain": [
       "<Figure size 640x480 with 2 Axes>"
      ]
     },
     "metadata": {},
     "output_type": "display_data"
    }
   ],
   "source": [
    "travel_list = []\n",
    "for cur_dir, dirs, files in os.walk(dir_noreclosing_washed):\n",
    "    for file in files:\n",
    "        if 'travel_open' or 'travel close' in file:\n",
    "            angle_df = pd.read_csv(os.path.join(cur_dir, file), header=0)\n",
    "            # print(angle_df.columns)\n",
    "            angle_arr = np.array(angle_df['data'])\n",
    "            # print(angle_arr.shape)\n",
    "            head = np.mean(angle_arr[:50])\n",
    "            tail = np.mean(angle_arr[-50:])\n",
    "            # print(head,tail)\n",
    "            travel, angle_open, angle_close  = ME.MechOperMconfig.cal_travel(head=head, tail=tail)\n",
    "            travel_list.append(travel)\n",
    "travel_arr = np.array(travel_list)\n",
    "print('---------------------------------------------------------------------------------------------------')\n",
    "print('{:<18}{:<8}{:<8}{:<8}{:<8}{:<8}{:<8}{:<8}{:<8}{:<8}{:<8}'.format('para', 'std', \n",
    "                                                                        'start', 'end', \n",
    "                                                                        'max', 'mean', \n",
    "                                                                        'median', 'min', \n",
    "                                                                        'span', 'alm_u', \n",
    "                                                                        'alm_l'))\n",
    "print('---------------------------------------------------------------------------------------------------')\n",
    "ME.MechOperMconfig.para_dist_plot(travel_arr, \n",
    "                                  title='travel', \n",
    "                                  ylabel='travel in degree')\n"
   ]
  }
 ],
 "metadata": {
  "kernelspec": {
   "display_name": "Python 3.7.4 64-bit",
   "language": "python",
   "name": "python3"
  },
  "language_info": {
   "codemirror_mode": {
    "name": "ipython",
    "version": 3
   },
   "file_extension": ".py",
   "mimetype": "text/x-python",
   "name": "python",
   "nbconvert_exporter": "python",
   "pygments_lexer": "ipython3",
   "version": "3.7.4 (tags/v3.7.4:e09359112e, Jul  8 2019, 20:34:20) [MSC v.1916 64 bit (AMD64)]"
  },
  "vscode": {
   "interpreter": {
    "hash": "8e2917dd90de65e54e965e2cca08bfe511c1536f550d14f70f5df6e965d88763"
   }
  }
 },
 "nbformat": 4,
 "nbformat_minor": 5
}
