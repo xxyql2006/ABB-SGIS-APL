{
 "cells": [
  {
   "cell_type": "markdown",
   "id": "7168aec6",
   "metadata": {},
   "source": [
    "# Initialization"
   ]
  },
  {
   "cell_type": "code",
   "execution_count": 4,
   "metadata": {},
   "outputs": [
    {
     "name": "stdout",
     "output_type": "stream",
     "text": [
      "c:\\Users\\cnbofan1\\ABB\\Safe Digital in CN - Documents - Documents\\06_Test and Analytics\n"
     ]
    }
   ],
   "source": [
    "from safedigital import mechanical as ME  # 从safedigital包中导入temperature库\n",
    "import pandas as pd\n",
    "import os\n",
    "import numpy as np\n",
    "import matplotlib.pyplot as plt\n",
    "# from MRC.sswgmm_mech import mech_monitor as mm\n",
    "os.chdir('../')\n",
    "cur_dir = os.getcwd()\n",
    "print(cur_dir)"
   ]
  },
  {
   "cell_type": "markdown",
   "id": "39d50615",
   "metadata": {},
   "source": [
    "# 20220906\n",
    "Dummy ME test"
   ]
  },
  {
   "cell_type": "code",
   "execution_count": null,
   "id": "afd1adf3",
   "metadata": {},
   "outputs": [],
   "source": [
    "# generate data path\n",
    "test_date = '20220906'  # test date \n",
    "device_id = '_ME_SA12kV_SGCC_Dummy' # test name\n",
    "test_folder = test_date + device_id  # Test folder\n",
    "folder_data_raw = cur_dir + '\\\\' + test_folder + '\\\\' + '0_Data original'  # raw data folder\n",
    "# folder_data_clean = cur_dir + '\\\\' + test_folder + '\\\\' + '1_Data formatted'  # folder for cleaned data\n",
    "# file_name_angcl = 'Angle(Close).csv'  # file name\n",
    "file_name_angcl = 'Angle(Close).txt'  # file name\n",
    "file_path_angcl = folder_data_raw + '\\\\' + file_name_angcl\n",
    "\n",
    "# # read data\n",
    "with open(file_path_angcl, \"r\", encoding='utf-8') as f: \n",
    "    data = f.read()\n",
    "wave_list = data.split(\"WaveID:\")\n",
    "# print(wave_list)\n",
    "plt.figure(dpi=200)\n",
    "plt.title('close curve')\n",
    "plt.xlabel('sampling interval 0.4ms')\n",
    "plt.ylabel('angle in degree')\n",
    "for num, wave_str in enumerate(wave_list):\n",
    "\tif wave_str == '':\n",
    "\t\tpass\n",
    "\telse:\n",
    "\t\tstart_idx = wave_str.find('Waveform data:') + len('Waveform data:')\n",
    "\t\tend_idx = wave_str.find('\\n')\n",
    "\t\twave_list = wave_str[start_idx:end_idx].split(',')\n",
    "\t\twave_narray = np.array(wave_list).astype('float64')\n",
    "\t\tplt.plot(wave_narray, c='g')\n",
    "\t\t# form the array for all curves\n",
    "\t\tif num == 1:\n",
    "\t\t\twave_list_narray = wave_narray.reshape(-1,1)\n",
    "\t\telif num > 1:\n",
    "\t\t\twave_list_narray = np.concatenate((wave_list_narray, \n",
    "\t\t\t\t\t\t\t\t\t\t\t   wave_narray.reshape(-1,1)), \n",
    "\t\t\t\t\t\t\t\t\t\t \t   axis=1)\n",
    "print(wave_list_narray)\n",
    "\n",
    "\n"
   ]
  },
  {
   "cell_type": "markdown",
   "id": "fe951e65",
   "metadata": {},
   "source": [
    "# 20220926\n",
    "Angle sensor installation verification"
   ]
  },
  {
   "cell_type": "code",
   "execution_count": null,
   "id": "7b70bdb1",
   "metadata": {},
   "outputs": [],
   "source": [
    "test_date = r'20220926'  # test date \n",
    "device_id = r'_ME_SA12kV_SGCC_VVV_Installation_Verification' # test name\n",
    "test_folder = test_date + device_id  # Test folder\n",
    "folder_data_raw = cur_dir + '\\\\' + test_folder  # raw data folder\n",
    "# folder_data_clean = cur_dir + '\\\\' + test_folder + '\\\\' + '1_Data formatted'  # folder for cleaned data\n",
    "# file_name_angcl = 'Angle(Close).csv'  # file name\n",
    "supplier = 'Andaxing'\n",
    "file_name_ang = 'angle_open_normal.txt'  # file name\n",
    "file_path_ang = folder_data_raw + '\\\\' + supplier + '\\\\' + file_name_ang\n",
    "ME.DataClean.plot_travel_mconfig(file_path_ang)\n",
    "\n",
    "with open(file_path_ang, \"r\", encoding='utf-8') as f: \n",
    "    data = f.read()\n",
    "wave_list = data.split(\"WaveID:\")\n",
    "# print(wave_list)\n",
    "plt.figure(dpi=200)\n",
    "plt.title('open curve')\n",
    "plt.xlabel('sampling interval 0.4ms')\n",
    "plt.ylabel('angle in degree')\n",
    "for num, wave_str in enumerate(wave_list):\n",
    "\tif wave_str == '':\n",
    "\t\tpass\n",
    "\telse:\n",
    "\t\tstart_idx = wave_str.find('Waveform data:') + len('Waveform data:')\n",
    "\t\tend_idx = wave_str.find('\\n')\n",
    "\t\twave_list = wave_str[start_idx:end_idx].split(',')\n",
    "\t\twave_narray = np.array(wave_list).astype('float64')\n",
    "\t\tplt.plot(wave_narray, c='g', label='tight')\n",
    "\t\t# form the array for all curves\n",
    "\t\tif num == 1:\n",
    "\t\t\twave_list_narray = wave_narray.reshape(-1,1)\n",
    "\t\telif num > 1:\n",
    "\t\t\twave_list_narray = np.concatenate((wave_list_narray, \n",
    "\t\t\t\t\t\t\t\t\t\t\t   wave_narray.reshape(-1,1)), \n",
    "\t\t\t\t\t\t\t\t\t\t \t   axis=1)\n",
    "\n",
    "file_name_ang = 'angle_open_loose.txt'  # file name\n",
    "file_path_ang = folder_data_raw + '\\\\' + supplier + '\\\\' + file_name_ang\n",
    "\n",
    "with open(file_path_ang, \"r\", encoding='utf-8') as f: \n",
    "    data = f.read()\n",
    "wave_list = data.split(\"WaveID:\")\n",
    "# print(wave_list)\n",
    "# plt.figure(dpi=200)\n",
    "# plt.title('close curve')\n",
    "# plt.xlabel('sampling interval 0.4ms')\n",
    "# plt.ylabel('angle in degree')\n",
    "for num, wave_str in enumerate(wave_list):\n",
    "\tif wave_str == '':\n",
    "\t\tpass\n",
    "\telse:\n",
    "\t\tstart_idx = wave_str.find('Waveform data:') + len('Waveform data:')\n",
    "\t\tend_idx = wave_str.find('\\n')\n",
    "\t\twave_list = wave_str[start_idx:end_idx].split(',')\n",
    "\t\twave_narray = np.array(wave_list).astype('float64')\n",
    "\t\tplt.plot(wave_narray, c='r',label='loose')\n",
    "\t\t# form the array for all curves\n",
    "\t\tif num == 1:\n",
    "\t\t\twave_list_narray = wave_narray.reshape(-1,1)\n",
    "\t\telif num > 1:\n",
    "\t\t\twave_list_narray = np.concatenate((wave_list_narray, \n",
    "\t\t\t\t\t\t\t\t\t\t\t   wave_narray.reshape(-1,1)), \n",
    "\t\t\t\t\t\t\t\t\t\t \t   axis=1)\n",
    "plt.legend()\n"
   ]
  },
  {
   "cell_type": "markdown",
   "id": "a2cd285b",
   "metadata": {},
   "source": [
    "# 20220929\n",
    "Pre-test for SGCC endurance test"
   ]
  },
  {
   "cell_type": "code",
   "execution_count": null,
   "id": "281da78d",
   "metadata": {},
   "outputs": [],
   "source": [
    "# generate data path\n",
    "test_date = '20220929'  # test date \n",
    "device_id = '_ME_SA12kV_SGCC_Pre_Life_Test' # test name\n",
    "test_folder = test_date + device_id  # Test folder\n",
    "folder_data_raw = cur_dir + '\\\\' + test_folder + '\\\\' + '0_Data original'  # raw data folder\n",
    "# folder_data_clean = cur_dir + '\\\\' + test_folder + '\\\\' + '1_Data formatted'  # folder for cleaned data\n",
    "file_name_angcl = 'angle_close.txt'  # file name\n",
    "file_path_angcl = folder_data_raw + '\\\\' + file_name_angcl\n",
    "file_name_angop = 'angle_open.txt'  # file name\n",
    "file_path_angop = folder_data_raw + '\\\\' + file_name_angop\n",
    "ME.DataClean.plot_travel_mconfig(file_path_angcl)\n",
    "ME.DataClean.plot_travel_mconfig(file_path_angop)"
   ]
  }
 ],
 "metadata": {
  "kernelspec": {
   "display_name": "Python 3.7.4 64-bit",
   "language": "python",
   "name": "python3"
  },
  "language_info": {
   "codemirror_mode": {
    "name": "ipython",
    "version": 3
   },
   "file_extension": ".py",
   "mimetype": "text/x-python",
   "name": "python",
   "nbconvert_exporter": "python",
   "pygments_lexer": "ipython3",
   "version": "3.7.4"
  },
  "vscode": {
   "interpreter": {
    "hash": "8e2917dd90de65e54e965e2cca08bfe511c1536f550d14f70f5df6e965d88763"
   }
  }
 },
 "nbformat": 4,
 "nbformat_minor": 5
}
