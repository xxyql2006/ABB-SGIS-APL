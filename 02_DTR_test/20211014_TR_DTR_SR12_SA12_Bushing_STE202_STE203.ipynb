{
 "cells": [
  {
   "cell_type": "markdown",
   "metadata": {},
   "source": [
    "# This note book is used for plotting graphs of TR/DTR test results."
   ]
  },
  {
   "cell_type": "code",
   "execution_count": 1,
   "metadata": {
    "pycharm": {
     "name": "#%%\n"
    }
   },
   "outputs": [
    {
     "name": "stdout",
     "output_type": "stream",
     "text": [
      "c:\\Users\\cnbofan1\\ABB\\Safe Digital in CN - Documents - Documents\\06_Test and Analytics\n"
     ]
    }
   ],
   "source": [
    "from safedigital import temperature as TR\n",
    "import random\n",
    "import matplotlib.pyplot as plt\n",
    "import pandas as pd\n",
    "import os\n",
    "import seaborn as sns\n",
    "sns.set(color_codes=True)\n",
    "os.chdir('../')\n",
    "curDirectory = r'c:\\Users\\cnbofan1\\ABB\\Safe Digital in CN - Documents - Documents\\06_Test and Analytics'\n",
    "print(curDirectory)"
   ]
  },
  {
   "cell_type": "markdown",
   "metadata": {
    "collapsed": false,
    "pycharm": {
     "name": "#%% md\n"
    }
   },
   "source": [
    "# Safe Ring 12kV\n",
    "## Plot of 20211014\n",
    "the temperature is not balanced"
   ]
  },
  {
   "cell_type": "code",
   "execution_count": 2,
   "metadata": {
    "collapsed": false,
    "pycharm": {
     "name": "#%%\n"
    }
   },
   "outputs": [
    {
     "name": "stdout",
     "output_type": "stream",
     "text": [
      "Temperature balance time is 2021-10-14 15:37:30.\n"
     ]
    },
    {
     "ename": "KeyError",
     "evalue": "'t_C1_snsr_skin_horz_top'",
     "output_type": "error",
     "traceback": [
      "\u001b[1;31m---------------------------------------------------------------------------\u001b[0m",
      "\u001b[1;31mKeyError\u001b[0m                                  Traceback (most recent call last)",
      "\u001b[1;32mc:\\Users\\cnbofan1\\AppData\\Local\\Programs\\Python\\Python37\\lib\\site-packages\\pandas\\core\\indexes\\base.py\u001b[0m in \u001b[0;36mget_loc\u001b[1;34m(self, key, method, tolerance)\u001b[0m\n\u001b[0;32m   3360\u001b[0m             \u001b[1;32mtry\u001b[0m\u001b[1;33m:\u001b[0m\u001b[1;33m\u001b[0m\u001b[1;33m\u001b[0m\u001b[0m\n\u001b[1;32m-> 3361\u001b[1;33m                 \u001b[1;32mreturn\u001b[0m \u001b[0mself\u001b[0m\u001b[1;33m.\u001b[0m\u001b[0m_engine\u001b[0m\u001b[1;33m.\u001b[0m\u001b[0mget_loc\u001b[0m\u001b[1;33m(\u001b[0m\u001b[0mcasted_key\u001b[0m\u001b[1;33m)\u001b[0m\u001b[1;33m\u001b[0m\u001b[1;33m\u001b[0m\u001b[0m\n\u001b[0m\u001b[0;32m   3362\u001b[0m             \u001b[1;32mexcept\u001b[0m \u001b[0mKeyError\u001b[0m \u001b[1;32mas\u001b[0m \u001b[0merr\u001b[0m\u001b[1;33m:\u001b[0m\u001b[1;33m\u001b[0m\u001b[1;33m\u001b[0m\u001b[0m\n",
      "\u001b[1;32mc:\\Users\\cnbofan1\\AppData\\Local\\Programs\\Python\\Python37\\lib\\site-packages\\pandas\\_libs\\index.pyx\u001b[0m in \u001b[0;36mpandas._libs.index.IndexEngine.get_loc\u001b[1;34m()\u001b[0m\n",
      "\u001b[1;32mc:\\Users\\cnbofan1\\AppData\\Local\\Programs\\Python\\Python37\\lib\\site-packages\\pandas\\_libs\\index.pyx\u001b[0m in \u001b[0;36mpandas._libs.index.IndexEngine.get_loc\u001b[1;34m()\u001b[0m\n",
      "\u001b[1;32mpandas\\_libs\\hashtable_class_helper.pxi\u001b[0m in \u001b[0;36mpandas._libs.hashtable.PyObjectHashTable.get_item\u001b[1;34m()\u001b[0m\n",
      "\u001b[1;32mpandas\\_libs\\hashtable_class_helper.pxi\u001b[0m in \u001b[0;36mpandas._libs.hashtable.PyObjectHashTable.get_item\u001b[1;34m()\u001b[0m\n",
      "\u001b[1;31mKeyError\u001b[0m: 't_C1_snsr_skin_horz_top'",
      "\nThe above exception was the direct cause of the following exception:\n",
      "\u001b[1;31mKeyError\u001b[0m                                  Traceback (most recent call last)",
      "\u001b[1;32m~\\AppData\\Local\\Temp\\ipykernel_2600\\1709280793.py\u001b[0m in \u001b[0;36m<module>\u001b[1;34m\u001b[0m\n\u001b[0;32m     19\u001b[0m                 \u001b[0mline_style\u001b[0m\u001b[1;33m=\u001b[0m\u001b[0mline_style\u001b[0m\u001b[1;33m,\u001b[0m\u001b[1;33m\u001b[0m\u001b[1;33m\u001b[0m\u001b[0m\n\u001b[0;32m     20\u001b[0m                 \u001b[0mline_color\u001b[0m\u001b[1;33m=\u001b[0m\u001b[0mline_color\u001b[0m\u001b[1;33m,\u001b[0m\u001b[1;33m\u001b[0m\u001b[1;33m\u001b[0m\u001b[0m\n\u001b[1;32m---> 21\u001b[1;33m                 title='Skin TR sensor test Phase A @ 630A')\n\u001b[0m",
      "\u001b[1;32m~\\ABB\\Safe Digital in CN - Documents - Documents\\06_Test and Analytics\\01_Code\\lib\\safedigital\\temperature.py\u001b[0m in \u001b[0;36mt_plot\u001b[1;34m(self, col_name_list, **kwargs)\u001b[0m\n\u001b[0;32m    224\u001b[0m             \u001b[1;31m# self.interp_data_zero(name)\u001b[0m\u001b[1;33m\u001b[0m\u001b[1;33m\u001b[0m\u001b[1;33m\u001b[0m\u001b[0m\n\u001b[0;32m    225\u001b[0m             plt.plot(self.data['snsr_time_index'].values,\n\u001b[1;32m--> 226\u001b[1;33m                      \u001b[0mself\u001b[0m\u001b[1;33m.\u001b[0m\u001b[0mdata\u001b[0m\u001b[1;33m[\u001b[0m\u001b[0mname\u001b[0m\u001b[1;33m]\u001b[0m\u001b[1;33m.\u001b[0m\u001b[0mvalues\u001b[0m \u001b[1;33m-\u001b[0m\u001b[1;33m\u001b[0m\u001b[1;33m\u001b[0m\u001b[0m\n\u001b[0m\u001b[0;32m    227\u001b[0m                      \u001b[0mself\u001b[0m\u001b[1;33m.\u001b[0m\u001b[0mdata\u001b[0m\u001b[1;33m[\u001b[0m\u001b[1;34m't_oil_bottle_1'\u001b[0m\u001b[1;33m]\u001b[0m\u001b[1;33m.\u001b[0m\u001b[0mvalues\u001b[0m\u001b[1;33m,\u001b[0m\u001b[1;33m\u001b[0m\u001b[1;33m\u001b[0m\u001b[0m\n\u001b[0;32m    228\u001b[0m                      \u001b[0mlinestyle\u001b[0m\u001b[1;33m=\u001b[0m\u001b[0mline_style\u001b[0m\u001b[1;33m[\u001b[0m\u001b[0mi\u001b[0m\u001b[1;33m]\u001b[0m\u001b[1;33m,\u001b[0m\u001b[1;33m\u001b[0m\u001b[1;33m\u001b[0m\u001b[0m\n",
      "\u001b[1;32mc:\\Users\\cnbofan1\\AppData\\Local\\Programs\\Python\\Python37\\lib\\site-packages\\pandas\\core\\frame.py\u001b[0m in \u001b[0;36m__getitem__\u001b[1;34m(self, key)\u001b[0m\n\u001b[0;32m   3456\u001b[0m             \u001b[1;32mif\u001b[0m \u001b[0mself\u001b[0m\u001b[1;33m.\u001b[0m\u001b[0mcolumns\u001b[0m\u001b[1;33m.\u001b[0m\u001b[0mnlevels\u001b[0m \u001b[1;33m>\u001b[0m \u001b[1;36m1\u001b[0m\u001b[1;33m:\u001b[0m\u001b[1;33m\u001b[0m\u001b[1;33m\u001b[0m\u001b[0m\n\u001b[0;32m   3457\u001b[0m                 \u001b[1;32mreturn\u001b[0m \u001b[0mself\u001b[0m\u001b[1;33m.\u001b[0m\u001b[0m_getitem_multilevel\u001b[0m\u001b[1;33m(\u001b[0m\u001b[0mkey\u001b[0m\u001b[1;33m)\u001b[0m\u001b[1;33m\u001b[0m\u001b[1;33m\u001b[0m\u001b[0m\n\u001b[1;32m-> 3458\u001b[1;33m             \u001b[0mindexer\u001b[0m \u001b[1;33m=\u001b[0m \u001b[0mself\u001b[0m\u001b[1;33m.\u001b[0m\u001b[0mcolumns\u001b[0m\u001b[1;33m.\u001b[0m\u001b[0mget_loc\u001b[0m\u001b[1;33m(\u001b[0m\u001b[0mkey\u001b[0m\u001b[1;33m)\u001b[0m\u001b[1;33m\u001b[0m\u001b[1;33m\u001b[0m\u001b[0m\n\u001b[0m\u001b[0;32m   3459\u001b[0m             \u001b[1;32mif\u001b[0m \u001b[0mis_integer\u001b[0m\u001b[1;33m(\u001b[0m\u001b[0mindexer\u001b[0m\u001b[1;33m)\u001b[0m\u001b[1;33m:\u001b[0m\u001b[1;33m\u001b[0m\u001b[1;33m\u001b[0m\u001b[0m\n\u001b[0;32m   3460\u001b[0m                 \u001b[0mindexer\u001b[0m \u001b[1;33m=\u001b[0m \u001b[1;33m[\u001b[0m\u001b[0mindexer\u001b[0m\u001b[1;33m]\u001b[0m\u001b[1;33m\u001b[0m\u001b[1;33m\u001b[0m\u001b[0m\n",
      "\u001b[1;32mc:\\Users\\cnbofan1\\AppData\\Local\\Programs\\Python\\Python37\\lib\\site-packages\\pandas\\core\\indexes\\base.py\u001b[0m in \u001b[0;36mget_loc\u001b[1;34m(self, key, method, tolerance)\u001b[0m\n\u001b[0;32m   3361\u001b[0m                 \u001b[1;32mreturn\u001b[0m \u001b[0mself\u001b[0m\u001b[1;33m.\u001b[0m\u001b[0m_engine\u001b[0m\u001b[1;33m.\u001b[0m\u001b[0mget_loc\u001b[0m\u001b[1;33m(\u001b[0m\u001b[0mcasted_key\u001b[0m\u001b[1;33m)\u001b[0m\u001b[1;33m\u001b[0m\u001b[1;33m\u001b[0m\u001b[0m\n\u001b[0;32m   3362\u001b[0m             \u001b[1;32mexcept\u001b[0m \u001b[0mKeyError\u001b[0m \u001b[1;32mas\u001b[0m \u001b[0merr\u001b[0m\u001b[1;33m:\u001b[0m\u001b[1;33m\u001b[0m\u001b[1;33m\u001b[0m\u001b[0m\n\u001b[1;32m-> 3363\u001b[1;33m                 \u001b[1;32mraise\u001b[0m \u001b[0mKeyError\u001b[0m\u001b[1;33m(\u001b[0m\u001b[0mkey\u001b[0m\u001b[1;33m)\u001b[0m \u001b[1;32mfrom\u001b[0m \u001b[0merr\u001b[0m\u001b[1;33m\u001b[0m\u001b[1;33m\u001b[0m\u001b[0m\n\u001b[0m\u001b[0;32m   3364\u001b[0m \u001b[1;33m\u001b[0m\u001b[0m\n\u001b[0;32m   3365\u001b[0m         \u001b[1;32mif\u001b[0m \u001b[0mis_scalar\u001b[0m\u001b[1;33m(\u001b[0m\u001b[0mkey\u001b[0m\u001b[1;33m)\u001b[0m \u001b[1;32mand\u001b[0m \u001b[0misna\u001b[0m\u001b[1;33m(\u001b[0m\u001b[0mkey\u001b[0m\u001b[1;33m)\u001b[0m \u001b[1;32mand\u001b[0m \u001b[1;32mnot\u001b[0m \u001b[0mself\u001b[0m\u001b[1;33m.\u001b[0m\u001b[0mhasnans\u001b[0m\u001b[1;33m:\u001b[0m\u001b[1;33m\u001b[0m\u001b[1;33m\u001b[0m\u001b[0m\n",
      "\u001b[1;31mKeyError\u001b[0m: 't_C1_snsr_skin_horz_top'"
     ]
    },
    {
     "data": {
      "text/plain": [
       "<Figure size 1280x960 with 0 Axes>"
      ]
     },
     "metadata": {},
     "output_type": "display_data"
    }
   ],
   "source": [
    "# file path for 20211014\n",
    "file_path = curDirectory + '\\\\20211014_TR SR40.5kV cable skin horz 630A\\\\1_Data formatted\\\\20211014_data_clean_10s.csv'\n",
    "config_path = curDirectory + '\\\\20211014_TR SR40.5kV cable skin horz 630A\\\\1_Data formatted\\\\2021-10-14_config.json'\n",
    "fig_path = curDirectory + '\\\\20211014_TR SR40.5kV cable skin horz 630A\\\\3_Graphs'\n",
    "\n",
    "# phase A\n",
    "col_list = [\n",
    "    \"t_C1_snsr_skin_horz_top\", \"t_C1_phA_cplr_skin_horz_top\",\n",
    "    \"t_C1_phA_snsr_bushing\", \"t_C1_phA_cplr_bushing\"\n",
    "]\n",
    "\n",
    "line_style = ['-', '--', '-', '--']\n",
    "line_color = ['r', 'r', 'g', 'g']\n",
    "\n",
    "case1014 = TR.TempRiseExperiment(file_path, config_path)\n",
    "case1014.find_balance_index(list(range(18, 48)))\n",
    "case1014.t_plot(col_name_list=col_list,\n",
    "                fig_path=fig_path,\n",
    "                line_style=line_style,\n",
    "                line_color=line_color,\n",
    "                title='Skin TR sensor test Phase A @ 630A')"
   ]
  },
  {
   "cell_type": "markdown",
   "metadata": {},
   "source": [
    "## Plot of 20211015"
   ]
  },
  {
   "cell_type": "code",
   "execution_count": null,
   "metadata": {},
   "outputs": [],
   "source": [
    "file_path = curDirectory + '\\\\20211015_TR SR40.5kV cable skin horz 630A\\\\1_Data formatted\\\\20211015_data_clean_10s.csv'\n",
    "config_path = curDirectory + '\\\\20211015_TR SR40.5kV cable skin horz 630A\\\\1_Data formatted\\\\2021-10-15_config.json'\n",
    "fig_path = curDirectory + '\\\\20211015_TR SR40.5kV cable skin horz 630A\\\\3_Graphs'\n",
    "\n",
    "col_list = [\n",
    "    \"t_C1_phA_snsr_skin_horz_top\", \"t_C1_phA_cplr_skin_horz_top\",\n",
    "    \"t_C1_phA_snsr_bushing\", \"t_C1_phA_cplr_bushing\"\n",
    "]\n",
    "\n",
    "line_style = ['-', '--', '-', '--']\n",
    "line_color = ['r', 'r', 'g', 'g']\n",
    "\n",
    "case1014 = TR.TempRiseExperiment(file_path, config_path)\n",
    "case1014.find_balance_index(list(range(18, 48)))\n",
    "case1014.t_plot(col_name_list=col_list,\n",
    "                fig_path=fig_path,\n",
    "                line_style=line_style,\n",
    "                line_color=line_color,\n",
    "                title='Skin TR sensor test Phase A @ 630A')"
   ]
  },
  {
   "cell_type": "markdown",
   "metadata": {},
   "source": [
    "## Plot of 20211019"
   ]
  },
  {
   "cell_type": "code",
   "execution_count": null,
   "metadata": {},
   "outputs": [],
   "source": [
    "file_path = curDirectory + '\\\\20211019_TR SR40.5kV cable skin vert 630A\\\\1_Data formatted\\\\20211019_data_clean_10s.csv'\n",
    "config_path = curDirectory + '\\\\20211019_TR SR40.5kV cable skin vert 630A\\\\1_Data formatted\\\\2021-10-19_config.json'\n",
    "fig_path = curDirectory + '\\\\20211019_TR SR40.5kV cable skin vert 630A\\\\3_Graphs'\n",
    "\n",
    "col_list = [\n",
    "    \"t_C1_phA_snsr_skin_vert_out\", \"t_C1_phA_cplr_skin_vert_upper\",\n",
    "    \"t_C1_phA_cplr_skin_vert_lower\", \"t_C1_phA_snsr_bushing\",\n",
    "    \"t_C1_phA_cplr_bushing\"\n",
    "]\n",
    "\n",
    "line_style = ['-', '--', ':', '-', '--']\n",
    "line_color = ['r', 'r', 'r', 'g', 'g']\n",
    "\n",
    "case1019 = TR.TempRiseExperiment(file_path, config_path)\n",
    "case1019.find_balance_index(list(range(18, 52)))\n",
    "case1019.t_plot(col_name_list=col_list,\n",
    "                fig_path=fig_path,\n",
    "                line_style=line_style,\n",
    "                line_color=line_color,\n",
    "                title='Skin TR sensor test Phase A @ 630A')"
   ]
  },
  {
   "cell_type": "markdown",
   "metadata": {},
   "source": [
    "## Plot of 20211025"
   ]
  },
  {
   "cell_type": "code",
   "execution_count": null,
   "metadata": {},
   "outputs": [],
   "source": [
    "file_path = curDirectory + '\\\\20211019_TR SR40.5kV cable skin vert 630A\\\\1_Data formatted\\\\20211019_data_clean_10s.csv'\n",
    "config_path = curDirectory + '\\\\20211019_TR SR40.5kV cable skin vert 630A\\\\1_Data formatted\\\\2021-10-19_config.json'\n",
    "fig_path = curDirectory + '\\\\20211019_TR SR40.5kV cable skin vert 630A\\\\3_Graphs'\n",
    "\n",
    "# %%\n",
    "col_list = [\n",
    "    \"t_C1_phA_snsr_skin_vert_out\", \"t_C1_phA_cplr_skin_vert_upper\",\n",
    "    \"t_C1_phA_cplr_skin_vert_lower\", \"t_C1_phA_snsr_bushing\",\n",
    "    \"t_C1_phA_cplr_bushing\"\n",
    "]\n",
    "\n",
    "line_style = ['-', '--', ':', '-', '--']\n",
    "line_color = ['r', 'r', 'r', 'g', 'b']\n",
    "\n",
    "case1019 = TR.TempRiseExperiment(file_path, config_path)\n",
    "case1019.find_balance_index(list(range(18, 52)))\n",
    "case1019.t_plot(col_name_list=col_list,\n",
    "                fig_path=fig_path,\n",
    "                line_style=line_style,\n",
    "                line_color=line_color,\n",
    "                title='Skin TR sensor test Phase A @ 630A')"
   ]
  },
  {
   "cell_type": "markdown",
   "metadata": {},
   "source": [
    "## Plot of 20211101\n",
    "* point 1\n",
    "* point 2"
   ]
  },
  {
   "cell_type": "code",
   "execution_count": null,
   "metadata": {},
   "outputs": [],
   "source": [
    "file_path = curDirectory + '\\\\20211101_DTR&TR_SR12kV 300A\\\\1_Data formatted\\\\20211101_data_clean_10s.csv'\n",
    "config_path = curDirectory + '\\\\20211101_DTR&TR_SR12kV 300A\\\\1_Data formatted\\\\2021-11-01_config.json'\n",
    "fig_path = curDirectory + '\\\\20211101_DTR&TR_SR12kV 300A\\\\3_Graphs'\n",
    "\n",
    "line_style = ['-', '--', ':', '-', '--']\n",
    "line_color = ['r', 'r', 'r', 'g', 'g']\n",
    "\n",
    "case1014 = TR.TempRiseExperiment(file_path, config_path)\n",
    "case1014.find_balance_index(list(range(18, 52)))\n",
    "\n",
    "# %%\n",
    "col_list = [\n",
    "    \"t_C1_phA_snsr_skin_vert_out\", \"t_C1_phA_skin_vert_out_upper\",\n",
    "    \"t_C1_phA_skin_vert_out_low\", \"t_C1_phA_snsr_bushing\", \"t_C1_phA_bushing\"\n",
    "]\n",
    "\n",
    "case1014.t_plot(col_name_list=col_list,\n",
    "                fig_path=fig_path,\n",
    "                line_style=line_style,\n",
    "                line_color=line_color,\n",
    "                title='Skin TR sensor test Phase A @ 300A')"
   ]
  },
  {
   "cell_type": "markdown",
   "metadata": {},
   "source": [
    "## 3 in 1 comparison of 20211104"
   ]
  },
  {
   "cell_type": "code",
   "execution_count": null,
   "metadata": {},
   "outputs": [],
   "source": [
    "file_path = curDirectory + '\\\\20211104_DTR&TR_3in1_SR12kV 300A\\\\1_Data formatted\\\\20211104_data_clean_10s.csv'\n",
    "config_path = curDirectory + '\\\\20211104_DTR&TR_3in1_SR12kV 300A\\\\1_Data formatted\\\\2021-11-04_config.json'\n",
    "fig_path = curDirectory + '\\\\20211104_DTR&TR_3in1_SR12kV 300A\\\\3_Graphs'\n",
    "\n",
    "line_style = ['-', '-', '-', ':', ':', ':']\n",
    "line_color = ['b', 'r', 'g', 'b', 'r', 'g']\n",
    "\n",
    "case = TR.TempRiseExperiment(file_path, config_path)\n",
    "case.find_balance_index(list(range(18, 52)))\n",
    "\n",
    "# %%\n",
    "col_list = [\n",
    "    \"t_C1_phA_snsr_bushing\", \"t_C1_phB_snsr_bushing\", \"t_C1_phC_snsr_bushing\",\n",
    "    \"t_C1_phA_cplr_bushing\", \"t_C1_phB_cplr_bushing\", \"t_C1_phC_cplr_bushing\"\n",
    "]\n",
    "\n",
    "# for i in col_list:\n",
    "#     case.data[i] = case.np_move_avg(case.data[i], 20, mode='valid')\n",
    "\n",
    "case.t_plot(\n",
    "    col_name_list=col_list,\n",
    "    fig_path=fig_path,\n",
    "    line_style=line_style,\n",
    "    line_color=line_color,\n",
    "    title='3in1 sensor test @ 300A')\n"
   ]
  },
  {
   "cell_type": "markdown",
   "metadata": {},
   "source": [
    "## 3 in 1 comparison of 20211102"
   ]
  },
  {
   "cell_type": "code",
   "execution_count": null,
   "metadata": {},
   "outputs": [],
   "source": [
    "# plot 20211102\n",
    "file_path = curDirectory + '\\\\20211102_DTR&TR_3in1_SR12kV 630A\\\\1_Data formatted\\\\20211102_data_clean_10s.csv'\n",
    "config_path = curDirectory + '\\\\20211102_DTR&TR_3in1_SR12kV 630A\\\\1_Data formatted\\\\2021-11-02_config.json'\n",
    "fig_path = curDirectory + '\\\\20211102_DTR&TR_3in1_SR12kV 630A\\\\3_Graphs'\n",
    "\n",
    "line_style = ['-', '-', '-', ':', ':', ':']\n",
    "line_color = ['b', 'r', 'g', 'b', 'r', 'g']\n",
    "\n",
    "case = TR.TempRiseExperiment(file_path, config_path)\n",
    "case.find_balance_index(list(range(18, 52)))\n",
    "\n",
    "# %%\n",
    "col_list = [\n",
    "    \"t_C1_phA_snsr_bushing\", \"t_C1_phB_snsr_bushing\", \"t_C1_phC_snsr_bushing\",\n",
    "    't_C1_phA_cplr_bushing', 't_C1_phB_cplr_bushing', 't_C1_phC_cplr_bushing'\n",
    "]\n",
    "\n",
    "# for i in col_list:\n",
    "#     case.data[i] = case.np_move_avg(case.data[i], 20, mode='valid')\n",
    "\n",
    "case.t_plot(col_name_list=col_list,\n",
    "            fig_path=fig_path,\n",
    "            line_style=line_style,\n",
    "            line_color=line_color,\n",
    "            title='3 in 1 sensor test on 20211102 @ 630A not balanced')\n",
    "\n",
    "\n"
   ]
  },
  {
   "cell_type": "markdown",
   "metadata": {},
   "source": [
    "## 3 in 1 comparison of 20211103"
   ]
  },
  {
   "cell_type": "code",
   "execution_count": null,
   "metadata": {},
   "outputs": [],
   "source": [
    "# plot 20211103\n",
    "file_path = curDirectory + '\\\\20211103_DTR&TR_3in1_SR12kV 630A\\\\1_Data formatted\\\\20211103_data_clean_10s.csv'\n",
    "config_path = curDirectory + '\\\\20211103_DTR&TR_3in1_SR12kV 630A\\\\1_Data formatted\\\\2021-11-03_config.json'\n",
    "fig_path = curDirectory + '\\\\20211103_DTR&TR_3in1_SR12kV 630A\\\\3_Graphs'\n",
    "\n",
    "line_style = ['-', '-', '-', ':', ':', ':']\n",
    "line_color = ['b', 'r', 'g', 'b', 'r', 'g']\n",
    "\n",
    "case = TR.TempRiseExperiment(file_path, config_path)\n",
    "case.find_balance_index(list(range(18, 52)))\n",
    "\n",
    "# %%\n",
    "col_list = [\n",
    "    \"t_C1_phA_snsr_bushing\", \"t_C1_phB_snsr_bushing\", \"t_C1_phC_snsr_bushing\",\n",
    "    't_C1_phA_cplr_bushing', 't_C1_phB_cplr_bushing', 't_C1_phC_cplr_bushing'\n",
    "]\n",
    "\n",
    "# for i in col_list:\n",
    "#     case.data[i] = case.np_move_avg(case.data[i], 20, mode='valid')\n",
    "\n",
    "case.t_plot(col_name_list=col_list,\n",
    "            fig_path=fig_path,\n",
    "            line_style=line_style,\n",
    "            line_color=line_color,\n",
    "            title='3 in 1 sensor test on 20211103 @ 630A')\n",
    "\n",
    "\n"
   ]
  },
  {
   "cell_type": "markdown",
   "metadata": {},
   "source": [
    "## 3 in 1 comparison of 20211105"
   ]
  },
  {
   "cell_type": "code",
   "execution_count": null,
   "metadata": {},
   "outputs": [],
   "source": [
    "# plot 20211105\n",
    "file_path = curDirectory + '\\\\20211105_DTR&TR_SR12kV 630A\\\\1_Data formatted\\\\20211105_data_clean_10s.csv'\n",
    "config_path = curDirectory + '\\\\20211105_DTR&TR_SR12kV 630A\\\\1_Data formatted\\\\2021-11-05_config.json'\n",
    "fig_path = curDirectory + '\\\\20211105_DTR&TR_SR12kV 630A\\\\3_Graphs'\n",
    "\n",
    "line_style = ['-', '-', '-']\n",
    "line_color = ['b', 'r', 'g']\n",
    "\n",
    "case = TR.TempRiseExperiment(file_path, config_path)\n",
    "case.find_balance_index(list(range(18, 52)))\n",
    "\n",
    "# %%\n",
    "col_list = [\n",
    "    \"t_C1_phA_snsr_bushing\", \"t_C1_phB_snsr_bushing\", \"t_C1_phC_snsr_bushing\",\n",
    "]\n",
    "\n",
    "# for i in col_list:\n",
    "#     case.data[i] = case.np_move_avg(case.data[i], 20, mode='valid')\n",
    "\n",
    "case.t_plot(col_name_list=col_list,\n",
    "            fig_path=fig_path,\n",
    "            line_style=line_style,\n",
    "            line_color=line_color,\n",
    "            title='regular sensor test on 20211105 @ 630A')\n"
   ]
  },
  {
   "cell_type": "markdown",
   "metadata": {},
   "source": [
    "## Calculate Time Constant T 20211029\n",
    "Constant current 100A"
   ]
  },
  {
   "cell_type": "code",
   "execution_count": 3,
   "metadata": {},
   "outputs": [
    {
     "name": "stdout",
     "output_type": "stream",
     "text": [
      "Temperature balance time is 2021-10-29 13:26:20.\n"
     ]
    },
    {
     "ename": "KeyError",
     "evalue": "0",
     "output_type": "error",
     "traceback": [
      "\u001b[1;31m---------------------------------------------------------------------------\u001b[0m",
      "\u001b[1;31mKeyError\u001b[0m                                  Traceback (most recent call last)",
      "\u001b[1;32m~\\AppData\\Local\\Temp\\ipykernel_2600\\1990033783.py\u001b[0m in \u001b[0;36m<module>\u001b[1;34m\u001b[0m\n\u001b[0;32m      5\u001b[0m \u001b[0mcase1029\u001b[0m \u001b[1;33m=\u001b[0m \u001b[0mTR\u001b[0m\u001b[1;33m.\u001b[0m\u001b[0mTempRiseExperiment\u001b[0m\u001b[1;33m(\u001b[0m\u001b[0mfile_path\u001b[0m\u001b[1;33m,\u001b[0m \u001b[0mconfig_path\u001b[0m\u001b[1;33m)\u001b[0m\u001b[1;33m\u001b[0m\u001b[1;33m\u001b[0m\u001b[0m\n\u001b[0;32m      6\u001b[0m \u001b[0mcase1029\u001b[0m\u001b[1;33m.\u001b[0m\u001b[0mfind_balance_index\u001b[0m\u001b[1;33m(\u001b[0m\u001b[0mlist\u001b[0m\u001b[1;33m(\u001b[0m\u001b[0mrange\u001b[0m\u001b[1;33m(\u001b[0m\u001b[1;36m18\u001b[0m\u001b[1;33m,\u001b[0m \u001b[1;36m52\u001b[0m\u001b[1;33m)\u001b[0m\u001b[1;33m)\u001b[0m\u001b[1;33m)\u001b[0m\u001b[1;33m\u001b[0m\u001b[1;33m\u001b[0m\u001b[0m\n\u001b[1;32m----> 7\u001b[1;33m \u001b[0mcase1029\u001b[0m\u001b[1;33m.\u001b[0m\u001b[0mdata_filter\u001b[0m\u001b[1;33m(\u001b[0m\u001b[1;34m't_env'\u001b[0m\u001b[1;33m,\u001b[0m \u001b[1;36m0\u001b[0m\u001b[1;33m,\u001b[0m \u001b[1;36m100\u001b[0m\u001b[1;33m,\u001b[0m \u001b[1;36m1\u001b[0m\u001b[1;33m)\u001b[0m\u001b[1;33m\u001b[0m\u001b[1;33m\u001b[0m\u001b[0m\n\u001b[0m\u001b[0;32m      8\u001b[0m \u001b[0mcase1029\u001b[0m\u001b[1;33m.\u001b[0m\u001b[0minterp_data_nan\u001b[0m\u001b[1;33m(\u001b[0m\u001b[1;34m't_env'\u001b[0m\u001b[1;33m)\u001b[0m\u001b[1;33m\u001b[0m\u001b[1;33m\u001b[0m\u001b[0m\n\u001b[0;32m      9\u001b[0m \u001b[0mcase1029\u001b[0m\u001b[1;33m.\u001b[0m\u001b[0mcal_dynamic_time_const\u001b[0m\u001b[1;33m(\u001b[0m\u001b[1;34m't_C1_phA_snsr_bushing'\u001b[0m\u001b[1;33m,\u001b[0m \u001b[0mt_amb\u001b[0m\u001b[1;33m=\u001b[0m\u001b[1;34m't_oil'\u001b[0m\u001b[1;33m)\u001b[0m\u001b[1;33m\u001b[0m\u001b[1;33m\u001b[0m\u001b[0m\n",
      "\u001b[1;32m~\\ABB\\Safe Digital in CN - Documents - Documents\\06_Test and Analytics\\01_Code\\lib\\safedigital\\temperature.py\u001b[0m in \u001b[0;36mdata_filter\u001b[1;34m(self, col_name, low_lim, high_lim, diff_lim)\u001b[0m\n\u001b[0;32m   1113\u001b[0m         \u001b[1;33m-\u001b[0m\u001b[1;33m-\u001b[0m\u001b[1;33m-\u001b[0m\u001b[1;33m-\u001b[0m\u001b[1;33m-\u001b[0m\u001b[1;33m-\u001b[0m\u001b[1;33m-\u001b[0m\u001b[1;33m\u001b[0m\u001b[1;33m\u001b[0m\u001b[0m\n\u001b[0;32m   1114\u001b[0m         \"\"\"\n\u001b[1;32m-> 1115\u001b[1;33m         \u001b[0mdiff\u001b[0m \u001b[1;33m=\u001b[0m \u001b[0mnp\u001b[0m\u001b[1;33m.\u001b[0m\u001b[0mdiff\u001b[0m\u001b[1;33m(\u001b[0m\u001b[0mself\u001b[0m\u001b[1;33m.\u001b[0m\u001b[0mdata\u001b[0m\u001b[1;33m[\u001b[0m\u001b[0mcol_name\u001b[0m\u001b[1;33m]\u001b[0m\u001b[1;33m.\u001b[0m\u001b[0mvalues\u001b[0m\u001b[1;33m,\u001b[0m \u001b[0mprepend\u001b[0m\u001b[1;33m=\u001b[0m\u001b[0mself\u001b[0m\u001b[1;33m.\u001b[0m\u001b[0mdata\u001b[0m\u001b[1;33m.\u001b[0m\u001b[0mloc\u001b[0m\u001b[1;33m[\u001b[0m\u001b[1;36m0\u001b[0m\u001b[1;33m,\u001b[0m \u001b[0mcol_name\u001b[0m\u001b[1;33m]\u001b[0m\u001b[1;33m)\u001b[0m\u001b[1;33m\u001b[0m\u001b[1;33m\u001b[0m\u001b[0m\n\u001b[0m\u001b[0;32m   1116\u001b[0m         \u001b[1;32mfor\u001b[0m \u001b[0mj\u001b[0m \u001b[1;32min\u001b[0m \u001b[0mrange\u001b[0m\u001b[1;33m(\u001b[0m\u001b[0mlen\u001b[0m\u001b[1;33m(\u001b[0m\u001b[0mself\u001b[0m\u001b[1;33m.\u001b[0m\u001b[0mdata\u001b[0m\u001b[1;33m)\u001b[0m\u001b[1;33m)\u001b[0m\u001b[1;33m:\u001b[0m\u001b[1;33m\u001b[0m\u001b[1;33m\u001b[0m\u001b[0m\n\u001b[0;32m   1117\u001b[0m             if ((self.data.loc[j, col_name] > high_lim) or\n",
      "\u001b[1;32mc:\\Users\\cnbofan1\\AppData\\Local\\Programs\\Python\\Python37\\lib\\site-packages\\pandas\\core\\indexing.py\u001b[0m in \u001b[0;36m__getitem__\u001b[1;34m(self, key)\u001b[0m\n\u001b[0;32m    923\u001b[0m                 \u001b[1;32mwith\u001b[0m \u001b[0msuppress\u001b[0m\u001b[1;33m(\u001b[0m\u001b[0mKeyError\u001b[0m\u001b[1;33m,\u001b[0m \u001b[0mIndexError\u001b[0m\u001b[1;33m)\u001b[0m\u001b[1;33m:\u001b[0m\u001b[1;33m\u001b[0m\u001b[1;33m\u001b[0m\u001b[0m\n\u001b[0;32m    924\u001b[0m                     \u001b[1;32mreturn\u001b[0m \u001b[0mself\u001b[0m\u001b[1;33m.\u001b[0m\u001b[0mobj\u001b[0m\u001b[1;33m.\u001b[0m\u001b[0m_get_value\u001b[0m\u001b[1;33m(\u001b[0m\u001b[1;33m*\u001b[0m\u001b[0mkey\u001b[0m\u001b[1;33m,\u001b[0m \u001b[0mtakeable\u001b[0m\u001b[1;33m=\u001b[0m\u001b[0mself\u001b[0m\u001b[1;33m.\u001b[0m\u001b[0m_takeable\u001b[0m\u001b[1;33m)\u001b[0m\u001b[1;33m\u001b[0m\u001b[1;33m\u001b[0m\u001b[0m\n\u001b[1;32m--> 925\u001b[1;33m             \u001b[1;32mreturn\u001b[0m \u001b[0mself\u001b[0m\u001b[1;33m.\u001b[0m\u001b[0m_getitem_tuple\u001b[0m\u001b[1;33m(\u001b[0m\u001b[0mkey\u001b[0m\u001b[1;33m)\u001b[0m\u001b[1;33m\u001b[0m\u001b[1;33m\u001b[0m\u001b[0m\n\u001b[0m\u001b[0;32m    926\u001b[0m         \u001b[1;32melse\u001b[0m\u001b[1;33m:\u001b[0m\u001b[1;33m\u001b[0m\u001b[1;33m\u001b[0m\u001b[0m\n\u001b[0;32m    927\u001b[0m             \u001b[1;31m# we by definition only have the 0th axis\u001b[0m\u001b[1;33m\u001b[0m\u001b[1;33m\u001b[0m\u001b[1;33m\u001b[0m\u001b[0m\n",
      "\u001b[1;32mc:\\Users\\cnbofan1\\AppData\\Local\\Programs\\Python\\Python37\\lib\\site-packages\\pandas\\core\\indexing.py\u001b[0m in \u001b[0;36m_getitem_tuple\u001b[1;34m(self, tup)\u001b[0m\n\u001b[0;32m   1098\u001b[0m     \u001b[1;32mdef\u001b[0m \u001b[0m_getitem_tuple\u001b[0m\u001b[1;33m(\u001b[0m\u001b[0mself\u001b[0m\u001b[1;33m,\u001b[0m \u001b[0mtup\u001b[0m\u001b[1;33m:\u001b[0m \u001b[0mtuple\u001b[0m\u001b[1;33m)\u001b[0m\u001b[1;33m:\u001b[0m\u001b[1;33m\u001b[0m\u001b[1;33m\u001b[0m\u001b[0m\n\u001b[0;32m   1099\u001b[0m         \u001b[1;32mwith\u001b[0m \u001b[0msuppress\u001b[0m\u001b[1;33m(\u001b[0m\u001b[0mIndexingError\u001b[0m\u001b[1;33m)\u001b[0m\u001b[1;33m:\u001b[0m\u001b[1;33m\u001b[0m\u001b[1;33m\u001b[0m\u001b[0m\n\u001b[1;32m-> 1100\u001b[1;33m             \u001b[1;32mreturn\u001b[0m \u001b[0mself\u001b[0m\u001b[1;33m.\u001b[0m\u001b[0m_getitem_lowerdim\u001b[0m\u001b[1;33m(\u001b[0m\u001b[0mtup\u001b[0m\u001b[1;33m)\u001b[0m\u001b[1;33m\u001b[0m\u001b[1;33m\u001b[0m\u001b[0m\n\u001b[0m\u001b[0;32m   1101\u001b[0m \u001b[1;33m\u001b[0m\u001b[0m\n\u001b[0;32m   1102\u001b[0m         \u001b[1;31m# no multi-index, so validate all of the indexers\u001b[0m\u001b[1;33m\u001b[0m\u001b[1;33m\u001b[0m\u001b[1;33m\u001b[0m\u001b[0m\n",
      "\u001b[1;32mc:\\Users\\cnbofan1\\AppData\\Local\\Programs\\Python\\Python37\\lib\\site-packages\\pandas\\core\\indexing.py\u001b[0m in \u001b[0;36m_getitem_lowerdim\u001b[1;34m(self, tup)\u001b[0m\n\u001b[0;32m    836\u001b[0m                 \u001b[1;31m# We don't need to check for tuples here because those are\u001b[0m\u001b[1;33m\u001b[0m\u001b[1;33m\u001b[0m\u001b[1;33m\u001b[0m\u001b[0m\n\u001b[0;32m    837\u001b[0m                 \u001b[1;31m#  caught by the _is_nested_tuple_indexer check above.\u001b[0m\u001b[1;33m\u001b[0m\u001b[1;33m\u001b[0m\u001b[1;33m\u001b[0m\u001b[0m\n\u001b[1;32m--> 838\u001b[1;33m                 \u001b[0msection\u001b[0m \u001b[1;33m=\u001b[0m \u001b[0mself\u001b[0m\u001b[1;33m.\u001b[0m\u001b[0m_getitem_axis\u001b[0m\u001b[1;33m(\u001b[0m\u001b[0mkey\u001b[0m\u001b[1;33m,\u001b[0m \u001b[0maxis\u001b[0m\u001b[1;33m=\u001b[0m\u001b[0mi\u001b[0m\u001b[1;33m)\u001b[0m\u001b[1;33m\u001b[0m\u001b[1;33m\u001b[0m\u001b[0m\n\u001b[0m\u001b[0;32m    839\u001b[0m \u001b[1;33m\u001b[0m\u001b[0m\n\u001b[0;32m    840\u001b[0m                 \u001b[1;31m# We should never have a scalar section here, because\u001b[0m\u001b[1;33m\u001b[0m\u001b[1;33m\u001b[0m\u001b[1;33m\u001b[0m\u001b[0m\n",
      "\u001b[1;32mc:\\Users\\cnbofan1\\AppData\\Local\\Programs\\Python\\Python37\\lib\\site-packages\\pandas\\core\\indexing.py\u001b[0m in \u001b[0;36m_getitem_axis\u001b[1;34m(self, key, axis)\u001b[0m\n\u001b[0;32m   1162\u001b[0m         \u001b[1;31m# fall thru to straight lookup\u001b[0m\u001b[1;33m\u001b[0m\u001b[1;33m\u001b[0m\u001b[1;33m\u001b[0m\u001b[0m\n\u001b[0;32m   1163\u001b[0m         \u001b[0mself\u001b[0m\u001b[1;33m.\u001b[0m\u001b[0m_validate_key\u001b[0m\u001b[1;33m(\u001b[0m\u001b[0mkey\u001b[0m\u001b[1;33m,\u001b[0m \u001b[0maxis\u001b[0m\u001b[1;33m)\u001b[0m\u001b[1;33m\u001b[0m\u001b[1;33m\u001b[0m\u001b[0m\n\u001b[1;32m-> 1164\u001b[1;33m         \u001b[1;32mreturn\u001b[0m \u001b[0mself\u001b[0m\u001b[1;33m.\u001b[0m\u001b[0m_get_label\u001b[0m\u001b[1;33m(\u001b[0m\u001b[0mkey\u001b[0m\u001b[1;33m,\u001b[0m \u001b[0maxis\u001b[0m\u001b[1;33m=\u001b[0m\u001b[0maxis\u001b[0m\u001b[1;33m)\u001b[0m\u001b[1;33m\u001b[0m\u001b[1;33m\u001b[0m\u001b[0m\n\u001b[0m\u001b[0;32m   1165\u001b[0m \u001b[1;33m\u001b[0m\u001b[0m\n\u001b[0;32m   1166\u001b[0m     \u001b[1;32mdef\u001b[0m \u001b[0m_get_slice_axis\u001b[0m\u001b[1;33m(\u001b[0m\u001b[0mself\u001b[0m\u001b[1;33m,\u001b[0m \u001b[0mslice_obj\u001b[0m\u001b[1;33m:\u001b[0m \u001b[0mslice\u001b[0m\u001b[1;33m,\u001b[0m \u001b[0maxis\u001b[0m\u001b[1;33m:\u001b[0m \u001b[0mint\u001b[0m\u001b[1;33m)\u001b[0m\u001b[1;33m:\u001b[0m\u001b[1;33m\u001b[0m\u001b[1;33m\u001b[0m\u001b[0m\n",
      "\u001b[1;32mc:\\Users\\cnbofan1\\AppData\\Local\\Programs\\Python\\Python37\\lib\\site-packages\\pandas\\core\\indexing.py\u001b[0m in \u001b[0;36m_get_label\u001b[1;34m(self, label, axis)\u001b[0m\n\u001b[0;32m   1111\u001b[0m     \u001b[1;32mdef\u001b[0m \u001b[0m_get_label\u001b[0m\u001b[1;33m(\u001b[0m\u001b[0mself\u001b[0m\u001b[1;33m,\u001b[0m \u001b[0mlabel\u001b[0m\u001b[1;33m,\u001b[0m \u001b[0maxis\u001b[0m\u001b[1;33m:\u001b[0m \u001b[0mint\u001b[0m\u001b[1;33m)\u001b[0m\u001b[1;33m:\u001b[0m\u001b[1;33m\u001b[0m\u001b[1;33m\u001b[0m\u001b[0m\n\u001b[0;32m   1112\u001b[0m         \u001b[1;31m# GH#5667 this will fail if the label is not present in the axis.\u001b[0m\u001b[1;33m\u001b[0m\u001b[1;33m\u001b[0m\u001b[1;33m\u001b[0m\u001b[0m\n\u001b[1;32m-> 1113\u001b[1;33m         \u001b[1;32mreturn\u001b[0m \u001b[0mself\u001b[0m\u001b[1;33m.\u001b[0m\u001b[0mobj\u001b[0m\u001b[1;33m.\u001b[0m\u001b[0mxs\u001b[0m\u001b[1;33m(\u001b[0m\u001b[0mlabel\u001b[0m\u001b[1;33m,\u001b[0m \u001b[0maxis\u001b[0m\u001b[1;33m=\u001b[0m\u001b[0maxis\u001b[0m\u001b[1;33m)\u001b[0m\u001b[1;33m\u001b[0m\u001b[1;33m\u001b[0m\u001b[0m\n\u001b[0m\u001b[0;32m   1114\u001b[0m \u001b[1;33m\u001b[0m\u001b[0m\n\u001b[0;32m   1115\u001b[0m     \u001b[1;32mdef\u001b[0m \u001b[0m_handle_lowerdim_multi_index_axis0\u001b[0m\u001b[1;33m(\u001b[0m\u001b[0mself\u001b[0m\u001b[1;33m,\u001b[0m \u001b[0mtup\u001b[0m\u001b[1;33m:\u001b[0m \u001b[0mtuple\u001b[0m\u001b[1;33m)\u001b[0m\u001b[1;33m:\u001b[0m\u001b[1;33m\u001b[0m\u001b[1;33m\u001b[0m\u001b[0m\n",
      "\u001b[1;32mc:\\Users\\cnbofan1\\AppData\\Local\\Programs\\Python\\Python37\\lib\\site-packages\\pandas\\core\\generic.py\u001b[0m in \u001b[0;36mxs\u001b[1;34m(self, key, axis, level, drop_level)\u001b[0m\n\u001b[0;32m   3774\u001b[0m                 \u001b[1;32mraise\u001b[0m \u001b[0mTypeError\u001b[0m\u001b[1;33m(\u001b[0m\u001b[1;34mf\"Expected label or tuple of labels, got {key}\"\u001b[0m\u001b[1;33m)\u001b[0m \u001b[1;32mfrom\u001b[0m \u001b[0me\u001b[0m\u001b[1;33m\u001b[0m\u001b[1;33m\u001b[0m\u001b[0m\n\u001b[0;32m   3775\u001b[0m         \u001b[1;32melse\u001b[0m\u001b[1;33m:\u001b[0m\u001b[1;33m\u001b[0m\u001b[1;33m\u001b[0m\u001b[0m\n\u001b[1;32m-> 3776\u001b[1;33m             \u001b[0mloc\u001b[0m \u001b[1;33m=\u001b[0m \u001b[0mindex\u001b[0m\u001b[1;33m.\u001b[0m\u001b[0mget_loc\u001b[0m\u001b[1;33m(\u001b[0m\u001b[0mkey\u001b[0m\u001b[1;33m)\u001b[0m\u001b[1;33m\u001b[0m\u001b[1;33m\u001b[0m\u001b[0m\n\u001b[0m\u001b[0;32m   3777\u001b[0m \u001b[1;33m\u001b[0m\u001b[0m\n\u001b[0;32m   3778\u001b[0m             \u001b[1;32mif\u001b[0m \u001b[0misinstance\u001b[0m\u001b[1;33m(\u001b[0m\u001b[0mloc\u001b[0m\u001b[1;33m,\u001b[0m \u001b[0mnp\u001b[0m\u001b[1;33m.\u001b[0m\u001b[0mndarray\u001b[0m\u001b[1;33m)\u001b[0m\u001b[1;33m:\u001b[0m\u001b[1;33m\u001b[0m\u001b[1;33m\u001b[0m\u001b[0m\n",
      "\u001b[1;32mc:\\Users\\cnbofan1\\AppData\\Local\\Programs\\Python\\Python37\\lib\\site-packages\\pandas\\core\\indexes\\datetimes.py\u001b[0m in \u001b[0;36mget_loc\u001b[1;34m(self, key, method, tolerance)\u001b[0m\n\u001b[0;32m    698\u001b[0m         \u001b[1;32melse\u001b[0m\u001b[1;33m:\u001b[0m\u001b[1;33m\u001b[0m\u001b[1;33m\u001b[0m\u001b[0m\n\u001b[0;32m    699\u001b[0m             \u001b[1;31m# unrecognized type\u001b[0m\u001b[1;33m\u001b[0m\u001b[1;33m\u001b[0m\u001b[1;33m\u001b[0m\u001b[0m\n\u001b[1;32m--> 700\u001b[1;33m             \u001b[1;32mraise\u001b[0m \u001b[0mKeyError\u001b[0m\u001b[1;33m(\u001b[0m\u001b[0mkey\u001b[0m\u001b[1;33m)\u001b[0m\u001b[1;33m\u001b[0m\u001b[1;33m\u001b[0m\u001b[0m\n\u001b[0m\u001b[0;32m    701\u001b[0m \u001b[1;33m\u001b[0m\u001b[0m\n\u001b[0;32m    702\u001b[0m         \u001b[1;32mtry\u001b[0m\u001b[1;33m:\u001b[0m\u001b[1;33m\u001b[0m\u001b[1;33m\u001b[0m\u001b[0m\n",
      "\u001b[1;31mKeyError\u001b[0m: 0"
     ]
    }
   ],
   "source": [
    "file_path = curDirectory + '\\\\20211029_DTR&TR_SR12kV 100A\\\\1_Data formatted\\\\20211029_data_clean_10s.csv'\n",
    "config_path = curDirectory + '\\\\20211029_DTR&TR_SR12kV 100A\\\\1_Data formatted\\\\2021-10-29_config.json'\n",
    "fig_path = curDirectory + '\\\\20211029_DTR&TR_SR12kV 100A\\\\3_Graphs'\n",
    "\n",
    "case1029 = TR.TempRiseExperiment(file_path, config_path)\n",
    "case1029.find_balance_index(list(range(18, 52)))\n",
    "case1029.data_filter('t_env', 0, 100, 1)\n",
    "case1029.interp_data_nan('t_env')\n",
    "case1029.cal_dynamic_time_const('t_C1_phA_snsr_bushing', t_amb='t_oil')\n",
    "case1029.cal_dynamic_time_const('t_C1_phB_snsr_bushing', t_amb='t_oil')\n",
    "case1029.cal_dynamic_time_const('t_C1_phC_snsr_bushing', t_amb='t_oil')\n",
    "# case1029.t_plot(['t_env', 't_oil_bottle_2'])\n",
    "print(case1029.data.loc[case1029.bal_idx, 't_C1_phA_snsr_bushing'] - case1029.t_oil.loc[case1029.bal_idx])\n",
    "print(case1029.data.loc[case1029.bal_idx, 't_C1_phB_snsr_bushing'] - case1029.t_oil.loc[case1029.bal_idx])\n",
    "print(case1029.data.loc[case1029.bal_idx, 't_C1_phC_snsr_bushing'] - case1029.t_oil.loc[case1029.bal_idx])\n"
   ]
  },
  {
   "cell_type": "markdown",
   "metadata": {},
   "source": [
    "## Calculate Time constant T 20211101\n",
    "constant current 300A"
   ]
  },
  {
   "cell_type": "code",
   "execution_count": 4,
   "metadata": {},
   "outputs": [
    {
     "name": "stdout",
     "output_type": "stream",
     "text": [
      "Temperature balance time is 2021-11-01 13:42:50.\n"
     ]
    },
    {
     "ename": "KeyError",
     "evalue": "0",
     "output_type": "error",
     "traceback": [
      "\u001b[1;31m---------------------------------------------------------------------------\u001b[0m",
      "\u001b[1;31mKeyError\u001b[0m                                  Traceback (most recent call last)",
      "\u001b[1;32m~\\AppData\\Local\\Temp\\ipykernel_2600\\998495929.py\u001b[0m in \u001b[0;36m<module>\u001b[1;34m\u001b[0m\n\u001b[0;32m      4\u001b[0m \u001b[0mcase1101\u001b[0m \u001b[1;33m=\u001b[0m \u001b[0mTR\u001b[0m\u001b[1;33m.\u001b[0m\u001b[0mTempRiseExperiment\u001b[0m\u001b[1;33m(\u001b[0m\u001b[0mfile_path\u001b[0m\u001b[1;33m,\u001b[0m \u001b[0mconfig_path\u001b[0m\u001b[1;33m)\u001b[0m\u001b[1;33m\u001b[0m\u001b[1;33m\u001b[0m\u001b[0m\n\u001b[0;32m      5\u001b[0m \u001b[0mcase1101\u001b[0m\u001b[1;33m.\u001b[0m\u001b[0mfind_balance_index\u001b[0m\u001b[1;33m(\u001b[0m\u001b[0mlist\u001b[0m\u001b[1;33m(\u001b[0m\u001b[0mrange\u001b[0m\u001b[1;33m(\u001b[0m\u001b[1;36m18\u001b[0m\u001b[1;33m,\u001b[0m \u001b[1;36m52\u001b[0m\u001b[1;33m)\u001b[0m\u001b[1;33m)\u001b[0m\u001b[1;33m)\u001b[0m\u001b[1;33m\u001b[0m\u001b[1;33m\u001b[0m\u001b[0m\n\u001b[1;32m----> 6\u001b[1;33m \u001b[0mcase1101\u001b[0m\u001b[1;33m.\u001b[0m\u001b[0mdata_filter\u001b[0m\u001b[1;33m(\u001b[0m\u001b[1;34m't_env'\u001b[0m\u001b[1;33m,\u001b[0m \u001b[1;36m0\u001b[0m\u001b[1;33m,\u001b[0m \u001b[1;36m100\u001b[0m\u001b[1;33m,\u001b[0m \u001b[1;36m1\u001b[0m\u001b[1;33m)\u001b[0m\u001b[1;33m\u001b[0m\u001b[1;33m\u001b[0m\u001b[0m\n\u001b[0m\u001b[0;32m      7\u001b[0m \u001b[0mcase1101\u001b[0m\u001b[1;33m.\u001b[0m\u001b[0minterp_data_nan\u001b[0m\u001b[1;33m(\u001b[0m\u001b[1;34m't_env'\u001b[0m\u001b[1;33m)\u001b[0m\u001b[1;33m\u001b[0m\u001b[1;33m\u001b[0m\u001b[0m\n\u001b[0;32m      8\u001b[0m \u001b[0mcase1101\u001b[0m\u001b[1;33m.\u001b[0m\u001b[0mcal_dynamic_time_const\u001b[0m\u001b[1;33m(\u001b[0m\u001b[1;34m't_C1_phA_snsr_bushing'\u001b[0m\u001b[1;33m,\u001b[0m \u001b[0mt_amb\u001b[0m\u001b[1;33m=\u001b[0m\u001b[1;34m't_oil'\u001b[0m\u001b[1;33m)\u001b[0m\u001b[1;33m\u001b[0m\u001b[1;33m\u001b[0m\u001b[0m\n",
      "\u001b[1;32m~\\ABB\\Safe Digital in CN - Documents - Documents\\06_Test and Analytics\\01_Code\\lib\\safedigital\\temperature.py\u001b[0m in \u001b[0;36mdata_filter\u001b[1;34m(self, col_name, low_lim, high_lim, diff_lim)\u001b[0m\n\u001b[0;32m   1113\u001b[0m         \u001b[1;33m-\u001b[0m\u001b[1;33m-\u001b[0m\u001b[1;33m-\u001b[0m\u001b[1;33m-\u001b[0m\u001b[1;33m-\u001b[0m\u001b[1;33m-\u001b[0m\u001b[1;33m-\u001b[0m\u001b[1;33m\u001b[0m\u001b[1;33m\u001b[0m\u001b[0m\n\u001b[0;32m   1114\u001b[0m         \"\"\"\n\u001b[1;32m-> 1115\u001b[1;33m         \u001b[0mdiff\u001b[0m \u001b[1;33m=\u001b[0m \u001b[0mnp\u001b[0m\u001b[1;33m.\u001b[0m\u001b[0mdiff\u001b[0m\u001b[1;33m(\u001b[0m\u001b[0mself\u001b[0m\u001b[1;33m.\u001b[0m\u001b[0mdata\u001b[0m\u001b[1;33m[\u001b[0m\u001b[0mcol_name\u001b[0m\u001b[1;33m]\u001b[0m\u001b[1;33m.\u001b[0m\u001b[0mvalues\u001b[0m\u001b[1;33m,\u001b[0m \u001b[0mprepend\u001b[0m\u001b[1;33m=\u001b[0m\u001b[0mself\u001b[0m\u001b[1;33m.\u001b[0m\u001b[0mdata\u001b[0m\u001b[1;33m.\u001b[0m\u001b[0mloc\u001b[0m\u001b[1;33m[\u001b[0m\u001b[1;36m0\u001b[0m\u001b[1;33m,\u001b[0m \u001b[0mcol_name\u001b[0m\u001b[1;33m]\u001b[0m\u001b[1;33m)\u001b[0m\u001b[1;33m\u001b[0m\u001b[1;33m\u001b[0m\u001b[0m\n\u001b[0m\u001b[0;32m   1116\u001b[0m         \u001b[1;32mfor\u001b[0m \u001b[0mj\u001b[0m \u001b[1;32min\u001b[0m \u001b[0mrange\u001b[0m\u001b[1;33m(\u001b[0m\u001b[0mlen\u001b[0m\u001b[1;33m(\u001b[0m\u001b[0mself\u001b[0m\u001b[1;33m.\u001b[0m\u001b[0mdata\u001b[0m\u001b[1;33m)\u001b[0m\u001b[1;33m)\u001b[0m\u001b[1;33m:\u001b[0m\u001b[1;33m\u001b[0m\u001b[1;33m\u001b[0m\u001b[0m\n\u001b[0;32m   1117\u001b[0m             if ((self.data.loc[j, col_name] > high_lim) or\n",
      "\u001b[1;32mc:\\Users\\cnbofan1\\AppData\\Local\\Programs\\Python\\Python37\\lib\\site-packages\\pandas\\core\\indexing.py\u001b[0m in \u001b[0;36m__getitem__\u001b[1;34m(self, key)\u001b[0m\n\u001b[0;32m    923\u001b[0m                 \u001b[1;32mwith\u001b[0m \u001b[0msuppress\u001b[0m\u001b[1;33m(\u001b[0m\u001b[0mKeyError\u001b[0m\u001b[1;33m,\u001b[0m \u001b[0mIndexError\u001b[0m\u001b[1;33m)\u001b[0m\u001b[1;33m:\u001b[0m\u001b[1;33m\u001b[0m\u001b[1;33m\u001b[0m\u001b[0m\n\u001b[0;32m    924\u001b[0m                     \u001b[1;32mreturn\u001b[0m \u001b[0mself\u001b[0m\u001b[1;33m.\u001b[0m\u001b[0mobj\u001b[0m\u001b[1;33m.\u001b[0m\u001b[0m_get_value\u001b[0m\u001b[1;33m(\u001b[0m\u001b[1;33m*\u001b[0m\u001b[0mkey\u001b[0m\u001b[1;33m,\u001b[0m \u001b[0mtakeable\u001b[0m\u001b[1;33m=\u001b[0m\u001b[0mself\u001b[0m\u001b[1;33m.\u001b[0m\u001b[0m_takeable\u001b[0m\u001b[1;33m)\u001b[0m\u001b[1;33m\u001b[0m\u001b[1;33m\u001b[0m\u001b[0m\n\u001b[1;32m--> 925\u001b[1;33m             \u001b[1;32mreturn\u001b[0m \u001b[0mself\u001b[0m\u001b[1;33m.\u001b[0m\u001b[0m_getitem_tuple\u001b[0m\u001b[1;33m(\u001b[0m\u001b[0mkey\u001b[0m\u001b[1;33m)\u001b[0m\u001b[1;33m\u001b[0m\u001b[1;33m\u001b[0m\u001b[0m\n\u001b[0m\u001b[0;32m    926\u001b[0m         \u001b[1;32melse\u001b[0m\u001b[1;33m:\u001b[0m\u001b[1;33m\u001b[0m\u001b[1;33m\u001b[0m\u001b[0m\n\u001b[0;32m    927\u001b[0m             \u001b[1;31m# we by definition only have the 0th axis\u001b[0m\u001b[1;33m\u001b[0m\u001b[1;33m\u001b[0m\u001b[1;33m\u001b[0m\u001b[0m\n",
      "\u001b[1;32mc:\\Users\\cnbofan1\\AppData\\Local\\Programs\\Python\\Python37\\lib\\site-packages\\pandas\\core\\indexing.py\u001b[0m in \u001b[0;36m_getitem_tuple\u001b[1;34m(self, tup)\u001b[0m\n\u001b[0;32m   1098\u001b[0m     \u001b[1;32mdef\u001b[0m \u001b[0m_getitem_tuple\u001b[0m\u001b[1;33m(\u001b[0m\u001b[0mself\u001b[0m\u001b[1;33m,\u001b[0m \u001b[0mtup\u001b[0m\u001b[1;33m:\u001b[0m \u001b[0mtuple\u001b[0m\u001b[1;33m)\u001b[0m\u001b[1;33m:\u001b[0m\u001b[1;33m\u001b[0m\u001b[1;33m\u001b[0m\u001b[0m\n\u001b[0;32m   1099\u001b[0m         \u001b[1;32mwith\u001b[0m \u001b[0msuppress\u001b[0m\u001b[1;33m(\u001b[0m\u001b[0mIndexingError\u001b[0m\u001b[1;33m)\u001b[0m\u001b[1;33m:\u001b[0m\u001b[1;33m\u001b[0m\u001b[1;33m\u001b[0m\u001b[0m\n\u001b[1;32m-> 1100\u001b[1;33m             \u001b[1;32mreturn\u001b[0m \u001b[0mself\u001b[0m\u001b[1;33m.\u001b[0m\u001b[0m_getitem_lowerdim\u001b[0m\u001b[1;33m(\u001b[0m\u001b[0mtup\u001b[0m\u001b[1;33m)\u001b[0m\u001b[1;33m\u001b[0m\u001b[1;33m\u001b[0m\u001b[0m\n\u001b[0m\u001b[0;32m   1101\u001b[0m \u001b[1;33m\u001b[0m\u001b[0m\n\u001b[0;32m   1102\u001b[0m         \u001b[1;31m# no multi-index, so validate all of the indexers\u001b[0m\u001b[1;33m\u001b[0m\u001b[1;33m\u001b[0m\u001b[1;33m\u001b[0m\u001b[0m\n",
      "\u001b[1;32mc:\\Users\\cnbofan1\\AppData\\Local\\Programs\\Python\\Python37\\lib\\site-packages\\pandas\\core\\indexing.py\u001b[0m in \u001b[0;36m_getitem_lowerdim\u001b[1;34m(self, tup)\u001b[0m\n\u001b[0;32m    836\u001b[0m                 \u001b[1;31m# We don't need to check for tuples here because those are\u001b[0m\u001b[1;33m\u001b[0m\u001b[1;33m\u001b[0m\u001b[1;33m\u001b[0m\u001b[0m\n\u001b[0;32m    837\u001b[0m                 \u001b[1;31m#  caught by the _is_nested_tuple_indexer check above.\u001b[0m\u001b[1;33m\u001b[0m\u001b[1;33m\u001b[0m\u001b[1;33m\u001b[0m\u001b[0m\n\u001b[1;32m--> 838\u001b[1;33m                 \u001b[0msection\u001b[0m \u001b[1;33m=\u001b[0m \u001b[0mself\u001b[0m\u001b[1;33m.\u001b[0m\u001b[0m_getitem_axis\u001b[0m\u001b[1;33m(\u001b[0m\u001b[0mkey\u001b[0m\u001b[1;33m,\u001b[0m \u001b[0maxis\u001b[0m\u001b[1;33m=\u001b[0m\u001b[0mi\u001b[0m\u001b[1;33m)\u001b[0m\u001b[1;33m\u001b[0m\u001b[1;33m\u001b[0m\u001b[0m\n\u001b[0m\u001b[0;32m    839\u001b[0m \u001b[1;33m\u001b[0m\u001b[0m\n\u001b[0;32m    840\u001b[0m                 \u001b[1;31m# We should never have a scalar section here, because\u001b[0m\u001b[1;33m\u001b[0m\u001b[1;33m\u001b[0m\u001b[1;33m\u001b[0m\u001b[0m\n",
      "\u001b[1;32mc:\\Users\\cnbofan1\\AppData\\Local\\Programs\\Python\\Python37\\lib\\site-packages\\pandas\\core\\indexing.py\u001b[0m in \u001b[0;36m_getitem_axis\u001b[1;34m(self, key, axis)\u001b[0m\n\u001b[0;32m   1162\u001b[0m         \u001b[1;31m# fall thru to straight lookup\u001b[0m\u001b[1;33m\u001b[0m\u001b[1;33m\u001b[0m\u001b[1;33m\u001b[0m\u001b[0m\n\u001b[0;32m   1163\u001b[0m         \u001b[0mself\u001b[0m\u001b[1;33m.\u001b[0m\u001b[0m_validate_key\u001b[0m\u001b[1;33m(\u001b[0m\u001b[0mkey\u001b[0m\u001b[1;33m,\u001b[0m \u001b[0maxis\u001b[0m\u001b[1;33m)\u001b[0m\u001b[1;33m\u001b[0m\u001b[1;33m\u001b[0m\u001b[0m\n\u001b[1;32m-> 1164\u001b[1;33m         \u001b[1;32mreturn\u001b[0m \u001b[0mself\u001b[0m\u001b[1;33m.\u001b[0m\u001b[0m_get_label\u001b[0m\u001b[1;33m(\u001b[0m\u001b[0mkey\u001b[0m\u001b[1;33m,\u001b[0m \u001b[0maxis\u001b[0m\u001b[1;33m=\u001b[0m\u001b[0maxis\u001b[0m\u001b[1;33m)\u001b[0m\u001b[1;33m\u001b[0m\u001b[1;33m\u001b[0m\u001b[0m\n\u001b[0m\u001b[0;32m   1165\u001b[0m \u001b[1;33m\u001b[0m\u001b[0m\n\u001b[0;32m   1166\u001b[0m     \u001b[1;32mdef\u001b[0m \u001b[0m_get_slice_axis\u001b[0m\u001b[1;33m(\u001b[0m\u001b[0mself\u001b[0m\u001b[1;33m,\u001b[0m \u001b[0mslice_obj\u001b[0m\u001b[1;33m:\u001b[0m \u001b[0mslice\u001b[0m\u001b[1;33m,\u001b[0m \u001b[0maxis\u001b[0m\u001b[1;33m:\u001b[0m \u001b[0mint\u001b[0m\u001b[1;33m)\u001b[0m\u001b[1;33m:\u001b[0m\u001b[1;33m\u001b[0m\u001b[1;33m\u001b[0m\u001b[0m\n",
      "\u001b[1;32mc:\\Users\\cnbofan1\\AppData\\Local\\Programs\\Python\\Python37\\lib\\site-packages\\pandas\\core\\indexing.py\u001b[0m in \u001b[0;36m_get_label\u001b[1;34m(self, label, axis)\u001b[0m\n\u001b[0;32m   1111\u001b[0m     \u001b[1;32mdef\u001b[0m \u001b[0m_get_label\u001b[0m\u001b[1;33m(\u001b[0m\u001b[0mself\u001b[0m\u001b[1;33m,\u001b[0m \u001b[0mlabel\u001b[0m\u001b[1;33m,\u001b[0m \u001b[0maxis\u001b[0m\u001b[1;33m:\u001b[0m \u001b[0mint\u001b[0m\u001b[1;33m)\u001b[0m\u001b[1;33m:\u001b[0m\u001b[1;33m\u001b[0m\u001b[1;33m\u001b[0m\u001b[0m\n\u001b[0;32m   1112\u001b[0m         \u001b[1;31m# GH#5667 this will fail if the label is not present in the axis.\u001b[0m\u001b[1;33m\u001b[0m\u001b[1;33m\u001b[0m\u001b[1;33m\u001b[0m\u001b[0m\n\u001b[1;32m-> 1113\u001b[1;33m         \u001b[1;32mreturn\u001b[0m \u001b[0mself\u001b[0m\u001b[1;33m.\u001b[0m\u001b[0mobj\u001b[0m\u001b[1;33m.\u001b[0m\u001b[0mxs\u001b[0m\u001b[1;33m(\u001b[0m\u001b[0mlabel\u001b[0m\u001b[1;33m,\u001b[0m \u001b[0maxis\u001b[0m\u001b[1;33m=\u001b[0m\u001b[0maxis\u001b[0m\u001b[1;33m)\u001b[0m\u001b[1;33m\u001b[0m\u001b[1;33m\u001b[0m\u001b[0m\n\u001b[0m\u001b[0;32m   1114\u001b[0m \u001b[1;33m\u001b[0m\u001b[0m\n\u001b[0;32m   1115\u001b[0m     \u001b[1;32mdef\u001b[0m \u001b[0m_handle_lowerdim_multi_index_axis0\u001b[0m\u001b[1;33m(\u001b[0m\u001b[0mself\u001b[0m\u001b[1;33m,\u001b[0m \u001b[0mtup\u001b[0m\u001b[1;33m:\u001b[0m \u001b[0mtuple\u001b[0m\u001b[1;33m)\u001b[0m\u001b[1;33m:\u001b[0m\u001b[1;33m\u001b[0m\u001b[1;33m\u001b[0m\u001b[0m\n",
      "\u001b[1;32mc:\\Users\\cnbofan1\\AppData\\Local\\Programs\\Python\\Python37\\lib\\site-packages\\pandas\\core\\generic.py\u001b[0m in \u001b[0;36mxs\u001b[1;34m(self, key, axis, level, drop_level)\u001b[0m\n\u001b[0;32m   3774\u001b[0m                 \u001b[1;32mraise\u001b[0m \u001b[0mTypeError\u001b[0m\u001b[1;33m(\u001b[0m\u001b[1;34mf\"Expected label or tuple of labels, got {key}\"\u001b[0m\u001b[1;33m)\u001b[0m \u001b[1;32mfrom\u001b[0m \u001b[0me\u001b[0m\u001b[1;33m\u001b[0m\u001b[1;33m\u001b[0m\u001b[0m\n\u001b[0;32m   3775\u001b[0m         \u001b[1;32melse\u001b[0m\u001b[1;33m:\u001b[0m\u001b[1;33m\u001b[0m\u001b[1;33m\u001b[0m\u001b[0m\n\u001b[1;32m-> 3776\u001b[1;33m             \u001b[0mloc\u001b[0m \u001b[1;33m=\u001b[0m \u001b[0mindex\u001b[0m\u001b[1;33m.\u001b[0m\u001b[0mget_loc\u001b[0m\u001b[1;33m(\u001b[0m\u001b[0mkey\u001b[0m\u001b[1;33m)\u001b[0m\u001b[1;33m\u001b[0m\u001b[1;33m\u001b[0m\u001b[0m\n\u001b[0m\u001b[0;32m   3777\u001b[0m \u001b[1;33m\u001b[0m\u001b[0m\n\u001b[0;32m   3778\u001b[0m             \u001b[1;32mif\u001b[0m \u001b[0misinstance\u001b[0m\u001b[1;33m(\u001b[0m\u001b[0mloc\u001b[0m\u001b[1;33m,\u001b[0m \u001b[0mnp\u001b[0m\u001b[1;33m.\u001b[0m\u001b[0mndarray\u001b[0m\u001b[1;33m)\u001b[0m\u001b[1;33m:\u001b[0m\u001b[1;33m\u001b[0m\u001b[1;33m\u001b[0m\u001b[0m\n",
      "\u001b[1;32mc:\\Users\\cnbofan1\\AppData\\Local\\Programs\\Python\\Python37\\lib\\site-packages\\pandas\\core\\indexes\\datetimes.py\u001b[0m in \u001b[0;36mget_loc\u001b[1;34m(self, key, method, tolerance)\u001b[0m\n\u001b[0;32m    698\u001b[0m         \u001b[1;32melse\u001b[0m\u001b[1;33m:\u001b[0m\u001b[1;33m\u001b[0m\u001b[1;33m\u001b[0m\u001b[0m\n\u001b[0;32m    699\u001b[0m             \u001b[1;31m# unrecognized type\u001b[0m\u001b[1;33m\u001b[0m\u001b[1;33m\u001b[0m\u001b[1;33m\u001b[0m\u001b[0m\n\u001b[1;32m--> 700\u001b[1;33m             \u001b[1;32mraise\u001b[0m \u001b[0mKeyError\u001b[0m\u001b[1;33m(\u001b[0m\u001b[0mkey\u001b[0m\u001b[1;33m)\u001b[0m\u001b[1;33m\u001b[0m\u001b[1;33m\u001b[0m\u001b[0m\n\u001b[0m\u001b[0;32m    701\u001b[0m \u001b[1;33m\u001b[0m\u001b[0m\n\u001b[0;32m    702\u001b[0m         \u001b[1;32mtry\u001b[0m\u001b[1;33m:\u001b[0m\u001b[1;33m\u001b[0m\u001b[1;33m\u001b[0m\u001b[0m\n",
      "\u001b[1;31mKeyError\u001b[0m: 0"
     ]
    }
   ],
   "source": [
    "file_path = curDirectory + '\\\\20211101_DTR&TR_SR12kV 300A\\\\1_Data formatted\\\\20211101_data_clean_10s.csv'\n",
    "config_path = curDirectory + '\\\\20211101_DTR&TR_SR12kV 300A\\\\1_Data formatted\\\\2021-11-01_config.json'\n",
    "fig_path = curDirectory + '\\\\20211101_DTR&TR_SR12kV 300A\\\\3_Graphs'\n",
    "case1101 = TR.TempRiseExperiment(file_path, config_path)\n",
    "case1101.find_balance_index(list(range(18, 52)))\n",
    "case1101.data_filter('t_env', 0, 100, 1)\n",
    "case1101.interp_data_nan('t_env')\n",
    "case1101.cal_dynamic_time_const('t_C1_phA_snsr_bushing', t_amb='t_oil')\n",
    "case1101.cal_dynamic_time_const('t_C1_phB_snsr_bushing', t_amb='t_oil')\n",
    "case1101.cal_dynamic_time_const('t_C1_phC_snsr_bushing', t_amb='t_oil')\n",
    "# case1101.t_plot(['t_env', 't_oil_bottle_2'])\n",
    "print(case1101.data.loc[case1101.bal_idx, 't_C1_phA_snsr_bushing'] - case1101.t_oil.loc[case1101.bal_idx])\n",
    "print(case1101.data.loc[case1101.bal_idx, 't_C1_phB_snsr_bushing'] - case1101.t_oil.loc[case1101.bal_idx])\n",
    "print(case1101.data.loc[case1101.bal_idx, 't_C1_phC_snsr_bushing'] - case1101.t_oil.loc[case1101.bal_idx])\n"
   ]
  },
  {
   "cell_type": "markdown",
   "metadata": {},
   "source": [
    "## Calculate time constant T 20211105\n",
    "constant current rated 630A "
   ]
  },
  {
   "cell_type": "code",
   "execution_count": null,
   "metadata": {},
   "outputs": [],
   "source": [
    "file_path = curDirectory + '\\\\20211105_DTR&TR_SR12kV 630A\\\\1_Data formatted\\\\20211105_data_clean_10s.csv'\n",
    "config_path = curDirectory + '\\\\20211105_DTR&TR_SR12kV 630A\\\\1_Data formatted\\\\2021-11-05_config.json'\n",
    "fig_path = curDirectory + '\\\\20211105_DTR&TR_SR12kV 630A\\\\3_Graphs'\n",
    "\n",
    "case1105 = TR.TempRiseExperiment(file_path, config_path)\n",
    "case1105.find_balance_index(list(range(18, 78)))\n",
    "case1105.data_filter('t_env', 0, 100, 1)\n",
    "case1105.cal_dynamic_time_const('t_C1_phA_snsr_bushing', t_amb='t_oil')\n",
    "case1105.cal_dynamic_time_const('t_C1_phB_snsr_bushing', t_amb='t_oil')\n",
    "case1105.cal_dynamic_time_const('t_C1_phC_snsr_bushing', t_amb='t_oil')\n",
    "# case1105.t_plot(['t_env', 't_oil_bottle_2'])\n",
    "print(case1105.data.loc[case1105.bal_idx, 't_C1_phA_snsr_bushing'] - case1105.t_oil.loc[case1105.bal_idx])\n",
    "print(case1105.data.loc[case1105.bal_idx, 't_C1_phB_snsr_bushing'] - case1105.t_oil.loc[case1105.bal_idx])\n",
    "print(case1105.data.loc[case1105.bal_idx, 't_C1_phC_snsr_bushing'] - case1105.t_oil.loc[case1105.bal_idx])\n"
   ]
  },
  {
   "cell_type": "markdown",
   "metadata": {},
   "source": [
    "## Calculate time constant T 20211118\n",
    "current drop from 630A to 100A"
   ]
  },
  {
   "cell_type": "code",
   "execution_count": null,
   "metadata": {},
   "outputs": [],
   "source": [
    "file_path = curDirectory + '\\\\20211118_DTR&TR_SR12kV Current Drop\\\\1_Data formatted\\\\20211118_data_clean_10s.csv'\n",
    "config_path = curDirectory + '\\\\20211118_DTR&TR_SR12kV Current Drop\\\\1_Data formatted\\\\2021-11-18_config.json'\n",
    "fig_path = curDirectory + '\\\\20211118_DTR&TR_SR12kV Current Drop\\\\3_Graphs'\n",
    "tr_100A_phA = (case1029.data.loc[case1029.bal_idx, 't_C1_phA_snsr_bushing'] -\n",
    "               case1029.t_oil.iloc[case1029.bal_idx])\n",
    "tr_100A_phB = (case1029.data.loc[case1029.bal_idx, 't_C1_phB_snsr_bushing'] -\n",
    "               case1029.t_oil.iloc[case1029.bal_idx])\n",
    "tr_100A_phC = (case1029.data.loc[case1029.bal_idx, 't_C1_phC_snsr_bushing'] -\n",
    "               case1029.t_oil.iloc[case1029.bal_idx])\n",
    "# print(tr_100A_phA,tr_100A_phB,tr_100A_phC)\n",
    "\n",
    "case1118 = TR.TempRiseExperiment(file_path, config_path)\n",
    "case1118.find_balance_index(list(range(18, 52)))\n",
    "# case1118.data_filter('t_env', 0, 100, 1)\n",
    "case1118.cal_dynamic_time_const('t_C1_phA_snsr_bushing',\n",
    "                                tw=tr_100A_phA,\n",
    "                                t_amb='t_oil')\n",
    "case1118.cal_dynamic_time_const('t_C1_phB_snsr_bushing',\n",
    "                                tw=tr_100A_phB,\n",
    "                                t_amb='t_oil')\n",
    "case1118.cal_dynamic_time_const('t_C1_phC_snsr_bushing',\n",
    "                                tw=tr_100A_phC,\n",
    "                                t_amb='t_oil')\n"
   ]
  },
  {
   "cell_type": "markdown",
   "metadata": {},
   "source": [
    "## Calculate conversion constant a 20211029,20211101,20211105"
   ]
  },
  {
   "cell_type": "code",
   "execution_count": null,
   "metadata": {},
   "outputs": [],
   "source": [
    "# C1_phA\n",
    "tr_100A = case1029.data.loc[case1029.bal_idx,\n",
    "                            't_C1_phA_snsr_bushing'] - case1029.t_oil.iloc[\n",
    "              case1029.bal_idx]\n",
    "tr_300A = case1101.data.loc[case1101.bal_idx,\n",
    "                            't_C1_phA_snsr_bushing'] - case1101.t_oil.iloc[\n",
    "              case1101.bal_idx]\n",
    "tr_630A = case1105.data.loc[case1105.bal_idx,\n",
    "                            't_C1_phA_snsr_bushing'] - case1105.t_oil.iloc[\n",
    "              case1105.bal_idx]\n",
    "conver_const = TR.TempRiseExperiment.cal_dynamic_conver_const(\n",
    "    [100, 300, 630], [tr_100A, tr_300A, tr_630A])\n",
    "\n",
    "# C1_phB\n",
    "tr_100A = case1029.data.loc[case1029.bal_idx,\n",
    "                            't_C1_phB_snsr_bushing'] - case1029.t_oil.iloc[\n",
    "              case1029.bal_idx]\n",
    "tr_300A = case1101.data.loc[case1101.bal_idx,\n",
    "                            't_C1_phB_snsr_bushing'] - case1101.t_oil.iloc[\n",
    "              case1101.bal_idx]\n",
    "tr_630A = case1105.data.loc[case1105.bal_idx,\n",
    "                            't_C1_phB_snsr_bushing'] - case1105.t_oil.iloc[\n",
    "              case1105.bal_idx]\n",
    "conver_const = TR.TempRiseExperiment.cal_dynamic_conver_const(\n",
    "    [100, 300, 630], [tr_100A, tr_300A, tr_630A])\n",
    "\n",
    "# C1_phC\n",
    "tr_100A = case1029.data.loc[case1029.bal_idx,\n",
    "                            't_C1_phC_snsr_bushing'] - case1029.t_oil.iloc[\n",
    "              case1029.bal_idx]\n",
    "tr_300A = case1101.data.loc[case1101.bal_idx,\n",
    "                            't_C1_phC_snsr_bushing'] - case1101.t_oil.iloc[\n",
    "              case1101.bal_idx]\n",
    "tr_630A = case1105.data.loc[case1105.bal_idx,\n",
    "                            't_C1_phC_snsr_bushing'] - case1105.t_oil.iloc[\n",
    "              case1105.bal_idx]\n",
    "conver_const = TR.TempRiseExperiment.cal_dynamic_conver_const(\n",
    "    [100, 300, 630], [tr_100A, tr_300A, tr_630A])\n"
   ]
  },
  {
   "cell_type": "markdown",
   "metadata": {},
   "source": [
    "## Plot DTR algorithm result 20211106\n"
   ]
  },
  {
   "cell_type": "markdown",
   "metadata": {
    "collapsed": false
   },
   "source": [
    "### 10s sample time"
   ]
  },
  {
   "cell_type": "code",
   "execution_count": null,
   "metadata": {},
   "outputs": [],
   "source": [
    "file_path = curDirectory + \\\n",
    "            '\\\\20211106_DTR&TR_SR12kV Current Variant\\\\1_Data formatted\\\\20211106_data_clean_10s.csv'\n",
    "config_path = curDirectory + \\\n",
    "              '\\\\20211106_DTR&TR_SR12kV Current Variant\\\\1_Data formatted\\\\2021-11-06_config.json'\n",
    "fig_path = curDirectory + '\\\\20211106_DTR&TR_SR12kV Current Variant\\\\3_Graphs'\n",
    "\n",
    "case1106 = TR.TempRiseExperiment(file_path, config_path)\n",
    "# # build current variant curve\n",
    "cur_list = [100] * 360 + [300] * 360 + [500] * 360 + [630] * 360 + [100] * 360\n",
    "cur_list_with_noise = [i * random.gauss(1, 0.02) for i in cur_list]\n",
    "# # # cut data as long as current variant\n",
    "# data_cut = case1106.data.iloc[:len(cur_list),:].copy()\n",
    "# data_cut['cur_real_time'] = cur_list\n",
    "conver_const = 1.66\n",
    "time_const = 5500\n",
    "time_const_drop = 7000\n",
    "delay_const = 50\n",
    "tr_630A_warning = 42\n",
    "tr_630A_alarm = 50\n",
    "tr_630A_rated = 38\n",
    "# dtr_phA_si_1106_c1 = case1106.t_dtr_plot(\"t_C1_phA_snsr_bushing\",\n",
    "#                                          cur_list,\n",
    "#                                          time_const,\n",
    "#                                          conver_const,\n",
    "#                                          tr_630A_warning,\n",
    "#                                          tr_630A_alarm,\n",
    "#                                          delay_const,\n",
    "#                                          correction_warning=5,\n",
    "#                                          correction_alarm=5,\n",
    "#                                          tr_rated=tr_630A_rated,\n",
    "#                                          time_const_drop=time_const_drop,\n",
    "#                                          title='DTR performance on 20211106 of C1A')\n",
    "dtr_phB_si_1106_c1 = case1106.t_dtr_plot(\"t_C1_phB_snsr_bushing\",\n",
    "                                         cur_list,\n",
    "                                         time_const,\n",
    "                                         conver_const,\n",
    "                                         tr_630A_warning,\n",
    "                                         tr_630A_alarm,\n",
    "                                         delay_const,\n",
    "                                         correction_warning=5,\n",
    "                                         correction_alarm=5,\n",
    "                                         tr_rated=tr_630A_rated,\n",
    "                                         time_const_drop=time_const_drop,\n",
    "                                         title='DTR performance on 20211106 of C1B sample_time=10s')\n",
    "# dtr_phC_si_1106_c1 = case1106.t_dtr_plot(\"t_C1_phC_snsr_bushing\",\n",
    "#                                          cur_list,\n",
    "#                                          time_const,\n",
    "#                                          conver_const,\n",
    "#                                          tr_630A_warning,\n",
    "#                                          tr_630A_alarm,\n",
    "#                                          delay_const,\n",
    "#                                          correction_warning=5,\n",
    "#                                          correction_alarm=5,\n",
    "#                                          tr_rated=tr_630A_rated,\n",
    "#                                          time_const_drop=time_const_drop,\n",
    "#                                          title='DTR performance on 20211106 of C1C')\n",
    "# dtr_phA_si_1106_v3 = case1106.t_dtr_plot(\"t_V3_phA_snsr_bushing\",\n",
    "#                                          cur_list,\n",
    "#                                          time_const,\n",
    "#                                          conver_const,\n",
    "#                                          tr_630A_warning,\n",
    "#                                          tr_630A_alarm,\n",
    "#                                          delay_const,\n",
    "#                                          correction_warning=5,\n",
    "#                                          correction_alarm=5,\n",
    "#                                          tr_rated=tr_630A_rated,\n",
    "#                                          time_const_drop=time_const_drop,\n",
    "#                                          title='DTR performance on 20211106 of V3A')\n",
    "# dtr_phB_si_1106_v3 = case1106.t_dtr_plot(\"t_V3_phB_snsr_bushing\",\n",
    "#                                          cur_list,\n",
    "#                                          time_const,\n",
    "#                                          conver_const,\n",
    "#                                          tr_630A_warning,\n",
    "#                                          tr_630A_alarm,\n",
    "#                                          delay_const,\n",
    "#                                          correction_warning=5,\n",
    "#                                          correction_alarm=5,\n",
    "#                                          tr_rated=tr_630A_rated,\n",
    "#                                          time_const_drop=time_const_drop,\n",
    "#                                          title='DTR performance on 20211106 of V3B')\n",
    "# dtr_phC_si_1106_v3 = case1106.t_dtr_plot(\"t_V3_phC_snsr_bushing\",\n",
    "#                                          cur_list,\n",
    "#                                          time_const,\n",
    "#                                          conver_const,\n",
    "#                                          tr_630A_warning,\n",
    "#                                          tr_630A_alarm,\n",
    "#                                          delay_const,\n",
    "#                                          correction_warning=5,\n",
    "#                                          correction_alarm=5,\n",
    "#                                          tr_rated=tr_630A_rated,\n",
    "#                                          time_const_drop=time_const_drop,\n",
    "#                                          title='DTR performance on 20211106 of V3C')\n",
    "\n"
   ]
  },
  {
   "cell_type": "markdown",
   "metadata": {
    "collapsed": false
   },
   "source": [
    "### 1min sample time"
   ]
  },
  {
   "cell_type": "code",
   "execution_count": null,
   "metadata": {
    "collapsed": false,
    "pycharm": {
     "name": "#%%\n"
    }
   },
   "outputs": [],
   "source": [
    "file_path = curDirectory + \\\n",
    "            '\\\\20211106_DTR&TR_SR12kV Current Variant\\\\1_Data formatted\\\\20211106_data_clean_1min.csv'\n",
    "config_path = curDirectory + \\\n",
    "              '\\\\20211106_DTR&TR_SR12kV Current Variant\\\\1_Data formatted\\\\2021-11-06_config.json'\n",
    "fig_path = curDirectory + '\\\\20211106_DTR&TR_SR12kV Current Variant\\\\3_Graphs'\n",
    "cur_list = [100] * 60 + [300] * 60 + [500] * 60 + [630] * 60 + [100] * 60\n",
    "case1106_1min = TR.TempRiseExperiment(file_path, config_path)\n",
    "# # build current variant curve\n",
    "\n",
    "conver_const = 1.66\n",
    "time_const = 5500\n",
    "time_const_drop = 7000\n",
    "delay_const = 8\n",
    "tr_630A_warning = 42\n",
    "tr_630A_alarm = 50\n",
    "tr_630A_rated = 38\n",
    "\n",
    "dtr_phB_si_1106_1min = case1106_1min.t_dtr_plot(\"t_C1_phB_snsr_bushing\",\n",
    "                                      cur_list,\n",
    "                                      time_const,\n",
    "                                      conver_const,\n",
    "                                      tr_630A_warning,\n",
    "                                      tr_630A_alarm,\n",
    "                                      delay_const,\n",
    "                                      correction_warning=5,\n",
    "                                      correction_alarm=5,\n",
    "                                      tr_rated=tr_630A_rated,\n",
    "                                      time_const_drop=time_const_drop,\n",
    "                                      sample_time=60,\n",
    "                                      title='DTR performance on 20211106 of C1B sample_time=1min')\n"
   ]
  },
  {
   "cell_type": "markdown",
   "metadata": {
    "collapsed": false
   },
   "source": [
    "### 5min sample time"
   ]
  },
  {
   "cell_type": "code",
   "execution_count": null,
   "metadata": {
    "collapsed": false,
    "pycharm": {
     "name": "#%%\n"
    }
   },
   "outputs": [],
   "source": [
    "file_path = curDirectory + \\\n",
    "            '\\\\20211106_DTR&TR_SR12kV Current Variant\\\\1_Data formatted\\\\20211106_data_clean_5min.csv'\n",
    "config_path = curDirectory + \\\n",
    "              '\\\\20211106_DTR&TR_SR12kV Current Variant\\\\1_Data formatted\\\\2021-11-06_config.json'\n",
    "fig_path = curDirectory + '\\\\20211106_DTR&TR_SR12kV Current Variant\\\\3_Graphs'\n",
    "cur_list = [100] * 12 + [300] * 12 + [500] * 12 + [630] * 12 + [100] * 12\n",
    "case1106_5min = TR.TempRiseExperiment(file_path, config_path)\n",
    "# # build current variant curve\n",
    "\n",
    "conver_const = 1.66\n",
    "time_const = 5500\n",
    "time_const_drop = 7000\n",
    "delay_const = 2\n",
    "tr_630A_warning = 42\n",
    "tr_630A_alarm = 50\n",
    "tr_630A_rated = 38\n",
    "dtr_phA_si_1106_5min = case1106_5min.t_dtr_plot_inst_alarm(\"t_C1_phA_snsr_bushing\",\n",
    "                                      cur_list,\n",
    "                                      time_const,\n",
    "                                      conver_const,\n",
    "                                      tr_630A_warning,\n",
    "                                      tr_630A_alarm,\n",
    "                                      delay_const,\n",
    "                                      correction_warning=5,\n",
    "                                      correction_alarm=5,\n",
    "                                      tr_rated=tr_630A_rated,\n",
    "                                      time_const_drop=time_const_drop,\n",
    "                                      sample_time=300,\n",
    "                                      title='DTR performance on 20211106 of C1A sample_time=5min')\n",
    "dtr_phB_si_1106_5min = case1106_5min.t_dtr_plot_inst_alarm(\"t_C1_phB_snsr_bushing\",\n",
    "                                      cur_list,\n",
    "                                      time_const,\n",
    "                                      conver_const,\n",
    "                                      tr_630A_warning,\n",
    "                                      tr_630A_alarm,\n",
    "                                      delay_const,\n",
    "                                      correction_warning=5,\n",
    "                                      correction_alarm=5,\n",
    "                                      tr_rated=tr_630A_rated,\n",
    "                                      time_const_drop=time_const_drop,\n",
    "                                      sample_time=300,\n",
    "                                      title='DTR performance on 20211106 of C1B sample_time=5min')\n",
    "dtr_phC_si_1106_5min = case1106_5min.t_dtr_plot_inst_alarm(\"t_C1_phC_snsr_bushing\",\n",
    "                                      cur_list,\n",
    "                                      time_const,\n",
    "                                      conver_const,\n",
    "                                      tr_630A_warning,\n",
    "                                      tr_630A_alarm,\n",
    "                                      delay_const,\n",
    "                                      correction_warning=5,\n",
    "                                      correction_alarm=5,\n",
    "                                      tr_rated=tr_630A_rated,\n",
    "                                      time_const_drop=time_const_drop,\n",
    "                                      sample_time=300,\n",
    "                                      title='DTR performance on 20211106 of C1C sample_time=5min')\n",
    "\n"
   ]
  },
  {
   "cell_type": "markdown",
   "metadata": {
    "collapsed": false
   },
   "source": [
    "###15min sample time"
   ]
  },
  {
   "cell_type": "code",
   "execution_count": null,
   "metadata": {
    "collapsed": false,
    "pycharm": {
     "name": "#%%\n"
    }
   },
   "outputs": [],
   "source": [
    "file_path = curDirectory + \\\n",
    "            '\\\\20211106_DTR&TR_SR12kV Current Variant\\\\1_Data formatted\\\\20211106_data_clean_15min.csv'\n",
    "config_path = curDirectory + \\\n",
    "              '\\\\20211106_DTR&TR_SR12kV Current Variant\\\\1_Data formatted\\\\2021-11-06_config.json'\n",
    "fig_path = curDirectory + '\\\\20211106_DTR&TR_SR12kV Current Variant\\\\3_Graphs'\n",
    "cur_list = [100] * 4 + [300] * 4 + [500] * 4 + [630] * 4 + [100] * 4\n",
    "case1106_15min = TR.TempRiseExperiment(file_path, config_path)\n",
    "# # build current variant curve\n",
    "\n",
    "conver_const = 1.66\n",
    "time_const = 5500\n",
    "time_const_drop = 7000\n",
    "delay_const = 1\n",
    "tr_630A_warning = 42\n",
    "tr_630A_alarm = 50\n",
    "tr_630A_rated = 38\n",
    "\n",
    "dtr_phB_si_1106_15min = case1106_15min.t_dtr_plot(\"t_C1_phB_snsr_bushing\",\n",
    "                                      cur_list,\n",
    "                                      time_const,\n",
    "                                      conver_const,\n",
    "                                      tr_630A_warning,\n",
    "                                      tr_630A_alarm,\n",
    "                                      delay_const,\n",
    "                                      correction_warning=5,\n",
    "                                      correction_alarm=5,\n",
    "                                      tr_rated=tr_630A_rated,\n",
    "                                      time_const_drop=time_const_drop,\n",
    "                                      sample_time=900,\n",
    "                                      title='DTR performance on 20211106 of C1B sample_time=15min')"
   ]
  },
  {
   "cell_type": "markdown",
   "metadata": {
    "collapsed": false
   },
   "source": [
    "### export algorithm output"
   ]
  },
  {
   "cell_type": "code",
   "execution_count": null,
   "metadata": {
    "collapsed": false,
    "pycharm": {
     "name": "#%%\n"
    }
   },
   "outputs": [],
   "source": [
    "alg_result = pd.DataFrame()\n",
    "alg_result['date_time'] = dtr_phA_si_1106_5min[\"snsr_datetime\"].copy()\n",
    "alg_result['SR_bushing_A'] = dtr_phA_si_1106_5min[\"t_C1_phA_snsr_bushing\"].copy()\n",
    "alg_result['SR_bushing_A_warning'] = dtr_phA_si_1106_5min['t_warning'].copy()\n",
    "alg_result['SR_bushing_A_alarm'] = dtr_phA_si_1106_5min['t_alarm'].copy()\n",
    "alg_result['SR_bushing_A_si'] = dtr_phA_si_1106_5min['t_si'].copy()\n",
    "\n",
    "alg_result['SR_bushing_B'] = dtr_phB_si_1106_5min[\"t_C1_phB_snsr_bushing\"].copy()\n",
    "alg_result['SR_bushing_B_warning'] = dtr_phB_si_1106_5min['t_warning'].copy()\n",
    "alg_result['SR_bushing_B_alarm'] = dtr_phB_si_1106_5min['t_alarm'].copy()\n",
    "alg_result['SR_bushing_B_si'] = dtr_phB_si_1106_5min['t_si'].copy()\n",
    "\n",
    "alg_result['SR_bushing_C'] = dtr_phC_si_1106_5min[\"t_C1_phC_snsr_bushing\"].copy()\n",
    "alg_result['SR_bushing_C_warning'] = dtr_phC_si_1106_5min['t_warning'].copy()\n",
    "alg_result['SR_bushing_C_alarm'] = dtr_phC_si_1106_5min['t_alarm'].copy()\n",
    "alg_result['SR_bushing_C_si'] = dtr_phC_si_1106_5min['t_si'].copy()\n",
    "\n",
    "alg_result['current_A'] = dtr_phA_si_1106_5min['current'].copy()\n",
    "alg_result['current_B'] = dtr_phB_si_1106_5min['current'].copy()\n",
    "alg_result['current_C'] = dtr_phC_si_1106_5min['current'].copy()\n",
    "alg_result['ambient'] = case1106_5min.data[\"t_oil_bottle_1\"].copy()\n",
    "\n",
    "alg_result.to_csv(fig_path + '\\\\' + 'alg_result_20211106.csv')"
   ]
  },
  {
   "cell_type": "markdown",
   "metadata": {
    "collapsed": false
   },
   "source": [
    "### 5min vs 15min\n",
    "\"5min sample time\" and \"15min sample time\" need to be excuted"
   ]
  },
  {
   "cell_type": "code",
   "execution_count": null,
   "metadata": {
    "collapsed": false,
    "pycharm": {
     "name": "#%%\n"
    }
   },
   "outputs": [],
   "source": [
    "t_phB_rated_5min = dtr_phB_si_1106_5min[\"t_rated\"].copy()\n",
    "t_phB_measured_5min = dtr_phB_si_1106_5min[\"t_C1_phB_snsr_bushing\"].copy()\n",
    "t_phB_rated_15min = dtr_phB_si_1106_15min[\"t_rated\"].copy()\n",
    "t_phB_measured_15min = dtr_phB_si_1106_15min[\"t_C1_phB_snsr_bushing\"].copy()\n",
    "rmse_5min = TR.TempRiseExperiment.get_rmse(t_phB_rated_5min,t_phB_measured_5min)\n",
    "rmse_15min = TR.TempRiseExperiment.get_rmse(t_phB_rated_15min,t_phB_measured_15min)\n",
    "print('RMSE of 5min and 15min sampling period are :',rmse_5min,' and ',rmse_15min)"
   ]
  },
  {
   "cell_type": "markdown",
   "metadata": {
    "collapsed": false
   },
   "source": [
    "##Plot DTR algorithm result 20211107"
   ]
  },
  {
   "cell_type": "markdown",
   "metadata": {
    "collapsed": false
   },
   "source": [
    "### 10s sample time"
   ]
  },
  {
   "cell_type": "code",
   "execution_count": null,
   "metadata": {},
   "outputs": [],
   "source": [
    "file_path = curDirectory + \\\n",
    "'\\\\20211107_DTR&TR_SR12kV Current Variant\\\\1_Data formatted\\\\20211107_data_clean_10s.csv'\n",
    "config_path = curDirectory + \\\n",
    "'\\\\20211107_DTR&TR_SR12kV Current Variant\\\\1_Data formatted\\\\2021-11-07_config.json'\n",
    "fig_path = curDirectory + '\\\\20211107_DTR&TR_SR12kV Current Variant\\\\3_Graphs'\n",
    "\n",
    "case1107 = TR.TempRiseExperiment(file_path, config_path)\n",
    "# # build current variant curve\n",
    "cur_list = ([100] * 180 + [300] * 270 + [500] * 90 + [630] * 180 +\n",
    "            [400] * 270 + [200] * 90 + [100] * 180 + [300] * 270 +\n",
    "            [500] * 90 + [630] * 180 + [400] * 270 + [200] * 90)\n",
    "conver_const = 1.66\n",
    "time_const = 5500\n",
    "time_const_drop = 7000\n",
    "delay_const = 50\n",
    "tr_630A_warning = 42\n",
    "tr_630A_alarm = 50\n",
    "tr_630A_rated = 38\n",
    "# dtr_phA_si_1107_c1 = case1107.t_dtr_plot(\"t_C1_phA_snsr_bushing\",\n",
    "#                                          cur_list,\n",
    "#                                          time_const,\n",
    "#                                          conver_const,\n",
    "#                                          tr_630A_warning,\n",
    "#                                          tr_630A_alarm,\n",
    "#                                          delay_const,\n",
    "#                                          correction_warning=5,\n",
    "#                                          correction_alarm=5,\n",
    "#                                          tr_rated=tr_630A_rated,\n",
    "#                                          time_const_drop=time_const_drop,\n",
    "#                                          title='DTR performance on 20211107 of V1A')\n",
    "dtr_phB_si_1107_c1 = case1107.t_dtr_plot(\"t_C1_phB_snsr_bushing\",\n",
    "                                         cur_list,\n",
    "                                         time_const,\n",
    "                                         conver_const,\n",
    "                                         tr_630A_warning,\n",
    "                                         tr_630A_alarm,\n",
    "                                         delay_const,\n",
    "                                         correction_warning=5,\n",
    "                                         correction_alarm=5,\n",
    "                                         tr_rated=tr_630A_rated,\n",
    "                                         time_const_drop=time_const_drop,\n",
    "                                         title='DTR performance on 20211107 of V1B sample_time=10s')\n",
    "# dtr_phC_si_1107_c1 = case1107.t_dtr_plot(\"t_C1_phC_snsr_bushing\",\n",
    "#                                          cur_list,\n",
    "#                                          time_const,\n",
    "#                                          conver_const,\n",
    "#                                          tr_630A_warning,\n",
    "#                                          tr_630A_alarm,\n",
    "#                                          delay_const,\n",
    "#                                          correction_warning=5,\n",
    "#                                          correction_alarm=5,\n",
    "#                                          tr_rated=tr_630A_rated,\n",
    "#                                          time_const_drop=time_const_drop,\n",
    "#                                          title='DTR performance on 20211107 of V1C')\n",
    "# dtr_phA_si_1107_v3 = case1107.t_dtr_plot(\"t_V3_phA_snsr_bushing\",\n",
    "#                                          cur_list,\n",
    "#                                          time_const,\n",
    "#                                          conver_const,\n",
    "#                                          tr_630A_warning,\n",
    "#                                          tr_630A_alarm,\n",
    "#                                          delay_const,\n",
    "#                                          correction_warning=5,\n",
    "#                                          correction_alarm=5,\n",
    "#                                          tr_rated=tr_630A_rated,\n",
    "#                                          time_const_drop=time_const_drop,\n",
    "#                                          title='DTR performance on 20211107 of V3A')\n",
    "# dtr_phB_si_1107_v3 = case1107.t_dtr_plot(\"t_V3_phB_snsr_bushing\",\n",
    "#                                          cur_list,\n",
    "#                                          time_const,\n",
    "#                                          conver_const,\n",
    "#                                          tr_630A_warning,\n",
    "#                                          tr_630A_alarm,\n",
    "#                                          delay_const,\n",
    "#                                          correction_warning=5,\n",
    "#                                          correction_alarm=5,\n",
    "#                                          tr_rated=tr_630A_rated,\n",
    "#                                          time_const_drop=time_const_drop,\n",
    "#                                          title='DTR performance on 20211107 of V3B')\n",
    "# dtr_phC_si_1107_v3 = case1107.t_dtr_plot(\"t_V3_phC_snsr_bushing\",\n",
    "#                                          cur_list,\n",
    "#                                          time_const,\n",
    "#                                          conver_const,\n",
    "#                                          tr_630A_warning,\n",
    "#                                          tr_630A_alarm,\n",
    "#                                          delay_const,\n",
    "#                                          correction_warning=5,\n",
    "#                                          correction_alarm=5,\n",
    "#                                          tr_rated=tr_630A_rated,\n",
    "#                                          time_const_drop=time_const_drop,\n",
    "#                                          title='DTR performance on 20211107 of V3C')\n",
    "# form algorithm output data of warning, alarm, si \n",
    "# alg_result = pd.DataFrame()\n",
    "# alg_result['date_time'] = dtr_phA_si_1107[\"snsr_datetime\"].copy()\n",
    "# alg_result['SR_bushing_A'] = dtr_phA_si_1107[\"t_C1_phA_snsr_bushing\"].copy()\n",
    "# alg_result['SR_bushing_A_warning'] = dtr_phA_si_1107['t_warning'].copy()\n",
    "# alg_result['SR_bushing_A_alarm'] = dtr_phA_si_1107['t_alarm'].copy()\n",
    "# alg_result['SR_bushing_A_si'] = dtr_phA_si_1107['t_si'].copy()\n",
    "#\n",
    "# alg_result['SR_bushing_B'] = dtr_phB_si_1107[\"t_C1_phB_snsr_bushing\"].copy()\n",
    "# alg_result['SR_bushing_B_warning'] = dtr_phB_si_1107['t_warning'].copy()\n",
    "# alg_result['SR_bushing_B_alarm'] = dtr_phB_si_1107['t_alarm'].copy()\n",
    "# alg_result['SR_bushing_B_si'] = dtr_phB_si_1107['t_si'].copy()\n",
    "#\n",
    "# alg_result['SR_bushing_C'] = dtr_phC_si_1107[\"t_C1_phC_snsr_bushing\"].copy()\n",
    "# alg_result['SR_bushing_C_warning'] = dtr_phC_si_1107['t_warning'].copy()\n",
    "# alg_result['SR_bushing_C_alarm'] = dtr_phC_si_1107['t_alarm'].copy()\n",
    "# alg_result['SR_bushing_C_si'] = dtr_phC_si_1107['t_si'].copy()\n",
    "#\n",
    "# alg_result['current_A'] = dtr_phA_si_1107['current'].copy()\n",
    "# alg_result['current_B'] = dtr_phB_si_1107['current'].copy()\n",
    "# alg_result['current_C'] = dtr_phC_si_1107['current'].copy()\n",
    "# alg_result['ambient'] = case1107.data[\"t_oil_bottle_1\"].copy()\n",
    "#\n",
    "# alg_result.to_csv(fig_path + '\\\\' + 'alg_result.csv')\n"
   ]
  },
  {
   "cell_type": "markdown",
   "metadata": {
    "collapsed": false
   },
   "source": [
    "### 1min sample time"
   ]
  },
  {
   "cell_type": "code",
   "execution_count": null,
   "metadata": {
    "collapsed": false,
    "pycharm": {
     "name": "#%%\n"
    }
   },
   "outputs": [],
   "source": [
    "file_path = curDirectory + \\\n",
    "'\\\\20211107_DTR&TR_SR12kV Current Variant\\\\1_Data formatted\\\\20211107_data_clean_1min.csv'\n",
    "config_path = curDirectory + \\\n",
    "'\\\\20211107_DTR&TR_SR12kV Current Variant\\\\1_Data formatted\\\\2021-11-07_config.json'\n",
    "fig_path = curDirectory + '\\\\20211107_DTR&TR_SR12kV Current Variant\\\\3_Graphs'\n",
    "\n",
    "case1107 = TR.TempRiseExperiment(file_path, config_path)\n",
    "# # build current variant curve\n",
    "cur_list = ([100] * 30 + [300] * 45 + [500] * 15 + [630] * 30 +\n",
    "            [400] * 45 + [200] * 15 + [100] * 30 + [300] * 45 +\n",
    "            [500] * 15 + [630] * 30 + [400] * 45 + [200] * 15)\n",
    "conver_const = 1.66\n",
    "time_const = 5500\n",
    "time_const_drop = 7000\n",
    "delay_const = 8\n",
    "tr_630A_warning = 42\n",
    "tr_630A_alarm = 50\n",
    "tr_630A_rated = 38\n",
    "dtr_phB_si_1107_c1 = case1107.t_dtr_plot(\"t_C1_phB_snsr_bushing\",\n",
    "                                         cur_list,\n",
    "                                         time_const,\n",
    "                                         conver_const,\n",
    "                                         tr_630A_warning,\n",
    "                                         tr_630A_alarm,\n",
    "                                         delay_const,\n",
    "                                         correction_warning=5,\n",
    "                                         correction_alarm=5,\n",
    "                                         tr_rated=tr_630A_rated,\n",
    "                                         time_const_drop=time_const_drop,\n",
    "                                         sample_time=60,\n",
    "                                         title='DTR performance on 20211107 of V1B sample_time=1min')"
   ]
  },
  {
   "cell_type": "markdown",
   "metadata": {
    "collapsed": false
   },
   "source": [
    "### 5min sample time"
   ]
  },
  {
   "cell_type": "code",
   "execution_count": null,
   "metadata": {
    "collapsed": false,
    "pycharm": {
     "name": "#%%\n"
    }
   },
   "outputs": [],
   "source": [
    "file_path = curDirectory + \\\n",
    "'\\\\20211107_DTR&TR_SR12kV Current Variant\\\\1_Data formatted\\\\20211107_data_clean_5min.csv'\n",
    "config_path = curDirectory + \\\n",
    "'\\\\20211107_DTR&TR_SR12kV Current Variant\\\\1_Data formatted\\\\2021-11-07_config.json'\n",
    "fig_path = curDirectory + '\\\\20211107_DTR&TR_SR12kV Current Variant\\\\3_Graphs'\n",
    "\n",
    "case1107_5min = TR.TempRiseExperiment(file_path, config_path)\n",
    "# # build current variant curve\n",
    "cur_list = ([100] * 6 + [300] * 9 + [500] * 3 + [630] * 6 +\n",
    "            [400] * 9 + [200] * 3 + [100] * 6 + [300] * 9 +\n",
    "            [500] * 3 + [630] * 6 + [400] * 9 + [200] * 3)\n",
    "conver_const = 1.66\n",
    "time_const = 5500\n",
    "time_const_drop = 7000\n",
    "delay_const = 2\n",
    "tr_630A_warning = 42\n",
    "tr_630A_alarm = 50\n",
    "tr_630A_rated = 38\n",
    "dtr_phA_si_1107_c1_5min = case1107_5min.t_dtr_plot_inst_alarm(\"t_C1_phA_snsr_bushing\",\n",
    "                                         cur_list,\n",
    "                                         time_const,\n",
    "                                         conver_const,\n",
    "                                         tr_630A_warning,\n",
    "                                         tr_630A_alarm,\n",
    "                                         delay_const,\n",
    "                                         correction_warning=5,\n",
    "                                         correction_alarm=5,\n",
    "                                         tr_rated=tr_630A_rated,\n",
    "                                         time_const_drop=time_const_drop,\n",
    "                                         sample_time=300,\n",
    "                                         title='DTR performance on 20211107 of V1A sample_time=5min')\n",
    "dtr_phB_si_1107_c1_5min = case1107_5min.t_dtr_plot_inst_alarm(\"t_C1_phB_snsr_bushing\",\n",
    "                                         cur_list,\n",
    "                                         time_const,\n",
    "                                         conver_const,\n",
    "                                         tr_630A_warning,\n",
    "                                         tr_630A_alarm,\n",
    "                                         delay_const,\n",
    "                                         correction_warning=5,\n",
    "                                         correction_alarm=5,\n",
    "                                         tr_rated=tr_630A_rated,\n",
    "                                         time_const_drop=time_const_drop,\n",
    "                                         sample_time=300,\n",
    "                                         title='DTR performance on 20211107 of V1B sample_time=5min')\n",
    "dtr_phC_si_1107_c1_5min = case1107_5min.t_dtr_plot_inst_alarm(\"t_C1_phC_snsr_bushing\",\n",
    "                                         cur_list,\n",
    "                                         time_const,\n",
    "                                         conver_const,\n",
    "                                         tr_630A_warning,\n",
    "                                         tr_630A_alarm,\n",
    "                                         delay_const,\n",
    "                                         correction_warning=5,\n",
    "                                         correction_alarm=5,\n",
    "                                         tr_rated=tr_630A_rated,\n",
    "                                         time_const_drop=time_const_drop,\n",
    "                                         sample_time=300,\n",
    "                                         title='DTR performance on 20211107 of V1C sample_time=5min')"
   ]
  },
  {
   "cell_type": "markdown",
   "metadata": {
    "collapsed": false
   },
   "source": [
    "### 15min sample time"
   ]
  },
  {
   "cell_type": "code",
   "execution_count": null,
   "metadata": {
    "collapsed": false,
    "pycharm": {
     "name": "#%%\n"
    }
   },
   "outputs": [],
   "source": [
    "file_path = curDirectory + \\\n",
    "'\\\\20211107_DTR&TR_SR12kV Current Variant\\\\1_Data formatted\\\\20211107_data_clean_15min.csv'\n",
    "config_path = curDirectory + \\\n",
    "'\\\\20211107_DTR&TR_SR12kV Current Variant\\\\1_Data formatted\\\\2021-11-07_config.json'\n",
    "fig_path = curDirectory + '\\\\20211107_DTR&TR_SR12kV Current Variant\\\\3_Graphs'\n",
    "\n",
    "case1107 = TR.TempRiseExperiment(file_path, config_path)\n",
    "# # build current variant curve\n",
    "cur_list = ([100] * 2 + [300] * 3 + [500] * 1 + [630] * 2 +\n",
    "            [400] * 3 + [200] * 1 + [100] * 2 + [300] * 3 +\n",
    "            [500] * 1 + [630] * 2 + [400] * 3 + [200] * 1)\n",
    "conver_const = 1.66\n",
    "time_const = 5500\n",
    "time_const_drop = 7000\n",
    "delay_const = 1\n",
    "tr_630A_warning = 42\n",
    "tr_630A_alarm = 50\n",
    "tr_630A_rated = 38\n",
    "dtr_phB_si_1107_c1_15min = case1107.t_dtr_plot(\"t_C1_phB_snsr_bushing\",\n",
    "                                         cur_list,\n",
    "                                         time_const,\n",
    "                                         conver_const,\n",
    "                                         tr_630A_warning,\n",
    "                                         tr_630A_alarm,\n",
    "                                         delay_const,\n",
    "                                         correction_warning=5,\n",
    "                                         correction_alarm=5,\n",
    "                                         tr_rated=tr_630A_rated,\n",
    "                                         time_const_drop=time_const_drop,\n",
    "                                         sample_time=900,\n",
    "                                         title='DTR performance on 20211107 of V1B sample_time=15min')"
   ]
  },
  {
   "cell_type": "markdown",
   "metadata": {
    "collapsed": false
   },
   "source": [
    "### export algorithm output"
   ]
  },
  {
   "cell_type": "code",
   "execution_count": null,
   "metadata": {
    "collapsed": false,
    "pycharm": {
     "name": "#%%\n"
    }
   },
   "outputs": [],
   "source": [
    "alg_result = pd.DataFrame()\n",
    "alg_result['date_time'] = dtr_phA_si_1107_c1_5min[\"snsr_datetime\"].copy()\n",
    "alg_result['SR_bushing_A'] = dtr_phA_si_1107_c1_5min[\"t_C1_phA_snsr_bushing\"].copy()\n",
    "alg_result['SR_bushing_A_warning'] = dtr_phA_si_1107_c1_5min['t_warning'].copy()\n",
    "alg_result['SR_bushing_A_alarm'] = dtr_phA_si_1107_c1_5min['t_alarm'].copy()\n",
    "alg_result['SR_bushing_A_si'] = dtr_phA_si_1107_c1_5min['t_si'].copy()\n",
    "\n",
    "alg_result['SR_bushing_B'] = dtr_phB_si_1107_c1_5min[\"t_C1_phB_snsr_bushing\"].copy()\n",
    "alg_result['SR_bushing_B_warning'] = dtr_phB_si_1107_c1_5min['t_warning'].copy()\n",
    "alg_result['SR_bushing_B_alarm'] = dtr_phB_si_1107_c1_5min['t_alarm'].copy()\n",
    "alg_result['SR_bushing_B_si'] = dtr_phB_si_1107_c1_5min['t_si'].copy()\n",
    "\n",
    "alg_result['SR_bushing_C'] = dtr_phC_si_1107_c1_5min[\"t_C1_phC_snsr_bushing\"].copy()\n",
    "alg_result['SR_bushing_C_warning'] = dtr_phC_si_1107_c1_5min['t_warning'].copy()\n",
    "alg_result['SR_bushing_C_alarm'] = dtr_phC_si_1107_c1_5min['t_alarm'].copy()\n",
    "alg_result['SR_bushing_C_si'] = dtr_phC_si_1107_c1_5min['t_si'].copy()\n",
    "\n",
    "alg_result['current_A'] = dtr_phA_si_1107_c1_5min['current'].copy()\n",
    "alg_result['current_B'] = dtr_phB_si_1107_c1_5min['current'].copy()\n",
    "alg_result['current_C'] = dtr_phC_si_1107_c1_5min['current'].copy()\n",
    "alg_result['ambient'] = case1107_5min.data[\"t_oil_bottle_1\"].copy()\n",
    "\n",
    "alg_result.to_csv(fig_path + '\\\\' + 'alg_result_20211107.csv')"
   ]
  },
  {
   "cell_type": "markdown",
   "metadata": {
    "collapsed": false
   },
   "source": [
    "### 5min vs 15min"
   ]
  },
  {
   "cell_type": "code",
   "execution_count": null,
   "metadata": {
    "collapsed": false,
    "pycharm": {
     "name": "#%%\n"
    }
   },
   "outputs": [],
   "source": [
    "t_phB_rated_5min = dtr_phB_si_1107_c1_5min[\"t_rated\"].copy()\n",
    "t_phB_measured_5min = dtr_phB_si_1107_c1_5min[\"t_C1_phB_snsr_bushing\"].copy()\n",
    "t_phB_rated_15min = dtr_phB_si_1107_c1_15min[\"t_rated\"].copy()\n",
    "t_phB_measured_15min = dtr_phB_si_1107_c1_15min[\"t_C1_phB_snsr_bushing\"].copy()\n",
    "rmse_5min = TR.TempRiseExperiment.get_rmse(t_phB_rated_5min,t_phB_measured_5min)\n",
    "rmse_15min = TR.TempRiseExperiment.get_rmse(t_phB_rated_15min,t_phB_measured_15min)\n",
    "print('RMSE of 5min and 15min sampling period are :',rmse_5min,' and ',rmse_15min)"
   ]
  },
  {
   "cell_type": "markdown",
   "metadata": {},
   "source": [
    "## Plot DTR algorithm result 20211123\n",
    "### 10s sample time\n",
    "variant current 100-300-500-630-100 with fault"
   ]
  },
  {
   "cell_type": "code",
   "execution_count": null,
   "metadata": {},
   "outputs": [],
   "source": [
    "file_path = curDirectory + \\\n",
    "            '\\\\20211123_DTR&TR_SR12kV Fault Simulation\\\\1_Data formatted\\\\20211123_data_clean_10s.csv'\n",
    "config_path = curDirectory + \\\n",
    "              '\\\\20211123_DTR&TR_SR12kV Fault Simulation\\\\1_Data formatted\\\\2021-11-23_config.json'\n",
    "fig_path = curDirectory + '\\\\20211123_DTR&TR_SR12kV Fault Simulation\\\\3_Graphs'\n",
    "case1123 = TR.TempRiseExperiment(file_path, config_path)\n",
    "# # build current variant curve\n",
    "conver_const = 1.66\n",
    "time_const = 5500\n",
    "time_const_drop = 7000\n",
    "delay_const = 50\n",
    "tr_630A_warning = 42\n",
    "tr_630A_alarm = 50\n",
    "tr_630A_rated = 38\n",
    "# dtr_phA_si_1123 = case1123.t_dtr_plot(\"t_C1_phA_snsr_bushing\",\n",
    "#                                       case1123.data['amp_phA'],\n",
    "#                                       time_const,\n",
    "#                                       conver_const,\n",
    "#                                       tr_630A_warning,\n",
    "#                                       tr_630A_alarm,\n",
    "#                                       delay_const,\n",
    "#                                       correction_warning=5,\n",
    "#                                       correction_alarm=5,\n",
    "#                                       tr_rated=tr_630A_rated,\n",
    "#                                       time_const_drop=time_const_drop,\n",
    "#                                       title='DTR performance on 20211123 of C1A')\n",
    "dtr_phB_si_1123 = case1123.t_dtr_plot(\"t_C1_phB_snsr_bushing\",\n",
    "                                      case1123.data['amp_phB'],\n",
    "                                      time_const,\n",
    "                                      conver_const,\n",
    "                                      tr_630A_warning,\n",
    "                                      tr_630A_alarm,\n",
    "                                      delay_const,\n",
    "                                      correction_warning=5,\n",
    "                                      correction_alarm=5,\n",
    "                                      tr_rated=tr_630A_rated,\n",
    "                                      time_const_drop=time_const_drop,\n",
    "                                      title='DTR performance on 20211123 of C1B sample_time=10s')\n",
    "# dtr_phC_si_1123 = case1123.t_dtr_plot(\"t_C1_phC_snsr_bushing\",\n",
    "#                                       case1123.data['amp_phC'],\n",
    "#                                       time_const,\n",
    "#                                       conver_const,\n",
    "#                                       tr_630A_warning,\n",
    "#                                       tr_630A_alarm,\n",
    "#                                       delay_const,\n",
    "#                                       correction_warning=5,\n",
    "#                                       correction_alarm=5,\n",
    "#                                       tr_rated=tr_630A_rated,\n",
    "#                                       time_const_drop=time_const_drop,\n",
    "#                                       title='DTR performance on 20211123 of C1C')\n",
    "# dtr_phA_si_1123_v3 = case1123.t_dtr_plot(\"t_V3_phA_snsr_bushing\",\n",
    "#                                          case1123.data['amp_phA'],\n",
    "#                                          time_const,\n",
    "#                                          conver_const,\n",
    "#                                          tr_630A_warning,\n",
    "#                                          tr_630A_alarm,\n",
    "#                                          delay_const,\n",
    "#                                          correction_warning=5,\n",
    "#                                          correction_alarm=5,\n",
    "#                                          tr_rated=tr_630A_rated,\n",
    "#                                          time_const_drop=time_const_drop,\n",
    "#                                          title='DTR performance on 20211123 of V3A')\n",
    "# dtr_phB_si_1123_v3 = case1123.t_dtr_plot(\"t_V3_phB_snsr_bushing\",\n",
    "#                                          case1123.data['amp_phB'],\n",
    "#                                          time_const,\n",
    "#                                          conver_const,\n",
    "#                                          tr_630A_warning,\n",
    "#                                          tr_630A_alarm,\n",
    "#                                          delay_const,\n",
    "#                                          correction_warning=5,\n",
    "#                                          correction_alarm=5,\n",
    "#                                          tr_rated=tr_630A_rated,\n",
    "#                                          time_const_drop=time_const_drop,\n",
    "#                                          title='DTR performance on 20211123 of V3B')\n",
    "# dtr_phC_si_1123_v3 = case1123.t_dtr_plot(\"t_V3_phC_snsr_bushing\",\n",
    "#                                          case1123.data['amp_phC'],\n",
    "#                                          time_const,\n",
    "#                                          conver_const,\n",
    "#                                          tr_630A_warning,\n",
    "#                                          tr_630A_alarm,\n",
    "#                                          delay_const,\n",
    "#                                          correction_warning=5,\n",
    "#                                          correction_alarm=5,\n",
    "#                                          tr_rated=tr_630A_rated,\n",
    "#                                          time_const_drop=time_const_drop,\n",
    "#                                          title='DTR performance on 20211123 of V3C')\n",
    "# alg_result = pd.DataFrame()\n",
    "# alg_result['date_time'] = dtr_phA_si_1123[\"snsr_datetime\"].copy()\n",
    "# alg_result['SR_bushing_A'] = dtr_phA_si_1123[\"t_C1_phA_snsr_bushing\"].copy()\n",
    "# alg_result['SR_bushing_A_warning'] = dtr_phA_si_1123['t_warning'].copy()\n",
    "# alg_result['SR_bushing_A_alarm'] = dtr_phA_si_1123['t_alarm'].copy()\n",
    "# alg_result['SR_bushing_A_si'] = dtr_phA_si_1123['t_si'].copy()\n",
    "#\n",
    "# alg_result['SR_bushing_B'] = dtr_phB_si_1123[\"t_C1_phB_snsr_bushing\"].copy()\n",
    "# alg_result['SR_bushing_B_warning'] = dtr_phB_si_1123['t_warning'].copy()\n",
    "# alg_result['SR_bushing_B_alarm'] = dtr_phB_si_1123['t_alarm'].copy()\n",
    "# alg_result['SR_bushing_B_si'] = dtr_phB_si_1123['t_si'].copy()\n",
    "#\n",
    "# alg_result['SR_bushing_C'] = dtr_phC_si_1123[\"t_C1_phC_snsr_bushing\"].copy()\n",
    "# alg_result['SR_bushing_C_warning'] = dtr_phC_si_1123['t_warning'].copy()\n",
    "# alg_result['SR_bushing_C_alarm'] = dtr_phC_si_1123['t_alarm'].copy()\n",
    "# alg_result['SR_bushing_C_si'] = dtr_phC_si_1123['t_si'].copy()\n",
    "#\n",
    "# alg_result['current_A'] = dtr_phA_si_1123['current'].copy()\n",
    "# alg_result['current_B'] = dtr_phB_si_1123['current'].copy()\n",
    "# alg_result['current_C'] = dtr_phC_si_1123['current'].copy()\n",
    "# alg_result['ambient'] = case1123.data[\"t_oil_bottle_1\"].copy()\n",
    "#\n",
    "# alg_result.to_csv(fig_path + '\\\\' + 'alg_result.csv')\n"
   ]
  },
  {
   "cell_type": "markdown",
   "metadata": {
    "collapsed": false
   },
   "source": [
    "### 5min sample time"
   ]
  },
  {
   "cell_type": "code",
   "execution_count": null,
   "metadata": {
    "collapsed": false,
    "pycharm": {
     "name": "#%%\n"
    }
   },
   "outputs": [],
   "source": [
    "file_path = curDirectory + \\\n",
    "            '\\\\20211123_DTR&TR_SR12kV Fault Simulation\\\\1_Data formatted\\\\20211123_data_clean_5m.csv'\n",
    "config_path = curDirectory + \\\n",
    "              '\\\\20211123_DTR&TR_SR12kV Fault Simulation\\\\1_Data formatted\\\\2021-11-23_config.json'\n",
    "fig_path = curDirectory + '\\\\20211123_DTR&TR_SR12kV Fault Simulation\\\\3_Graphs'\n",
    "\n",
    "case1123_5min = TR.TempRiseExperiment(file_path, config_path)\n",
    "# # build current variant curve\n",
    "\n",
    "conver_const = 1.66\n",
    "time_const = 5500\n",
    "time_const_drop = 7000\n",
    "delay_const = 2\n",
    "tr_630A_warning = 42\n",
    "tr_630A_alarm = 50\n",
    "tr_630A_rated = 38\n",
    "dtr_phA_si_1123_c1_5min = case1123_5min.t_dtr_plot_inst_alarm(\"t_C1_phA_snsr_bushing\",\n",
    "                                      case1123_5min.data['amp_phA'],\n",
    "                                      time_const,\n",
    "                                      conver_const,\n",
    "                                      tr_630A_warning,\n",
    "                                      tr_630A_alarm,\n",
    "                                      delay_const,\n",
    "                                      correction_warning=5,\n",
    "                                      correction_alarm=5,\n",
    "                                      tr_rated=tr_630A_rated,\n",
    "                                      time_const_drop=time_const_drop,\n",
    "                                      sample_time=300,\n",
    "                                      title='DTR performance on 20211123 of C1A sample_time=5min')\n",
    "dtr_phB_si_1123_c1_5min = case1123_5min.t_dtr_plot_inst_alarm(\"t_C1_phB_snsr_bushing\",\n",
    "                                      case1123_5min.data['amp_phB'],\n",
    "                                      time_const,\n",
    "                                      conver_const,\n",
    "                                      tr_630A_warning,\n",
    "                                      tr_630A_alarm,\n",
    "                                      delay_const,\n",
    "                                      correction_warning=5,\n",
    "                                      correction_alarm=5,\n",
    "                                      tr_rated=tr_630A_rated,\n",
    "                                      time_const_drop=time_const_drop,\n",
    "                                      sample_time=300,\n",
    "                                      title='DTR performance on 20211123 of C1B sample_time=5min')\n",
    "dtr_phC_si_1123_c1_5min = case1123_5min.t_dtr_plot_inst_alarm(\"t_C1_phC_snsr_bushing\",\n",
    "                                      case1123_5min.data['amp_phC'],\n",
    "                                      time_const,\n",
    "                                      conver_const,\n",
    "                                      tr_630A_warning,\n",
    "                                      tr_630A_alarm,\n",
    "                                      delay_const,\n",
    "                                      correction_warning=5,\n",
    "                                      correction_alarm=5,\n",
    "                                      tr_rated=tr_630A_rated,\n",
    "                                      time_const_drop=time_const_drop,\n",
    "                                      sample_time=300,\n",
    "                                      title='DTR performance on 20211123 of C1C sample_time=5min')"
   ]
  },
  {
   "cell_type": "markdown",
   "metadata": {},
   "source": [
    "### 15min sample time"
   ]
  },
  {
   "cell_type": "code",
   "execution_count": null,
   "metadata": {},
   "outputs": [],
   "source": [
    "file_path = curDirectory + \\\n",
    "            '\\\\20211123_DTR&TR_SR12kV Fault Simulation\\\\1_Data formatted\\\\20211123_data_clean_15m.csv'\n",
    "config_path = curDirectory + \\\n",
    "              '\\\\20211123_DTR&TR_SR12kV Fault Simulation\\\\1_Data formatted\\\\2021-11-23_config.json'\n",
    "fig_path = curDirectory + '\\\\20211123_DTR&TR_SR12kV Fault Simulation\\\\3_Graphs'\n",
    "\n",
    "case1123_15min = TR.TempRiseExperiment(file_path, config_path)\n",
    "# # build current variant curve\n",
    "\n",
    "conver_const = 1.66\n",
    "time_const = 5500\n",
    "time_const_drop = 15000\n",
    "delay_const = 0\n",
    "tr_630A_warning = 42\n",
    "tr_630A_alarm = 50\n",
    "tr_630A_rated = 38\n",
    "\n",
    "dtr_phB_si_1123 = case1123_15min.t_dtr_plot(\"t_C1_phB_snsr_bushing\",\n",
    "                                      case1123_15min.data['amp_phB'],\n",
    "                                      time_const,\n",
    "                                      conver_const,\n",
    "                                      tr_630A_warning,\n",
    "                                      tr_630A_alarm,\n",
    "                                      delay_const,\n",
    "                                      correction_warning=5,\n",
    "                                      correction_alarm=5,\n",
    "                                      tr_rated=tr_630A_rated,\n",
    "                                      time_const_drop=time_const_drop,\n",
    "                                      sample_time=900,\n",
    "                                      title='DTR performance on 20211123 of C1B')\n",
    "\n"
   ]
  },
  {
   "cell_type": "markdown",
   "metadata": {
    "collapsed": false
   },
   "source": [
    "### export algorithm output"
   ]
  },
  {
   "cell_type": "code",
   "execution_count": null,
   "metadata": {
    "collapsed": false,
    "pycharm": {
     "name": "#%%\n"
    }
   },
   "outputs": [],
   "source": [
    "alg_result = pd.DataFrame()\n",
    "alg_result['date_time'] = dtr_phA_si_1123_c1_5min[\"snsr_datetime\"].copy()\n",
    "alg_result['SR_bushing_A'] = dtr_phA_si_1123_c1_5min[\"t_C1_phA_snsr_bushing\"].copy()\n",
    "alg_result['SR_bushing_A_warning'] = dtr_phA_si_1123_c1_5min['t_warning'].copy()\n",
    "alg_result['SR_bushing_A_alarm'] = dtr_phA_si_1123_c1_5min['t_alarm'].copy()\n",
    "alg_result['SR_bushing_A_si'] = dtr_phA_si_1123_c1_5min['t_si'].copy()\n",
    "\n",
    "alg_result['SR_bushing_B'] = dtr_phB_si_1123_c1_5min[\"t_C1_phB_snsr_bushing\"].copy()\n",
    "alg_result['SR_bushing_B_warning'] = dtr_phB_si_1123_c1_5min['t_warning'].copy()\n",
    "alg_result['SR_bushing_B_alarm'] = dtr_phB_si_1123_c1_5min['t_alarm'].copy()\n",
    "alg_result['SR_bushing_B_si'] = dtr_phB_si_1123_c1_5min['t_si'].copy()\n",
    "\n",
    "alg_result['SR_bushing_C'] = dtr_phC_si_1123_c1_5min[\"t_C1_phC_snsr_bushing\"].copy()\n",
    "alg_result['SR_bushing_C_warning'] = dtr_phC_si_1123_c1_5min['t_warning'].copy()\n",
    "alg_result['SR_bushing_C_alarm'] = dtr_phC_si_1123_c1_5min['t_alarm'].copy()\n",
    "alg_result['SR_bushing_C_si'] = dtr_phC_si_1123_c1_5min['t_si'].copy()\n",
    "\n",
    "alg_result['current_A'] = dtr_phA_si_1123_c1_5min['current'].copy()\n",
    "alg_result['current_B'] = dtr_phB_si_1123_c1_5min['current'].copy()\n",
    "alg_result['current_C'] = dtr_phC_si_1123_c1_5min['current'].copy()\n",
    "alg_result['ambient'] = case1123_5min.data[\"t_oil_bottle_1\"].copy()\n",
    "\n",
    "alg_result.to_csv(fig_path + '\\\\' + 'alg_result_20211123.csv')"
   ]
  },
  {
   "cell_type": "markdown",
   "metadata": {},
   "source": [
    "## Plot ambient temperature comparison 20211123"
   ]
  },
  {
   "cell_type": "code",
   "execution_count": null,
   "metadata": {},
   "outputs": [],
   "source": [
    "plt.figure(dpi=200)\n",
    "# plt.plot(case1123.data['snsr_time_index'],\n",
    "#          case1123.data['t_oil_bottle_1'],\n",
    "#          label='t_oil_bottle_1')\n",
    "plt.plot(case1123.data['snsr_time_index'],\n",
    "         case1123.data['t_arc_room_left_low'] -\n",
    "         0.5 * case1123.data['t_oil_bottle_1'] -\n",
    "         0.5 * case1123.data['t_oil_bottle_2'],\n",
    "         label='t_arc_room_left_low')\n",
    "plt.plot(case1123.data['snsr_time_index'],\n",
    "         case1123.data['t_arc_room_left_mid'] -\n",
    "         0.5 * case1123.data['t_oil_bottle_1'] -\n",
    "         0.5 * case1123.data['t_oil_bottle_2'],\n",
    "         label='t_arc_room_left_mid')\n",
    "plt.plot(case1123.data['snsr_time_index'],\n",
    "         case1123.data['t_arc_room_left_high'] -\n",
    "         0.5 * case1123.data['t_oil_bottle_1'] -\n",
    "         0.5 * case1123.data['t_oil_bottle_2'],\n",
    "         label='t_arc_room_left_high')\n",
    "plt.plot(case1123.data['snsr_time_index'],\n",
    "         case1123.data['t_arc_room_right_low'] -\n",
    "         0.5 * case1123.data['t_oil_bottle_1'] -\n",
    "         0.5 * case1123.data['t_oil_bottle_2'],\n",
    "         label='t_arc_room_right_low')\n",
    "plt.plot(case1123.data['snsr_time_index'],\n",
    "         case1123.data['t_arc_room_right_mid'] -\n",
    "         0.5 * case1123.data['t_oil_bottle_1'] -\n",
    "         0.5 * case1123.data['t_oil_bottle_2'],\n",
    "         label='t_arc_room_right_mid')\n",
    "plt.plot(case1123.data['snsr_time_index'],\n",
    "         case1123.data['t_arc_room_right_high'] -\n",
    "         0.5 * case1123.data['t_oil_bottle_1'] -\n",
    "         0.5 * case1123.data['t_oil_bottle_2'],\n",
    "         label='t_arc_room_right_high')\n",
    "plt.title('ambient temp comparison between arc room without plate and oil bottle average temp')\n",
    "plt.legend()"
   ]
  },
  {
   "cell_type": "markdown",
   "metadata": {
    "collapsed": false
   },
   "source": []
  },
  {
   "cell_type": "markdown",
   "metadata": {},
   "source": [
    "## Plot DTR algorithm result 20211124\n",
    "630A constant current with fault"
   ]
  },
  {
   "cell_type": "markdown",
   "metadata": {
    "collapsed": false
   },
   "source": [
    "### 10s sample time"
   ]
  },
  {
   "cell_type": "code",
   "execution_count": null,
   "metadata": {},
   "outputs": [],
   "source": [
    "file_path = curDirectory + \\\n",
    "            '\\\\20211124_DTR&TR_SR12kV Fault Simulation\\\\1_Data formatted\\\\20211124_data_clean_10s.csv'\n",
    "config_path = curDirectory + \\\n",
    "              '' \\\n",
    "              '\\\\20211124_DTR&TR_SR12kV Fault Simulation\\\\1_Data formatted\\\\2021-11-24_config.json'\n",
    "fig_path = curDirectory + '\\\\20211124_DTR&TR_SR12kV Fault Simulation\\\\3_Graphs'\n",
    "case1124 = TR.TempRiseExperiment(file_path, config_path)\n",
    "# build current variant curve\n",
    "conver_const = 1.66\n",
    "time_const = 5500\n",
    "time_const_drop = 7000\n",
    "delay_const = 50\n",
    "tr_630A_warning = 42\n",
    "tr_630A_alarm = 50\n",
    "tr_630A_rated = 38\n",
    "# dtr_phA_si_1124 = case1124.t_dtr_plot(\"t_C1_phA_snsr_bushing\",\n",
    "#                                       case1124.data['amp_phA'],\n",
    "#                                       time_const,\n",
    "#                                       conver_const,\n",
    "#                                       tr_630A_warning,\n",
    "#                                       tr_630A_alarm,\n",
    "#                                       delay_const,\n",
    "#                                       correction_warning=5,\n",
    "#                                       correction_alarm=5,\n",
    "#                                       tr_rated=tr_630A_rated,\n",
    "#                                       time_const_drop=time_const_drop,\n",
    "#                                       title='DTR performance on 20211124 of C1A')\n",
    "dtr_phB_si_1124 = case1124.t_dtr_plot(\"t_C1_phB_snsr_bushing\",\n",
    "                                      case1124.data['amp_phB'],\n",
    "                                      time_const,\n",
    "                                      conver_const,\n",
    "                                      tr_630A_warning,\n",
    "                                      tr_630A_alarm,\n",
    "                                      delay_const,\n",
    "                                      correction_warning=5,\n",
    "                                      correction_alarm=5,\n",
    "                                      tr_rated=tr_630A_rated,\n",
    "                                      time_const_drop=time_const_drop,\n",
    "                                      title='DTR performance on 20211124 of C1B sample_time=10s')\n",
    "# dtr_phC_si_1124 = case1124.t_dtr_plot(\"t_C1_phC_snsr_bushing\",\n",
    "#                                       case1124.data['amp_phA'],\n",
    "#                                       time_const,\n",
    "#                                       conver_const,\n",
    "#                                       tr_630A_warning,\n",
    "#                                       tr_630A_alarm,\n",
    "#                                       delay_const,\n",
    "#                                       correction_warning=5,\n",
    "#                                       correction_alarm=5,\n",
    "#                                       tr_rated=tr_630A_rated,\n",
    "#                                       time_const_drop=time_const_drop,\n",
    "#                                       title='DTR performance on 20211124 of C1C')\n",
    "# dtr_phA_si_1124 = case1124.t_dtr_plot(\"t_V3_phA_snsr_bushing\",\n",
    "#                                       case1124.data['amp_phA'],\n",
    "#                                       time_const,\n",
    "#                                       conver_const,\n",
    "#                                       tr_630A_warning,\n",
    "#                                       tr_630A_alarm,\n",
    "#                                       delay_const,\n",
    "#                                       correction_warning=5,\n",
    "#                                       correction_alarm=5,\n",
    "#                                       tr_rated=tr_630A_rated,\n",
    "#                                       time_const_drop=time_const_drop,\n",
    "#                                       title='DTR performance on 20211124 of V3A')\n",
    "# dtr_phB_si_1124 = case1124.t_dtr_plot(\"t_V3_phB_snsr_bushing\",\n",
    "#                                       case1124.data['amp_phA'],\n",
    "#                                       time_const,\n",
    "#                                       conver_const,\n",
    "#                                       tr_630A_warning,\n",
    "#                                       tr_630A_alarm,\n",
    "#                                       delay_const,\n",
    "#                                       correction_warning=5,\n",
    "#                                       correction_alarm=5,\n",
    "#                                       tr_rated=tr_630A_rated,\n",
    "#                                       time_const_drop=time_const_drop,\n",
    "#                                       title='DTR performance on 20211124 of V3B')\n",
    "# dtr_phC_si_1124 = case1124.t_dtr_plot(\"t_V3_phC_snsr_bushing\",\n",
    "#                                       case1124.data['amp_phA'],\n",
    "#                                       time_const,\n",
    "#                                       conver_const,\n",
    "#                                       tr_630A_warning,\n",
    "#                                       tr_630A_alarm,\n",
    "#                                       delay_const,\n",
    "#                                       correction_warning=5,\n",
    "#                                       correction_alarm=5,\n",
    "#                                       tr_rated=tr_630A_rated,\n",
    "#                                       time_const_drop=time_const_drop,\n",
    "#                                       title='DTR performance on 20211124 of V3C')\n",
    "# form algorithm output data of warning, alarm, si\n",
    "# alg_result = pd.DataFrame()\n",
    "# alg_result['date_time'] = dtr_phA_si_1124[\"snsr_datetime\"].copy()\n",
    "# alg_result['SR_bushing_A'] = dtr_phA_si_1124[\"t_C1_phA_snsr_bushing\"].copy()\n",
    "# alg_result['SR_bushing_A_warning'] = dtr_phA_si_1124['t_warning'].copy()\n",
    "# alg_result['SR_bushing_A_alarm'] = dtr_phA_si_1124['t_alarm'].copy()\n",
    "# alg_result['SR_bushing_A_si'] = dtr_phA_si_1124['t_si'].copy()\n",
    "#\n",
    "# alg_result['SR_bushing_B'] = dtr_phB_si_1124[\"t_C1_phB_snsr_bushing\"].copy()\n",
    "# alg_result['SR_bushing_B_warning'] = dtr_phB_si_1124['t_warning'].copy()\n",
    "# alg_result['SR_bushing_B_alarm'] = dtr_phB_si_1124['t_alarm'].copy()\n",
    "# alg_result['SR_bushing_B_si'] = dtr_phB_si_1124['t_si'].copy()\n",
    "#\n",
    "# alg_result['SR_bushing_C'] = dtr_phC_si_1124[\"t_C1_phC_snsr_bushing\"].copy()\n",
    "# alg_result['SR_bushing_C_warning'] = dtr_phC_si_1124['t_warning'].copy()\n",
    "# alg_result['SR_bushing_C_alarm'] = dtr_phC_si_1124['t_alarm'].copy()\n",
    "# alg_result['SR_bushing_C_si'] = dtr_phC_si_1124['t_si'].copy()\n",
    "#\n",
    "# alg_result['current_A'] = dtr_phA_si_1124['current'].copy()\n",
    "# alg_result['current_B'] = dtr_phB_si_1124['current'].copy()\n",
    "# alg_result['current_C'] = dtr_phC_si_1124['current'].copy()\n",
    "# alg_result['ambient'] = case1124.data[\"t_oil_bottle_1\"].copy()\n",
    "#\n",
    "# alg_result.to_csv(fig_path + '\\\\' + 'alg_result.csv')\n"
   ]
  },
  {
   "cell_type": "markdown",
   "metadata": {
    "collapsed": false
   },
   "source": [
    "### 5min sample time"
   ]
  },
  {
   "cell_type": "code",
   "execution_count": null,
   "metadata": {
    "collapsed": false,
    "pycharm": {
     "name": "#%%\n"
    }
   },
   "outputs": [],
   "source": [
    "file_path = curDirectory + \\\n",
    "            '\\\\20211124_DTR&TR_SR12kV Fault Simulation\\\\1_Data formatted\\\\20211124_data_clean_5min.csv'\n",
    "config_path = curDirectory + \\\n",
    "              '\\\\20211124_DTR&TR_SR12kV Fault Simulation\\\\1_Data formatted\\\\2021-11-24_config.json'\n",
    "fig_path = curDirectory + '\\\\20211124_DTR&TR_SR12kV Fault Simulation\\\\3_Graphs'\n",
    "case1124_5min = TR.TempRiseExperiment(file_path, config_path)\n",
    "# build current variant curve\n",
    "conver_const = 1.66\n",
    "time_const = 5500\n",
    "time_const_drop = 7000\n",
    "delay_const = 2\n",
    "tr_630A_warning = 42\n",
    "tr_630A_alarm = 50\n",
    "tr_630A_rated = 38\n",
    "dtr_phA_si_1124_c1_5min = case1124_5min.t_dtr_plot_inst_alarm(\"t_C1_phA_snsr_bushing\",\n",
    "                                      case1124_5min.data['amp_phA'],\n",
    "                                      time_const,\n",
    "                                      conver_const,\n",
    "                                      tr_630A_warning,\n",
    "                                      tr_630A_alarm,\n",
    "                                      delay_const,\n",
    "                                      correction_warning=5,\n",
    "                                      correction_alarm=5,\n",
    "                                      tr_rated=tr_630A_rated,\n",
    "                                      time_const_drop=time_const_drop,\n",
    "                                      sample_time=300,\n",
    "                                      title='DTR performance on 20211124 of C1A sample_time=5min')\n",
    "dtr_phB_si_1124_c1_5min = case1124_5min.t_dtr_plot_inst_alarm(\"t_C1_phB_snsr_bushing\",\n",
    "                                      case1124_5min.data['amp_phB'],\n",
    "                                      time_const,\n",
    "                                      conver_const,\n",
    "                                      tr_630A_warning,\n",
    "                                      tr_630A_alarm,\n",
    "                                      delay_const,\n",
    "                                      correction_warning=5,\n",
    "                                      correction_alarm=5,\n",
    "                                      tr_rated=tr_630A_rated,\n",
    "                                      time_const_drop=time_const_drop,\n",
    "                                      sample_time=300,\n",
    "                                      title='DTR performance on 20211124 of C1B sample_time=5min')\n",
    "dtr_phC_si_1124_c1_5min = case1124_5min.t_dtr_plot_inst_alarm(\"t_C1_phC_snsr_bushing\",\n",
    "                                      case1124_5min.data['amp_phC'],\n",
    "                                      time_const,\n",
    "                                      conver_const,\n",
    "                                      tr_630A_warning,\n",
    "                                      tr_630A_alarm,\n",
    "                                      delay_const,\n",
    "                                      correction_warning=5,\n",
    "                                      correction_alarm=5,\n",
    "                                      tr_rated=tr_630A_rated,\n",
    "                                      time_const_drop=time_const_drop,\n",
    "                                      sample_time=300,\n",
    "                                      title='DTR performance on 20211124 of C1C sample_time=5min')"
   ]
  },
  {
   "cell_type": "code",
   "execution_count": null,
   "metadata": {},
   "outputs": [],
   "source": [
    "a = case1124_5min.data['amp_phB']\n",
    "b = case1124_5min.data['t_oil_bottle_1']"
   ]
  },
  {
   "cell_type": "markdown",
   "metadata": {
    "collapsed": false
   },
   "source": [
    "### export algorithm output"
   ]
  },
  {
   "cell_type": "code",
   "execution_count": null,
   "metadata": {
    "collapsed": false,
    "pycharm": {
     "name": "#%%\n"
    }
   },
   "outputs": [],
   "source": [
    "alg_result = pd.DataFrame()\n",
    "alg_result['date_time'] = dtr_phA_si_1124_c1_5min[\"snsr_datetime\"].copy()\n",
    "alg_result['SR_bushing_A'] = dtr_phA_si_1124_c1_5min[\"t_C1_phA_snsr_bushing\"].copy()\n",
    "alg_result['SR_bushing_A_warning'] = dtr_phA_si_1124_c1_5min['t_warning'].copy()\n",
    "alg_result['SR_bushing_A_alarm'] = dtr_phA_si_1124_c1_5min['t_alarm'].copy()\n",
    "alg_result['SR_bushing_A_si'] = dtr_phA_si_1124_c1_5min['t_si'].copy()\n",
    "\n",
    "alg_result['SR_bushing_B'] = dtr_phB_si_1124_c1_5min[\"t_C1_phB_snsr_bushing\"].copy()\n",
    "alg_result['SR_bushing_B_warning'] = dtr_phB_si_1124_c1_5min['t_warning'].copy()\n",
    "alg_result['SR_bushing_B_alarm'] = dtr_phB_si_1124_c1_5min['t_alarm'].copy()\n",
    "alg_result['SR_bushing_B_si'] = dtr_phB_si_1124_c1_5min['t_si'].copy()\n",
    "\n",
    "alg_result['SR_bushing_C'] = dtr_phC_si_1124_c1_5min[\"t_C1_phC_snsr_bushing\"].copy()\n",
    "alg_result['SR_bushing_C_warning'] = dtr_phC_si_1124_c1_5min['t_warning'].copy()\n",
    "alg_result['SR_bushing_C_alarm'] = dtr_phC_si_1124_c1_5min['t_alarm'].copy()\n",
    "alg_result['SR_bushing_C_si'] = dtr_phC_si_1124_c1_5min['t_si'].copy()\n",
    "\n",
    "alg_result['current_A'] = dtr_phA_si_1124_c1_5min['current'].copy()\n",
    "alg_result['current_B'] = dtr_phB_si_1124_c1_5min['current'].copy()\n",
    "alg_result['current_C'] = dtr_phC_si_1124_c1_5min['current'].copy()\n",
    "alg_result['ambient'] = case1124_5min.data[\"t_oil_bottle_1\"].copy()\n",
    "\n",
    "alg_result.to_csv(fig_path + '\\\\' + 'alg_result_20211124.csv')"
   ]
  },
  {
   "cell_type": "markdown",
   "metadata": {},
   "source": [
    "## Plot ambient temperature comparison 20211124"
   ]
  },
  {
   "cell_type": "code",
   "execution_count": null,
   "metadata": {},
   "outputs": [],
   "source": [
    "plt.figure(dpi=200)\n",
    "# plt.plot(case1123.data['snsr_time_index'],\n",
    "#          case1123.data['t_oil_bottle_1'],\n",
    "#          label='t_oil_bottle_1')\n",
    "plt.plot(case1124.data['snsr_time_index'],\n",
    "         case1124.data['t_arc_room_left_low'] -\n",
    "         0.5 * case1124.data['t_oil_bottle_1'] -\n",
    "         0.5 * case1124.data['t_oil_bottle_2'],\n",
    "         label='t_arc_room_left_low')\n",
    "plt.plot(case1124.data['snsr_time_index'],\n",
    "         case1124.data['t_arc_room_left_mid'] -\n",
    "         0.5 * case1124.data['t_oil_bottle_1'] -\n",
    "         0.5 * case1124.data['t_oil_bottle_2'],\n",
    "         label='t_arc_room_left_mid')\n",
    "plt.plot(case1124.data['snsr_time_index'],\n",
    "         case1124.data['t_arc_room_left_high'] -\n",
    "         0.5 * case1124.data['t_oil_bottle_1'] -\n",
    "         0.5 * case1124.data['t_oil_bottle_2'],\n",
    "         label='t_arc_room_left_high')\n",
    "plt.plot(case1124.data['snsr_time_index'],\n",
    "         case1124.data['t_arc_room_right_low'] -\n",
    "         0.5 * case1124.data['t_oil_bottle_1'] -\n",
    "         0.5 * case1124.data['t_oil_bottle_2'],\n",
    "         label='t_arc_room_right_low')\n",
    "plt.plot(case1124.data['snsr_time_index'],\n",
    "         case1124.data['t_arc_room_right_mid'] -\n",
    "         0.5 * case1124.data['t_oil_bottle_1'] -\n",
    "         0.5 * case1124.data['t_oil_bottle_2'],\n",
    "         label='t_arc_room_right_mid')\n",
    "plt.plot(case1124.data['snsr_time_index'],\n",
    "         case1124.data['t_arc_room_right_high'] -\n",
    "         0.5 * case1124.data['t_oil_bottle_1'] -\n",
    "         0.5 * case1124.data['t_oil_bottle_2'],\n",
    "         label='t_arc_room_right_high')\n",
    "plt.title('ambient temp comparison between arc room with plate and oil bottle average temp')\n",
    "plt.legend()"
   ]
  },
  {
   "cell_type": "markdown",
   "metadata": {
    "collapsed": false
   },
   "source": [
    "## ambient temp VS current for lusa\n"
   ]
  },
  {
   "cell_type": "code",
   "execution_count": null,
   "metadata": {
    "collapsed": false,
    "pycharm": {
     "name": "#%%\n"
    }
   },
   "outputs": [],
   "source": [
    "fig, ax = plt.subplots(dpi=200)\n",
    "ax.plot(case1123.data['snsr_time_index'],\n",
    "        case1123.data['t_oil_bottle_1'],\n",
    "        label='oil_bottle_1 temp',\n",
    "        color='red')\n",
    "# plt.legend()\n",
    "ax1 = plt.twinx(ax)\n",
    "ax1.plot(case1123.data['snsr_time_index'],\n",
    "         case1123.data['amp_phA'],\n",
    "         label='phA primary current',\n",
    "         color='blue')\n",
    "plt.title('oil bottle temp vs primary current')\n",
    "ax.legend(loc='upper left')\n",
    "ax1.legend(loc='upper right')\n",
    "\n",
    "fig, ax = plt.subplots(dpi=200)\n",
    "ax.plot(case1124.data['snsr_time_index'],\n",
    "        case1124.data['t_oil_bottle_1'],\n",
    "        label='oil_bottle_1 temp',\n",
    "        color='red')\n",
    "# plt.legend()\n",
    "ax1 = plt.twinx(ax)\n",
    "ax1.plot(case1124.data['snsr_time_index'],\n",
    "         case1124.data['amp_phA'],\n",
    "         label='phA primary current',\n",
    "         color='blue')\n",
    "plt.title('oil bottle temp vs primary current')\n",
    "ax.legend(loc='upper left')\n",
    "ax1.legend(loc='upper right')\n"
   ]
  },
  {
   "cell_type": "markdown",
   "metadata": {
    "collapsed": false
   },
   "source": []
  },
  {
   "cell_type": "markdown",
   "metadata": {
    "collapsed": false
   },
   "source": [
    "## statistical error analysis of DTR algorithm for Safe 12/24kV\n",
    "since algorithm parameters were fitted against the hottest Unit C1 phase B, error analysis is performed on C1B"
   ]
  },
  {
   "cell_type": "code",
   "execution_count": null,
   "metadata": {
    "collapsed": false,
    "pycharm": {
     "name": "#%%\n"
    }
   },
   "outputs": [],
   "source": [
    "# 20211106\n",
    "alg_result['SR_bushing_B'] = dtr_phB_si_1106_5min[\"t_C1_phB_snsr_bushing\"].copy()\n",
    "alg_result['SR_bushing_B_rated'] = dtr_phB_si_1106_5min['t_rated'].copy()\n",
    "err_alg_C1B = TR.TempRiseExperiment.get_max_abs(alg_result['SR_bushing_B'], alg_result['SR_bushing_B_rated'])\n",
    "print('err_alg_C1B = ', err_alg_C1B)\n",
    "\n",
    "fig, ax1 = plt.subplots(dpi=200)\n",
    "ax1.plot(alg_result['SR_bushing_B'],label='tested temp')\n",
    "ax1.plot(alg_result['SR_bushing_B_rated'],label='predicted temp ')\n",
    "ax1.legend(loc='upper left')\n",
    "ax2 = plt.twinx(ax1)\n",
    "ax2.plot(alg_result['SR_bushing_B']- alg_result['SR_bushing_B_rated'], 'k:',label='difference')\n",
    "ax2.legend(loc='upper right')\n",
    "plt.show()\n",
    "\n",
    "# 20211107\n",
    "alg_result['SR_bushing_B'] = dtr_phB_si_1107_c1_5min[\"t_C1_phB_snsr_bushing\"].copy()\n",
    "alg_result['SR_bushing_B_rated'] = dtr_phB_si_1107_c1_5min['t_rated'].copy()\n",
    "err_alg_C1B = TR.TempRiseExperiment.get_max_abs(alg_result['SR_bushing_B'], alg_result['SR_bushing_B_rated'])\n",
    "print('err_alg_C1B = ', err_alg_C1B)\n",
    "\n"
   ]
  },
  {
   "cell_type": "markdown",
   "metadata": {},
   "source": [
    "# Safe Air 12kV\n",
    "## Calculate Time Constant T 20211208\n",
    "Stable 300A for PhA,PhB,PhC"
   ]
  },
  {
   "cell_type": "code",
   "execution_count": 5,
   "metadata": {},
   "outputs": [
    {
     "name": "stdout",
     "output_type": "stream",
     "text": [
      "Temperature balance time is 2021-12-08 14:18:40.\n"
     ]
    },
    {
     "ename": "KeyError",
     "evalue": "0",
     "output_type": "error",
     "traceback": [
      "\u001b[1;31m---------------------------------------------------------------------------\u001b[0m",
      "\u001b[1;31mKeyError\u001b[0m                                  Traceback (most recent call last)",
      "\u001b[1;32m~\\AppData\\Local\\Temp\\ipykernel_2600\\2835450135.py\u001b[0m in \u001b[0;36m<module>\u001b[1;34m\u001b[0m\n\u001b[0;32m     13\u001b[0m \u001b[0mcase1208\u001b[0m \u001b[1;33m=\u001b[0m \u001b[0mTR\u001b[0m\u001b[1;33m.\u001b[0m\u001b[0mTempRiseExperiment\u001b[0m\u001b[1;33m(\u001b[0m\u001b[0mfile_path\u001b[0m\u001b[1;33m,\u001b[0m \u001b[0mconfig_path\u001b[0m\u001b[1;33m)\u001b[0m\u001b[1;33m\u001b[0m\u001b[1;33m\u001b[0m\u001b[0m\n\u001b[0;32m     14\u001b[0m \u001b[0mcase1208\u001b[0m\u001b[1;33m.\u001b[0m\u001b[0mfind_balance_index\u001b[0m\u001b[1;33m(\u001b[0m\u001b[0mlist\u001b[0m\u001b[1;33m(\u001b[0m\u001b[0mrange\u001b[0m\u001b[1;33m(\u001b[0m\u001b[1;36m21\u001b[0m\u001b[1;33m,\u001b[0m \u001b[1;36m67\u001b[0m\u001b[1;33m)\u001b[0m\u001b[1;33m)\u001b[0m\u001b[1;33m)\u001b[0m\u001b[1;33m\u001b[0m\u001b[1;33m\u001b[0m\u001b[0m\n\u001b[1;32m---> 15\u001b[1;33m \u001b[0mcase1208\u001b[0m\u001b[1;33m.\u001b[0m\u001b[0mdata_filter\u001b[0m\u001b[1;33m(\u001b[0m\u001b[1;34m't_env'\u001b[0m\u001b[1;33m,\u001b[0m \u001b[1;36m0\u001b[0m\u001b[1;33m,\u001b[0m \u001b[1;36m100\u001b[0m\u001b[1;33m,\u001b[0m \u001b[1;36m1\u001b[0m\u001b[1;33m)\u001b[0m\u001b[1;33m\u001b[0m\u001b[1;33m\u001b[0m\u001b[0m\n\u001b[0m\u001b[0;32m     16\u001b[0m \u001b[0mcase1208\u001b[0m\u001b[1;33m.\u001b[0m\u001b[0minterp_data_nan\u001b[0m\u001b[1;33m(\u001b[0m\u001b[1;34m't_env'\u001b[0m\u001b[1;33m)\u001b[0m\u001b[1;33m\u001b[0m\u001b[1;33m\u001b[0m\u001b[0m\n\u001b[0;32m     17\u001b[0m \u001b[0mcase1208\u001b[0m\u001b[1;33m.\u001b[0m\u001b[0minterp_data_zero\u001b[0m\u001b[1;33m(\u001b[0m\u001b[1;34m't_C1_phA_snsr_bushing'\u001b[0m\u001b[1;33m)\u001b[0m\u001b[1;33m\u001b[0m\u001b[1;33m\u001b[0m\u001b[0m\n",
      "\u001b[1;32m~\\ABB\\Safe Digital in CN - Documents - Documents\\06_Test and Analytics\\01_Code\\lib\\safedigital\\temperature.py\u001b[0m in \u001b[0;36mdata_filter\u001b[1;34m(self, col_name, low_lim, high_lim, diff_lim)\u001b[0m\n\u001b[0;32m   1113\u001b[0m         \u001b[1;33m-\u001b[0m\u001b[1;33m-\u001b[0m\u001b[1;33m-\u001b[0m\u001b[1;33m-\u001b[0m\u001b[1;33m-\u001b[0m\u001b[1;33m-\u001b[0m\u001b[1;33m-\u001b[0m\u001b[1;33m\u001b[0m\u001b[1;33m\u001b[0m\u001b[0m\n\u001b[0;32m   1114\u001b[0m         \"\"\"\n\u001b[1;32m-> 1115\u001b[1;33m         \u001b[0mdiff\u001b[0m \u001b[1;33m=\u001b[0m \u001b[0mnp\u001b[0m\u001b[1;33m.\u001b[0m\u001b[0mdiff\u001b[0m\u001b[1;33m(\u001b[0m\u001b[0mself\u001b[0m\u001b[1;33m.\u001b[0m\u001b[0mdata\u001b[0m\u001b[1;33m[\u001b[0m\u001b[0mcol_name\u001b[0m\u001b[1;33m]\u001b[0m\u001b[1;33m.\u001b[0m\u001b[0mvalues\u001b[0m\u001b[1;33m,\u001b[0m \u001b[0mprepend\u001b[0m\u001b[1;33m=\u001b[0m\u001b[0mself\u001b[0m\u001b[1;33m.\u001b[0m\u001b[0mdata\u001b[0m\u001b[1;33m.\u001b[0m\u001b[0mloc\u001b[0m\u001b[1;33m[\u001b[0m\u001b[1;36m0\u001b[0m\u001b[1;33m,\u001b[0m \u001b[0mcol_name\u001b[0m\u001b[1;33m]\u001b[0m\u001b[1;33m)\u001b[0m\u001b[1;33m\u001b[0m\u001b[1;33m\u001b[0m\u001b[0m\n\u001b[0m\u001b[0;32m   1116\u001b[0m         \u001b[1;32mfor\u001b[0m \u001b[0mj\u001b[0m \u001b[1;32min\u001b[0m \u001b[0mrange\u001b[0m\u001b[1;33m(\u001b[0m\u001b[0mlen\u001b[0m\u001b[1;33m(\u001b[0m\u001b[0mself\u001b[0m\u001b[1;33m.\u001b[0m\u001b[0mdata\u001b[0m\u001b[1;33m)\u001b[0m\u001b[1;33m)\u001b[0m\u001b[1;33m:\u001b[0m\u001b[1;33m\u001b[0m\u001b[1;33m\u001b[0m\u001b[0m\n\u001b[0;32m   1117\u001b[0m             if ((self.data.loc[j, col_name] > high_lim) or\n",
      "\u001b[1;32mc:\\Users\\cnbofan1\\AppData\\Local\\Programs\\Python\\Python37\\lib\\site-packages\\pandas\\core\\indexing.py\u001b[0m in \u001b[0;36m__getitem__\u001b[1;34m(self, key)\u001b[0m\n\u001b[0;32m    923\u001b[0m                 \u001b[1;32mwith\u001b[0m \u001b[0msuppress\u001b[0m\u001b[1;33m(\u001b[0m\u001b[0mKeyError\u001b[0m\u001b[1;33m,\u001b[0m \u001b[0mIndexError\u001b[0m\u001b[1;33m)\u001b[0m\u001b[1;33m:\u001b[0m\u001b[1;33m\u001b[0m\u001b[1;33m\u001b[0m\u001b[0m\n\u001b[0;32m    924\u001b[0m                     \u001b[1;32mreturn\u001b[0m \u001b[0mself\u001b[0m\u001b[1;33m.\u001b[0m\u001b[0mobj\u001b[0m\u001b[1;33m.\u001b[0m\u001b[0m_get_value\u001b[0m\u001b[1;33m(\u001b[0m\u001b[1;33m*\u001b[0m\u001b[0mkey\u001b[0m\u001b[1;33m,\u001b[0m \u001b[0mtakeable\u001b[0m\u001b[1;33m=\u001b[0m\u001b[0mself\u001b[0m\u001b[1;33m.\u001b[0m\u001b[0m_takeable\u001b[0m\u001b[1;33m)\u001b[0m\u001b[1;33m\u001b[0m\u001b[1;33m\u001b[0m\u001b[0m\n\u001b[1;32m--> 925\u001b[1;33m             \u001b[1;32mreturn\u001b[0m \u001b[0mself\u001b[0m\u001b[1;33m.\u001b[0m\u001b[0m_getitem_tuple\u001b[0m\u001b[1;33m(\u001b[0m\u001b[0mkey\u001b[0m\u001b[1;33m)\u001b[0m\u001b[1;33m\u001b[0m\u001b[1;33m\u001b[0m\u001b[0m\n\u001b[0m\u001b[0;32m    926\u001b[0m         \u001b[1;32melse\u001b[0m\u001b[1;33m:\u001b[0m\u001b[1;33m\u001b[0m\u001b[1;33m\u001b[0m\u001b[0m\n\u001b[0;32m    927\u001b[0m             \u001b[1;31m# we by definition only have the 0th axis\u001b[0m\u001b[1;33m\u001b[0m\u001b[1;33m\u001b[0m\u001b[1;33m\u001b[0m\u001b[0m\n",
      "\u001b[1;32mc:\\Users\\cnbofan1\\AppData\\Local\\Programs\\Python\\Python37\\lib\\site-packages\\pandas\\core\\indexing.py\u001b[0m in \u001b[0;36m_getitem_tuple\u001b[1;34m(self, tup)\u001b[0m\n\u001b[0;32m   1098\u001b[0m     \u001b[1;32mdef\u001b[0m \u001b[0m_getitem_tuple\u001b[0m\u001b[1;33m(\u001b[0m\u001b[0mself\u001b[0m\u001b[1;33m,\u001b[0m \u001b[0mtup\u001b[0m\u001b[1;33m:\u001b[0m \u001b[0mtuple\u001b[0m\u001b[1;33m)\u001b[0m\u001b[1;33m:\u001b[0m\u001b[1;33m\u001b[0m\u001b[1;33m\u001b[0m\u001b[0m\n\u001b[0;32m   1099\u001b[0m         \u001b[1;32mwith\u001b[0m \u001b[0msuppress\u001b[0m\u001b[1;33m(\u001b[0m\u001b[0mIndexingError\u001b[0m\u001b[1;33m)\u001b[0m\u001b[1;33m:\u001b[0m\u001b[1;33m\u001b[0m\u001b[1;33m\u001b[0m\u001b[0m\n\u001b[1;32m-> 1100\u001b[1;33m             \u001b[1;32mreturn\u001b[0m \u001b[0mself\u001b[0m\u001b[1;33m.\u001b[0m\u001b[0m_getitem_lowerdim\u001b[0m\u001b[1;33m(\u001b[0m\u001b[0mtup\u001b[0m\u001b[1;33m)\u001b[0m\u001b[1;33m\u001b[0m\u001b[1;33m\u001b[0m\u001b[0m\n\u001b[0m\u001b[0;32m   1101\u001b[0m \u001b[1;33m\u001b[0m\u001b[0m\n\u001b[0;32m   1102\u001b[0m         \u001b[1;31m# no multi-index, so validate all of the indexers\u001b[0m\u001b[1;33m\u001b[0m\u001b[1;33m\u001b[0m\u001b[1;33m\u001b[0m\u001b[0m\n",
      "\u001b[1;32mc:\\Users\\cnbofan1\\AppData\\Local\\Programs\\Python\\Python37\\lib\\site-packages\\pandas\\core\\indexing.py\u001b[0m in \u001b[0;36m_getitem_lowerdim\u001b[1;34m(self, tup)\u001b[0m\n\u001b[0;32m    836\u001b[0m                 \u001b[1;31m# We don't need to check for tuples here because those are\u001b[0m\u001b[1;33m\u001b[0m\u001b[1;33m\u001b[0m\u001b[1;33m\u001b[0m\u001b[0m\n\u001b[0;32m    837\u001b[0m                 \u001b[1;31m#  caught by the _is_nested_tuple_indexer check above.\u001b[0m\u001b[1;33m\u001b[0m\u001b[1;33m\u001b[0m\u001b[1;33m\u001b[0m\u001b[0m\n\u001b[1;32m--> 838\u001b[1;33m                 \u001b[0msection\u001b[0m \u001b[1;33m=\u001b[0m \u001b[0mself\u001b[0m\u001b[1;33m.\u001b[0m\u001b[0m_getitem_axis\u001b[0m\u001b[1;33m(\u001b[0m\u001b[0mkey\u001b[0m\u001b[1;33m,\u001b[0m \u001b[0maxis\u001b[0m\u001b[1;33m=\u001b[0m\u001b[0mi\u001b[0m\u001b[1;33m)\u001b[0m\u001b[1;33m\u001b[0m\u001b[1;33m\u001b[0m\u001b[0m\n\u001b[0m\u001b[0;32m    839\u001b[0m \u001b[1;33m\u001b[0m\u001b[0m\n\u001b[0;32m    840\u001b[0m                 \u001b[1;31m# We should never have a scalar section here, because\u001b[0m\u001b[1;33m\u001b[0m\u001b[1;33m\u001b[0m\u001b[1;33m\u001b[0m\u001b[0m\n",
      "\u001b[1;32mc:\\Users\\cnbofan1\\AppData\\Local\\Programs\\Python\\Python37\\lib\\site-packages\\pandas\\core\\indexing.py\u001b[0m in \u001b[0;36m_getitem_axis\u001b[1;34m(self, key, axis)\u001b[0m\n\u001b[0;32m   1162\u001b[0m         \u001b[1;31m# fall thru to straight lookup\u001b[0m\u001b[1;33m\u001b[0m\u001b[1;33m\u001b[0m\u001b[1;33m\u001b[0m\u001b[0m\n\u001b[0;32m   1163\u001b[0m         \u001b[0mself\u001b[0m\u001b[1;33m.\u001b[0m\u001b[0m_validate_key\u001b[0m\u001b[1;33m(\u001b[0m\u001b[0mkey\u001b[0m\u001b[1;33m,\u001b[0m \u001b[0maxis\u001b[0m\u001b[1;33m)\u001b[0m\u001b[1;33m\u001b[0m\u001b[1;33m\u001b[0m\u001b[0m\n\u001b[1;32m-> 1164\u001b[1;33m         \u001b[1;32mreturn\u001b[0m \u001b[0mself\u001b[0m\u001b[1;33m.\u001b[0m\u001b[0m_get_label\u001b[0m\u001b[1;33m(\u001b[0m\u001b[0mkey\u001b[0m\u001b[1;33m,\u001b[0m \u001b[0maxis\u001b[0m\u001b[1;33m=\u001b[0m\u001b[0maxis\u001b[0m\u001b[1;33m)\u001b[0m\u001b[1;33m\u001b[0m\u001b[1;33m\u001b[0m\u001b[0m\n\u001b[0m\u001b[0;32m   1165\u001b[0m \u001b[1;33m\u001b[0m\u001b[0m\n\u001b[0;32m   1166\u001b[0m     \u001b[1;32mdef\u001b[0m \u001b[0m_get_slice_axis\u001b[0m\u001b[1;33m(\u001b[0m\u001b[0mself\u001b[0m\u001b[1;33m,\u001b[0m \u001b[0mslice_obj\u001b[0m\u001b[1;33m:\u001b[0m \u001b[0mslice\u001b[0m\u001b[1;33m,\u001b[0m \u001b[0maxis\u001b[0m\u001b[1;33m:\u001b[0m \u001b[0mint\u001b[0m\u001b[1;33m)\u001b[0m\u001b[1;33m:\u001b[0m\u001b[1;33m\u001b[0m\u001b[1;33m\u001b[0m\u001b[0m\n",
      "\u001b[1;32mc:\\Users\\cnbofan1\\AppData\\Local\\Programs\\Python\\Python37\\lib\\site-packages\\pandas\\core\\indexing.py\u001b[0m in \u001b[0;36m_get_label\u001b[1;34m(self, label, axis)\u001b[0m\n\u001b[0;32m   1111\u001b[0m     \u001b[1;32mdef\u001b[0m \u001b[0m_get_label\u001b[0m\u001b[1;33m(\u001b[0m\u001b[0mself\u001b[0m\u001b[1;33m,\u001b[0m \u001b[0mlabel\u001b[0m\u001b[1;33m,\u001b[0m \u001b[0maxis\u001b[0m\u001b[1;33m:\u001b[0m \u001b[0mint\u001b[0m\u001b[1;33m)\u001b[0m\u001b[1;33m:\u001b[0m\u001b[1;33m\u001b[0m\u001b[1;33m\u001b[0m\u001b[0m\n\u001b[0;32m   1112\u001b[0m         \u001b[1;31m# GH#5667 this will fail if the label is not present in the axis.\u001b[0m\u001b[1;33m\u001b[0m\u001b[1;33m\u001b[0m\u001b[1;33m\u001b[0m\u001b[0m\n\u001b[1;32m-> 1113\u001b[1;33m         \u001b[1;32mreturn\u001b[0m \u001b[0mself\u001b[0m\u001b[1;33m.\u001b[0m\u001b[0mobj\u001b[0m\u001b[1;33m.\u001b[0m\u001b[0mxs\u001b[0m\u001b[1;33m(\u001b[0m\u001b[0mlabel\u001b[0m\u001b[1;33m,\u001b[0m \u001b[0maxis\u001b[0m\u001b[1;33m=\u001b[0m\u001b[0maxis\u001b[0m\u001b[1;33m)\u001b[0m\u001b[1;33m\u001b[0m\u001b[1;33m\u001b[0m\u001b[0m\n\u001b[0m\u001b[0;32m   1114\u001b[0m \u001b[1;33m\u001b[0m\u001b[0m\n\u001b[0;32m   1115\u001b[0m     \u001b[1;32mdef\u001b[0m \u001b[0m_handle_lowerdim_multi_index_axis0\u001b[0m\u001b[1;33m(\u001b[0m\u001b[0mself\u001b[0m\u001b[1;33m,\u001b[0m \u001b[0mtup\u001b[0m\u001b[1;33m:\u001b[0m \u001b[0mtuple\u001b[0m\u001b[1;33m)\u001b[0m\u001b[1;33m:\u001b[0m\u001b[1;33m\u001b[0m\u001b[1;33m\u001b[0m\u001b[0m\n",
      "\u001b[1;32mc:\\Users\\cnbofan1\\AppData\\Local\\Programs\\Python\\Python37\\lib\\site-packages\\pandas\\core\\generic.py\u001b[0m in \u001b[0;36mxs\u001b[1;34m(self, key, axis, level, drop_level)\u001b[0m\n\u001b[0;32m   3774\u001b[0m                 \u001b[1;32mraise\u001b[0m \u001b[0mTypeError\u001b[0m\u001b[1;33m(\u001b[0m\u001b[1;34mf\"Expected label or tuple of labels, got {key}\"\u001b[0m\u001b[1;33m)\u001b[0m \u001b[1;32mfrom\u001b[0m \u001b[0me\u001b[0m\u001b[1;33m\u001b[0m\u001b[1;33m\u001b[0m\u001b[0m\n\u001b[0;32m   3775\u001b[0m         \u001b[1;32melse\u001b[0m\u001b[1;33m:\u001b[0m\u001b[1;33m\u001b[0m\u001b[1;33m\u001b[0m\u001b[0m\n\u001b[1;32m-> 3776\u001b[1;33m             \u001b[0mloc\u001b[0m \u001b[1;33m=\u001b[0m \u001b[0mindex\u001b[0m\u001b[1;33m.\u001b[0m\u001b[0mget_loc\u001b[0m\u001b[1;33m(\u001b[0m\u001b[0mkey\u001b[0m\u001b[1;33m)\u001b[0m\u001b[1;33m\u001b[0m\u001b[1;33m\u001b[0m\u001b[0m\n\u001b[0m\u001b[0;32m   3777\u001b[0m \u001b[1;33m\u001b[0m\u001b[0m\n\u001b[0;32m   3778\u001b[0m             \u001b[1;32mif\u001b[0m \u001b[0misinstance\u001b[0m\u001b[1;33m(\u001b[0m\u001b[0mloc\u001b[0m\u001b[1;33m,\u001b[0m \u001b[0mnp\u001b[0m\u001b[1;33m.\u001b[0m\u001b[0mndarray\u001b[0m\u001b[1;33m)\u001b[0m\u001b[1;33m:\u001b[0m\u001b[1;33m\u001b[0m\u001b[1;33m\u001b[0m\u001b[0m\n",
      "\u001b[1;32mc:\\Users\\cnbofan1\\AppData\\Local\\Programs\\Python\\Python37\\lib\\site-packages\\pandas\\core\\indexes\\datetimes.py\u001b[0m in \u001b[0;36mget_loc\u001b[1;34m(self, key, method, tolerance)\u001b[0m\n\u001b[0;32m    698\u001b[0m         \u001b[1;32melse\u001b[0m\u001b[1;33m:\u001b[0m\u001b[1;33m\u001b[0m\u001b[1;33m\u001b[0m\u001b[0m\n\u001b[0;32m    699\u001b[0m             \u001b[1;31m# unrecognized type\u001b[0m\u001b[1;33m\u001b[0m\u001b[1;33m\u001b[0m\u001b[1;33m\u001b[0m\u001b[0m\n\u001b[1;32m--> 700\u001b[1;33m             \u001b[1;32mraise\u001b[0m \u001b[0mKeyError\u001b[0m\u001b[1;33m(\u001b[0m\u001b[0mkey\u001b[0m\u001b[1;33m)\u001b[0m\u001b[1;33m\u001b[0m\u001b[1;33m\u001b[0m\u001b[0m\n\u001b[0m\u001b[0;32m    701\u001b[0m \u001b[1;33m\u001b[0m\u001b[0m\n\u001b[0;32m    702\u001b[0m         \u001b[1;32mtry\u001b[0m\u001b[1;33m:\u001b[0m\u001b[1;33m\u001b[0m\u001b[1;33m\u001b[0m\u001b[0m\n",
      "\u001b[1;31mKeyError\u001b[0m: 0"
     ]
    }
   ],
   "source": [
    "test_date = '20211208'\n",
    "test_name = '_DTR&TR_SA12kV 300A'\n",
    "file_path = (curDirectory + '\\\\' + test_date + test_name + '\\\\' +\n",
    "             '1_Data formatted' + '\\\\' + test_date + '_data_clean_10s.csv')\n",
    "config_path = (curDirectory + '\\\\' + test_date + test_name + '\\\\' +\n",
    "               '1_Data formatted' + '\\\\' + test_date[0:4] + '-' +\n",
    "               test_date[4:6] + '-' + test_date[6:8] + '_config.json')\n",
    "fig_path = (curDirectory + '\\\\' + test_date + test_name + '\\\\' + '3_Graphs')\n",
    "# file_path = curDirectory + '\\\\20211208_DTR&TR_SA12kV 300A\\\\1_Data formatted\\\\20211229_data_clean_10s.csv'\n",
    "# config_path = curDirectory + '\\\\20211208_DTR&TR_SR12kV 100A\\\\1_Data formatted\\\\2021-10-29_config.json'\n",
    "# fig_path = curDirectory + '\\\\20211208_DTR&TR_SR12kV 100A\\\\3_Graphs'\n",
    "\n",
    "case1208 = TR.TempRiseExperiment(file_path, config_path)\n",
    "case1208.find_balance_index(list(range(21, 67)))\n",
    "case1208.data_filter('t_env', 0, 100, 1)\n",
    "case1208.interp_data_nan('t_env')\n",
    "case1208.interp_data_zero('t_C1_phA_snsr_bushing')\n",
    "case1208.interp_data_zero('t_C1_phB_snsr_bushing')\n",
    "case1208.interp_data_zero('t_C1_phC_snsr_bushing')\n",
    "case1208.cal_dynamic_time_const('t_C1_phA_snsr_bushing', t_amb='t_oil')\n",
    "case1208.cal_dynamic_time_const('t_C1_phB_snsr_bushing', t_amb='t_oil')\n",
    "case1208.cal_dynamic_time_const('t_C1_phC_snsr_bushing', t_amb='t_oil')\n",
    "# Compare LV box ambient temp with oil bottle ambient temp\n",
    "# case1208.t_plot(['t_env', 't_oil_bottle_2'])\n",
    "print(case1208.data.loc[case1208.bal_idx, 't_C1_phA_snsr_bushing'] - case1208.t_oil.loc[case1208.bal_idx])\n",
    "print(case1208.data.loc[case1208.bal_idx, 't_C1_phB_snsr_bushing'] - case1208.t_oil.loc[case1208.bal_idx])\n",
    "print(case1208.data.loc[case1208.bal_idx, 't_C1_phC_snsr_bushing'] - case1208.t_oil.loc[case1208.bal_idx])\n"
   ]
  },
  {
   "cell_type": "markdown",
   "metadata": {},
   "source": [
    "### Plot ambient temperature comparison 20211208"
   ]
  },
  {
   "cell_type": "code",
   "execution_count": null,
   "metadata": {},
   "outputs": [],
   "source": [
    "plt.figure(dpi=200)\n",
    "\n",
    "plt.plot(case1208.data['snsr_time_index'],\n",
    "         case1208.data['t_arc_room_left_low'] -\n",
    "         case1208.data['t_oil_bottle_1'],\n",
    "         label='t_arc_room_left_low')\n",
    "# plt.plot(case1208.data['snsr_time_index'],\n",
    "#          case1208.data['t_arc_room_left_mid'] - \n",
    "#          case1208.data['t_oil_bottle_1'],\n",
    "#          label='t_arc_room_left_mid')\n",
    "# plt.plot(case1208.data['snsr_time_index'],\n",
    "#          case1208.data['t_arc_room_left_high'] - \n",
    "#          case1208.data['t_oil_bottle_1'],\n",
    "#          label='t_arc_room_left_high')\n",
    "plt.plot(case1208.data['snsr_time_index'],\n",
    "         case1208.data['t_arc_room_right_low'] -\n",
    "         case1208.data['t_oil_bottle_1'],\n",
    "         label='t_arc_room_right_low')\n",
    "# plt.plot(case1208.data['snsr_time_index'],\n",
    "#          case1208.data['t_arc_room_right_mid'] - \n",
    "#          case1208.data['t_oil_bottle_1'],\n",
    "#          label='t_arc_room_right_mid')\n",
    "# plt.plot(case1208.data['snsr_time_index'],\n",
    "#          case1208.data['t_arc_room_right_high'] - \n",
    "#          case1208.data['t_oil_bottle_1'],\n",
    "#          label='t_arc_room_right_high')\n",
    "plt.title('Difference between arc room temp and oil bottle 1')\n",
    "plt.legend()"
   ]
  },
  {
   "cell_type": "markdown",
   "metadata": {},
   "source": [
    "## Calculate Time Constant T 20211209\n",
    "Stable 630A for PhA,PhB,PhC"
   ]
  },
  {
   "cell_type": "code",
   "execution_count": 9,
   "metadata": {},
   "outputs": [
    {
     "name": "stdout",
     "output_type": "stream",
     "text": [
      "Temperature balance time is 2021-12-09 16:48:10.\n"
     ]
    },
    {
     "ename": "KeyError",
     "evalue": "2845",
     "output_type": "error",
     "traceback": [
      "\u001b[1;31m---------------------------------------------------------------------------\u001b[0m",
      "\u001b[1;31mKeyError\u001b[0m                                  Traceback (most recent call last)",
      "\u001b[1;32m~\\AppData\\Local\\Temp\\ipykernel_2600\\2903725016.py\u001b[0m in \u001b[0;36m<module>\u001b[1;34m\u001b[0m\n\u001b[0;32m     24\u001b[0m \u001b[1;31m# case1209.interp_data_zero('t_C1_phB_snsr_bushing')\u001b[0m\u001b[1;33m\u001b[0m\u001b[1;33m\u001b[0m\u001b[1;33m\u001b[0m\u001b[0m\n\u001b[0;32m     25\u001b[0m \u001b[1;31m# case1209.interp_data_zero('t_C1_phC_snsr_bushing')\u001b[0m\u001b[1;33m\u001b[0m\u001b[1;33m\u001b[0m\u001b[1;33m\u001b[0m\u001b[0m\n\u001b[1;32m---> 26\u001b[1;33m \u001b[0mcase1209\u001b[0m\u001b[1;33m.\u001b[0m\u001b[0mcal_dynamic_time_const\u001b[0m\u001b[1;33m(\u001b[0m\u001b[1;34m't_C1_phA_snsr_bushing'\u001b[0m\u001b[1;33m,\u001b[0m \u001b[0mt_amb\u001b[0m\u001b[1;33m=\u001b[0m\u001b[1;34m't_oil'\u001b[0m\u001b[1;33m)\u001b[0m\u001b[1;33m\u001b[0m\u001b[1;33m\u001b[0m\u001b[0m\n\u001b[0m\u001b[0;32m     27\u001b[0m \u001b[0mcase1209\u001b[0m\u001b[1;33m.\u001b[0m\u001b[0mcal_dynamic_time_const\u001b[0m\u001b[1;33m(\u001b[0m\u001b[1;34m't_C1_phB_snsr_bushing'\u001b[0m\u001b[1;33m,\u001b[0m \u001b[0mt_amb\u001b[0m\u001b[1;33m=\u001b[0m\u001b[1;34m't_oil'\u001b[0m\u001b[1;33m)\u001b[0m\u001b[1;33m\u001b[0m\u001b[1;33m\u001b[0m\u001b[0m\n\u001b[0;32m     28\u001b[0m \u001b[0mcase1209\u001b[0m\u001b[1;33m.\u001b[0m\u001b[0mcal_dynamic_time_const\u001b[0m\u001b[1;33m(\u001b[0m\u001b[1;34m't_C1_phC_snsr_bushing'\u001b[0m\u001b[1;33m,\u001b[0m \u001b[0mt_amb\u001b[0m\u001b[1;33m=\u001b[0m\u001b[1;34m't_oil'\u001b[0m\u001b[1;33m)\u001b[0m\u001b[1;33m\u001b[0m\u001b[1;33m\u001b[0m\u001b[0m\n",
      "\u001b[1;32m~\\ABB\\Safe Digital in CN - Documents - Documents\\06_Test and Analytics\\01_Code\\lib\\safedigital\\temperature.py\u001b[0m in \u001b[0;36mcal_dynamic_time_const\u001b[1;34m(self, col_name, **kwargs)\u001b[0m\n\u001b[0;32m    971\u001b[0m \u001b[1;33m\u001b[0m\u001b[0m\n\u001b[0;32m    972\u001b[0m             tw = kwargs.get('tw',\n\u001b[1;32m--> 973\u001b[1;33m                             \u001b[0mself\u001b[0m\u001b[1;33m.\u001b[0m\u001b[0mdata\u001b[0m\u001b[1;33m.\u001b[0m\u001b[0mloc\u001b[0m\u001b[1;33m[\u001b[0m\u001b[0mself\u001b[0m\u001b[1;33m.\u001b[0m\u001b[0mbal_idx\u001b[0m\u001b[1;33m,\u001b[0m \u001b[0mcol_name\u001b[0m\u001b[1;33m]\u001b[0m \u001b[1;33m-\u001b[0m\u001b[1;33m\u001b[0m\u001b[1;33m\u001b[0m\u001b[0m\n\u001b[0m\u001b[0;32m    974\u001b[0m                             self.t_oil.loc[self.bal_idx])\n\u001b[0;32m    975\u001b[0m             \u001b[0mydata\u001b[0m \u001b[1;33m=\u001b[0m \u001b[1;33m(\u001b[0m\u001b[0mself\u001b[0m\u001b[1;33m.\u001b[0m\u001b[0mdata\u001b[0m\u001b[1;33m[\u001b[0m\u001b[0mcol_name\u001b[0m\u001b[1;33m]\u001b[0m \u001b[1;33m-\u001b[0m \u001b[0mself\u001b[0m\u001b[1;33m.\u001b[0m\u001b[0mt_oil\u001b[0m\u001b[1;33m)\u001b[0m\u001b[1;33m.\u001b[0m\u001b[0mcopy\u001b[0m\u001b[1;33m(\u001b[0m\u001b[1;33m)\u001b[0m\u001b[1;33m.\u001b[0m\u001b[0mvalues\u001b[0m\u001b[1;33m\u001b[0m\u001b[1;33m\u001b[0m\u001b[0m\n",
      "\u001b[1;32mc:\\Users\\cnbofan1\\AppData\\Local\\Programs\\Python\\Python37\\lib\\site-packages\\pandas\\core\\indexing.py\u001b[0m in \u001b[0;36m__getitem__\u001b[1;34m(self, key)\u001b[0m\n\u001b[0;32m    923\u001b[0m                 \u001b[1;32mwith\u001b[0m \u001b[0msuppress\u001b[0m\u001b[1;33m(\u001b[0m\u001b[0mKeyError\u001b[0m\u001b[1;33m,\u001b[0m \u001b[0mIndexError\u001b[0m\u001b[1;33m)\u001b[0m\u001b[1;33m:\u001b[0m\u001b[1;33m\u001b[0m\u001b[1;33m\u001b[0m\u001b[0m\n\u001b[0;32m    924\u001b[0m                     \u001b[1;32mreturn\u001b[0m \u001b[0mself\u001b[0m\u001b[1;33m.\u001b[0m\u001b[0mobj\u001b[0m\u001b[1;33m.\u001b[0m\u001b[0m_get_value\u001b[0m\u001b[1;33m(\u001b[0m\u001b[1;33m*\u001b[0m\u001b[0mkey\u001b[0m\u001b[1;33m,\u001b[0m \u001b[0mtakeable\u001b[0m\u001b[1;33m=\u001b[0m\u001b[0mself\u001b[0m\u001b[1;33m.\u001b[0m\u001b[0m_takeable\u001b[0m\u001b[1;33m)\u001b[0m\u001b[1;33m\u001b[0m\u001b[1;33m\u001b[0m\u001b[0m\n\u001b[1;32m--> 925\u001b[1;33m             \u001b[1;32mreturn\u001b[0m \u001b[0mself\u001b[0m\u001b[1;33m.\u001b[0m\u001b[0m_getitem_tuple\u001b[0m\u001b[1;33m(\u001b[0m\u001b[0mkey\u001b[0m\u001b[1;33m)\u001b[0m\u001b[1;33m\u001b[0m\u001b[1;33m\u001b[0m\u001b[0m\n\u001b[0m\u001b[0;32m    926\u001b[0m         \u001b[1;32melse\u001b[0m\u001b[1;33m:\u001b[0m\u001b[1;33m\u001b[0m\u001b[1;33m\u001b[0m\u001b[0m\n\u001b[0;32m    927\u001b[0m             \u001b[1;31m# we by definition only have the 0th axis\u001b[0m\u001b[1;33m\u001b[0m\u001b[1;33m\u001b[0m\u001b[1;33m\u001b[0m\u001b[0m\n",
      "\u001b[1;32mc:\\Users\\cnbofan1\\AppData\\Local\\Programs\\Python\\Python37\\lib\\site-packages\\pandas\\core\\indexing.py\u001b[0m in \u001b[0;36m_getitem_tuple\u001b[1;34m(self, tup)\u001b[0m\n\u001b[0;32m   1098\u001b[0m     \u001b[1;32mdef\u001b[0m \u001b[0m_getitem_tuple\u001b[0m\u001b[1;33m(\u001b[0m\u001b[0mself\u001b[0m\u001b[1;33m,\u001b[0m \u001b[0mtup\u001b[0m\u001b[1;33m:\u001b[0m \u001b[0mtuple\u001b[0m\u001b[1;33m)\u001b[0m\u001b[1;33m:\u001b[0m\u001b[1;33m\u001b[0m\u001b[1;33m\u001b[0m\u001b[0m\n\u001b[0;32m   1099\u001b[0m         \u001b[1;32mwith\u001b[0m \u001b[0msuppress\u001b[0m\u001b[1;33m(\u001b[0m\u001b[0mIndexingError\u001b[0m\u001b[1;33m)\u001b[0m\u001b[1;33m:\u001b[0m\u001b[1;33m\u001b[0m\u001b[1;33m\u001b[0m\u001b[0m\n\u001b[1;32m-> 1100\u001b[1;33m             \u001b[1;32mreturn\u001b[0m \u001b[0mself\u001b[0m\u001b[1;33m.\u001b[0m\u001b[0m_getitem_lowerdim\u001b[0m\u001b[1;33m(\u001b[0m\u001b[0mtup\u001b[0m\u001b[1;33m)\u001b[0m\u001b[1;33m\u001b[0m\u001b[1;33m\u001b[0m\u001b[0m\n\u001b[0m\u001b[0;32m   1101\u001b[0m \u001b[1;33m\u001b[0m\u001b[0m\n\u001b[0;32m   1102\u001b[0m         \u001b[1;31m# no multi-index, so validate all of the indexers\u001b[0m\u001b[1;33m\u001b[0m\u001b[1;33m\u001b[0m\u001b[1;33m\u001b[0m\u001b[0m\n",
      "\u001b[1;32mc:\\Users\\cnbofan1\\AppData\\Local\\Programs\\Python\\Python37\\lib\\site-packages\\pandas\\core\\indexing.py\u001b[0m in \u001b[0;36m_getitem_lowerdim\u001b[1;34m(self, tup)\u001b[0m\n\u001b[0;32m    836\u001b[0m                 \u001b[1;31m# We don't need to check for tuples here because those are\u001b[0m\u001b[1;33m\u001b[0m\u001b[1;33m\u001b[0m\u001b[1;33m\u001b[0m\u001b[0m\n\u001b[0;32m    837\u001b[0m                 \u001b[1;31m#  caught by the _is_nested_tuple_indexer check above.\u001b[0m\u001b[1;33m\u001b[0m\u001b[1;33m\u001b[0m\u001b[1;33m\u001b[0m\u001b[0m\n\u001b[1;32m--> 838\u001b[1;33m                 \u001b[0msection\u001b[0m \u001b[1;33m=\u001b[0m \u001b[0mself\u001b[0m\u001b[1;33m.\u001b[0m\u001b[0m_getitem_axis\u001b[0m\u001b[1;33m(\u001b[0m\u001b[0mkey\u001b[0m\u001b[1;33m,\u001b[0m \u001b[0maxis\u001b[0m\u001b[1;33m=\u001b[0m\u001b[0mi\u001b[0m\u001b[1;33m)\u001b[0m\u001b[1;33m\u001b[0m\u001b[1;33m\u001b[0m\u001b[0m\n\u001b[0m\u001b[0;32m    839\u001b[0m \u001b[1;33m\u001b[0m\u001b[0m\n\u001b[0;32m    840\u001b[0m                 \u001b[1;31m# We should never have a scalar section here, because\u001b[0m\u001b[1;33m\u001b[0m\u001b[1;33m\u001b[0m\u001b[1;33m\u001b[0m\u001b[0m\n",
      "\u001b[1;32mc:\\Users\\cnbofan1\\AppData\\Local\\Programs\\Python\\Python37\\lib\\site-packages\\pandas\\core\\indexing.py\u001b[0m in \u001b[0;36m_getitem_axis\u001b[1;34m(self, key, axis)\u001b[0m\n\u001b[0;32m   1162\u001b[0m         \u001b[1;31m# fall thru to straight lookup\u001b[0m\u001b[1;33m\u001b[0m\u001b[1;33m\u001b[0m\u001b[1;33m\u001b[0m\u001b[0m\n\u001b[0;32m   1163\u001b[0m         \u001b[0mself\u001b[0m\u001b[1;33m.\u001b[0m\u001b[0m_validate_key\u001b[0m\u001b[1;33m(\u001b[0m\u001b[0mkey\u001b[0m\u001b[1;33m,\u001b[0m \u001b[0maxis\u001b[0m\u001b[1;33m)\u001b[0m\u001b[1;33m\u001b[0m\u001b[1;33m\u001b[0m\u001b[0m\n\u001b[1;32m-> 1164\u001b[1;33m         \u001b[1;32mreturn\u001b[0m \u001b[0mself\u001b[0m\u001b[1;33m.\u001b[0m\u001b[0m_get_label\u001b[0m\u001b[1;33m(\u001b[0m\u001b[0mkey\u001b[0m\u001b[1;33m,\u001b[0m \u001b[0maxis\u001b[0m\u001b[1;33m=\u001b[0m\u001b[0maxis\u001b[0m\u001b[1;33m)\u001b[0m\u001b[1;33m\u001b[0m\u001b[1;33m\u001b[0m\u001b[0m\n\u001b[0m\u001b[0;32m   1165\u001b[0m \u001b[1;33m\u001b[0m\u001b[0m\n\u001b[0;32m   1166\u001b[0m     \u001b[1;32mdef\u001b[0m \u001b[0m_get_slice_axis\u001b[0m\u001b[1;33m(\u001b[0m\u001b[0mself\u001b[0m\u001b[1;33m,\u001b[0m \u001b[0mslice_obj\u001b[0m\u001b[1;33m:\u001b[0m \u001b[0mslice\u001b[0m\u001b[1;33m,\u001b[0m \u001b[0maxis\u001b[0m\u001b[1;33m:\u001b[0m \u001b[0mint\u001b[0m\u001b[1;33m)\u001b[0m\u001b[1;33m:\u001b[0m\u001b[1;33m\u001b[0m\u001b[1;33m\u001b[0m\u001b[0m\n",
      "\u001b[1;32mc:\\Users\\cnbofan1\\AppData\\Local\\Programs\\Python\\Python37\\lib\\site-packages\\pandas\\core\\indexing.py\u001b[0m in \u001b[0;36m_get_label\u001b[1;34m(self, label, axis)\u001b[0m\n\u001b[0;32m   1111\u001b[0m     \u001b[1;32mdef\u001b[0m \u001b[0m_get_label\u001b[0m\u001b[1;33m(\u001b[0m\u001b[0mself\u001b[0m\u001b[1;33m,\u001b[0m \u001b[0mlabel\u001b[0m\u001b[1;33m,\u001b[0m \u001b[0maxis\u001b[0m\u001b[1;33m:\u001b[0m \u001b[0mint\u001b[0m\u001b[1;33m)\u001b[0m\u001b[1;33m:\u001b[0m\u001b[1;33m\u001b[0m\u001b[1;33m\u001b[0m\u001b[0m\n\u001b[0;32m   1112\u001b[0m         \u001b[1;31m# GH#5667 this will fail if the label is not present in the axis.\u001b[0m\u001b[1;33m\u001b[0m\u001b[1;33m\u001b[0m\u001b[1;33m\u001b[0m\u001b[0m\n\u001b[1;32m-> 1113\u001b[1;33m         \u001b[1;32mreturn\u001b[0m \u001b[0mself\u001b[0m\u001b[1;33m.\u001b[0m\u001b[0mobj\u001b[0m\u001b[1;33m.\u001b[0m\u001b[0mxs\u001b[0m\u001b[1;33m(\u001b[0m\u001b[0mlabel\u001b[0m\u001b[1;33m,\u001b[0m \u001b[0maxis\u001b[0m\u001b[1;33m=\u001b[0m\u001b[0maxis\u001b[0m\u001b[1;33m)\u001b[0m\u001b[1;33m\u001b[0m\u001b[1;33m\u001b[0m\u001b[0m\n\u001b[0m\u001b[0;32m   1114\u001b[0m \u001b[1;33m\u001b[0m\u001b[0m\n\u001b[0;32m   1115\u001b[0m     \u001b[1;32mdef\u001b[0m \u001b[0m_handle_lowerdim_multi_index_axis0\u001b[0m\u001b[1;33m(\u001b[0m\u001b[0mself\u001b[0m\u001b[1;33m,\u001b[0m \u001b[0mtup\u001b[0m\u001b[1;33m:\u001b[0m \u001b[0mtuple\u001b[0m\u001b[1;33m)\u001b[0m\u001b[1;33m:\u001b[0m\u001b[1;33m\u001b[0m\u001b[1;33m\u001b[0m\u001b[0m\n",
      "\u001b[1;32mc:\\Users\\cnbofan1\\AppData\\Local\\Programs\\Python\\Python37\\lib\\site-packages\\pandas\\core\\generic.py\u001b[0m in \u001b[0;36mxs\u001b[1;34m(self, key, axis, level, drop_level)\u001b[0m\n\u001b[0;32m   3774\u001b[0m                 \u001b[1;32mraise\u001b[0m \u001b[0mTypeError\u001b[0m\u001b[1;33m(\u001b[0m\u001b[1;34mf\"Expected label or tuple of labels, got {key}\"\u001b[0m\u001b[1;33m)\u001b[0m \u001b[1;32mfrom\u001b[0m \u001b[0me\u001b[0m\u001b[1;33m\u001b[0m\u001b[1;33m\u001b[0m\u001b[0m\n\u001b[0;32m   3775\u001b[0m         \u001b[1;32melse\u001b[0m\u001b[1;33m:\u001b[0m\u001b[1;33m\u001b[0m\u001b[1;33m\u001b[0m\u001b[0m\n\u001b[1;32m-> 3776\u001b[1;33m             \u001b[0mloc\u001b[0m \u001b[1;33m=\u001b[0m \u001b[0mindex\u001b[0m\u001b[1;33m.\u001b[0m\u001b[0mget_loc\u001b[0m\u001b[1;33m(\u001b[0m\u001b[0mkey\u001b[0m\u001b[1;33m)\u001b[0m\u001b[1;33m\u001b[0m\u001b[1;33m\u001b[0m\u001b[0m\n\u001b[0m\u001b[0;32m   3777\u001b[0m \u001b[1;33m\u001b[0m\u001b[0m\n\u001b[0;32m   3778\u001b[0m             \u001b[1;32mif\u001b[0m \u001b[0misinstance\u001b[0m\u001b[1;33m(\u001b[0m\u001b[0mloc\u001b[0m\u001b[1;33m,\u001b[0m \u001b[0mnp\u001b[0m\u001b[1;33m.\u001b[0m\u001b[0mndarray\u001b[0m\u001b[1;33m)\u001b[0m\u001b[1;33m:\u001b[0m\u001b[1;33m\u001b[0m\u001b[1;33m\u001b[0m\u001b[0m\n",
      "\u001b[1;32mc:\\Users\\cnbofan1\\AppData\\Local\\Programs\\Python\\Python37\\lib\\site-packages\\pandas\\core\\indexes\\datetimes.py\u001b[0m in \u001b[0;36mget_loc\u001b[1;34m(self, key, method, tolerance)\u001b[0m\n\u001b[0;32m    698\u001b[0m         \u001b[1;32melse\u001b[0m\u001b[1;33m:\u001b[0m\u001b[1;33m\u001b[0m\u001b[1;33m\u001b[0m\u001b[0m\n\u001b[0;32m    699\u001b[0m             \u001b[1;31m# unrecognized type\u001b[0m\u001b[1;33m\u001b[0m\u001b[1;33m\u001b[0m\u001b[1;33m\u001b[0m\u001b[0m\n\u001b[1;32m--> 700\u001b[1;33m             \u001b[1;32mraise\u001b[0m \u001b[0mKeyError\u001b[0m\u001b[1;33m(\u001b[0m\u001b[0mkey\u001b[0m\u001b[1;33m)\u001b[0m\u001b[1;33m\u001b[0m\u001b[1;33m\u001b[0m\u001b[0m\n\u001b[0m\u001b[0;32m    701\u001b[0m \u001b[1;33m\u001b[0m\u001b[0m\n\u001b[0;32m    702\u001b[0m         \u001b[1;32mtry\u001b[0m\u001b[1;33m:\u001b[0m\u001b[1;33m\u001b[0m\u001b[1;33m\u001b[0m\u001b[0m\n",
      "\u001b[1;31mKeyError\u001b[0m: 2845"
     ]
    }
   ],
   "source": [
    "test_date = '20211209'\n",
    "test_name = '_DTR&TR_SA12kV 630A'\n",
    "file_path = (curDirectory + '\\\\' + test_date + test_name + '\\\\' +\n",
    "             '1_Data formatted' + '\\\\' + test_date + '_data_clean_10s.csv')\n",
    "config_path = (curDirectory + '\\\\' + test_date + test_name + '\\\\' +\n",
    "               '1_Data formatted' + '\\\\' + test_date[0:4] + '-' +\n",
    "               test_date[4:6] + '-' + test_date[6:8] + '_config.json')\n",
    "fig_path = (curDirectory + '\\\\' + test_date + test_name + '\\\\' + '3_Graphs')\n",
    "# file_path = curDirectory + '\\\\20211208_DTR&TR_SA12kV 300A\\\\1_Data formatted\\\\20211229_data_clean_10s.csv'\n",
    "# config_path = curDirectory + '\\\\20211029_DTR&TR_SR12kV 100A\\\\1_Data formatted\\\\2021-10-29_config.json'\n",
    "# fig_path = curDirectory + '\\\\20211029_DTR&TR_SR12kV 100A\\\\3_Graphs'\n",
    "\n",
    "case1209 = TR.TempRiseExperiment(file_path, config_path)\n",
    "case1209.find_balance_index(list(range(21, 81)))\n",
    "# case1209.data_filter('t_env', 0, 100, 1)\n",
    "# case1209.interp_data_nan('t_env')\n",
    "# case1209.data_filter('t_C1_phA_snsr_bushing', 0, 100, 1)\n",
    "# case1209.data_filter('t_C1_phB_snsr_bushing', 0, 100, 1)\n",
    "# case1209.data_filter('t_C1_phC_snsr_bushing', 0, 100, 1)\n",
    "# case1209.interp_data_nan('t_C1_phA_snsr_bushing')\n",
    "# case1209.interp_data_nan('t_C1_phB_snsr_bushing')\n",
    "# case1209.interp_data_nan('t_C1_phC_snsr_bushing')\n",
    "# case1209.interp_data_zero('t_C1_phA_snsr_bushing')\n",
    "# case1209.interp_data_zero('t_C1_phB_snsr_bushing')\n",
    "# case1209.interp_data_zero('t_C1_phC_snsr_bushing')\n",
    "case1209.cal_dynamic_time_const('t_C1_phA_snsr_bushing', t_amb='t_oil')\n",
    "case1209.cal_dynamic_time_const('t_C1_phB_snsr_bushing', t_amb='t_oil')\n",
    "case1209.cal_dynamic_time_const('t_C1_phC_snsr_bushing', t_amb='t_oil')\n",
    "# Compare LV box ambient temp with oil bottle ambient temp\n",
    "# case1209.t_plot(['t_env', 't_oil_bottle_2'])\n",
    "print(case1209.data.loc[case1209.bal_idx, 't_C1_phA_snsr_bushing'] - case1209.t_oil.loc[case1209.bal_idx])\n",
    "print(case1209.data.loc[case1209.bal_idx, 't_C1_phB_snsr_bushing'] - case1209.t_oil.loc[case1209.bal_idx])\n",
    "print(case1209.data.loc[case1209.bal_idx, 't_C1_phC_snsr_bushing'] - case1209.t_oil.loc[case1209.bal_idx])\n",
    "\n",
    "# print(case1209.data.loc[case1209.bal_idx,'t_C1_phA_bushing']-case1209.t_oil.loc[case1209.bal_idx])\n",
    "# print(case1209.data.loc[case1209.bal_idx,'t_C1_phB_bushing']-case1209.t_oil.loc[case1209.bal_idx])\n",
    "# print(case1209.data.loc[case1209.bal_idx,'t_C1_phC_bushing']-case1209.t_oil.loc[case1209.bal_idx])\n"
   ]
  },
  {
   "cell_type": "markdown",
   "metadata": {},
   "source": [
    "### Plot ambient temperature comparison 20211209"
   ]
  },
  {
   "cell_type": "code",
   "execution_count": null,
   "metadata": {},
   "outputs": [],
   "source": [
    "plt.figure(dpi=200)\n",
    "\n",
    "plt.plot(case1209.data['snsr_time_index'],\n",
    "         case1209.data['t_arc_room_left_low'] -\n",
    "         case1209.data['t_oil_bottle_1'],\n",
    "         label='t_arc_room_left_low')\n",
    "plt.plot(case1209.data['snsr_time_index'],\n",
    "         case1209.data['t_arc_room_right_low'] -\n",
    "         case1209.data['t_oil_bottle_1'],\n",
    "         label='t_arc_room_right_low')\n",
    "plt.title('Difference between arc room temp and oil bottle 1')\n",
    "plt.legend()"
   ]
  },
  {
   "cell_type": "markdown",
   "metadata": {},
   "source": [
    "## Plot DTR algorithm result 20211216 (data invalid)\n",
    "Variant Current no fault 100-300-500-630-400-200 with time interval 15min,45min,30min"
   ]
  },
  {
   "cell_type": "code",
   "execution_count": null,
   "metadata": {},
   "outputs": [],
   "source": [
    "file_path = curDirectory +\n",
    "            '\\\\20211216_DTR&TR_SA12kV Current Variant\\\\1_Data formatted\\\\20211216_data_clean_10s.csv'\n",
    "config_path = curDirectory +\n",
    "              '\\\\20211216_DTR&TR_SA12kV Current Variant\\\\1_Data formatted\\\\2021-12-16_config.json'\n",
    "fig_path = curDirectory + '\\\\20211216_DTR&TR_SA12kV Current Variant\\\\3_Graphs'\n",
    "case1216 = TR.TempRiseExperiment(file_path, config_path)\n",
    "conver_const = 1.6\n",
    "time_const = 6000\n",
    "delay_const = 0\n",
    "tr_630A_warning = 42\n",
    "tr_630A_alarm = 50\n",
    "dtr_phA_si_1216 = case1216.t_dtr_plot(\"t_C1_phA_snsr_bushing\",\n",
    "                                      case1216.data['amp_phA'],\n",
    "                                      time_const,\n",
    "                                      conver_const,\n",
    "                                      tr_630A_warning,\n",
    "                                      tr_630A_alarm,\n",
    "                                      delay_const)\n",
    "dtr_phB_si_1216 = case1216.t_dtr_plot(\"t_C1_phB_snsr_bushing\",\n",
    "                                      case1216.data['amp_phB'],\n",
    "                                      time_const,\n",
    "                                      conver_const,\n",
    "                                      tr_630A_warning,\n",
    "                                      tr_630A_alarm,\n",
    "                                      delay_const)\n",
    "dtr_phC_si_1216 = case1216.t_dtr_plot(\"t_C1_phC_snsr_bushing\",\n",
    "                                      case1216.data['amp_phC'],\n",
    "                                      time_const,\n",
    "                                      conver_const,\n",
    "                                      tr_630A_warning,\n",
    "                                      tr_630A_alarm,\n",
    "                                      delay_const)\n",
    "\n",
    "# form algorithm output data of warning, alarm, si\n",
    "alg_result = pd.DataFrame()\n",
    "alg_result['date_time'] = dtr_phA_si_1216[\"snsr_datetime\"].copy()\n",
    "alg_result['SR_bushing_A'] = dtr_phA_si_1216[\"t_C1_phA_snsr_bushing\"].copy()\n",
    "alg_result['SR_bushing_A_warning'] = dtr_phA_si_1216['t_warning'].copy()\n",
    "alg_result['SR_bushing_A_alarm'] = dtr_phA_si_1216['t_alarm'].copy()\n",
    "alg_result['SR_bushing_A_si'] = dtr_phA_si_1216['t_si'].copy()\n",
    "\n",
    "alg_result['SR_bushing_B'] = dtr_phB_si_1216[\"t_C1_phB_snsr_bushing\"].copy()\n",
    "alg_result['SR_bushing_B_warning'] = dtr_phB_si_1216['t_warning'].copy()\n",
    "alg_result['SR_bushing_B_alarm'] = dtr_phB_si_1216['t_alarm'].copy()\n",
    "alg_result['SR_bushing_B_si'] = dtr_phB_si_1216['t_si'].copy()\n",
    "\n",
    "alg_result['SR_bushing_C'] = dtr_phC_si_1216[\"t_C1_phC_snsr_bushing\"].copy()\n",
    "alg_result['SR_bushing_C_warning'] = dtr_phC_si_1216['t_warning'].copy()\n",
    "alg_result['SR_bushing_C_alarm'] = dtr_phC_si_1216['t_alarm'].copy()\n",
    "alg_result['SR_bushing_C_si'] = dtr_phC_si_1216['t_si'].copy()\n",
    "\n",
    "alg_result['current_A'] = dtr_phA_si_1216['current'].copy()\n",
    "alg_result['current_B'] = dtr_phB_si_1216['current'].copy()\n",
    "alg_result['current_C'] = dtr_phC_si_1216['current'].copy()\n",
    "alg_result['ambient'] = case1216.data[\"t_oil_bottle_1\"].copy()\n",
    "\n",
    "alg_result.to_csv(fig_path + '\\\\' + 'alg_result.csv')\n"
   ]
  },
  {
   "cell_type": "markdown",
   "metadata": {},
   "source": [
    "## Plot DTR algorithm result 20211217 (data invalid)\n",
    "Variant Current no fault 100-300-500-630-400-200 with time interval 60min"
   ]
  },
  {
   "cell_type": "code",
   "execution_count": null,
   "metadata": {},
   "outputs": [],
   "source": [
    "file_path = curDirectory +\n",
    "            '\\\\20211217_DTR&TR_SA12kV Current Variant\\\\1_Data formatted\\\\20211217_data_clean_10s.csv'\n",
    "config_path = curDirectory +\n",
    "              '\\\\20211217_DTR&TR_SA12kV Current Variant\\\\1_Data formatted\\\\2021-12-17_config.json'\n",
    "fig_path = curDirectory + '\\\\20211217_DTR&TR_SA12kV Current Variant\\\\3_Graphs'\n",
    "case1217 = TR.TempRiseExperiment(file_path, config_path)\n",
    "conver_const = 1.6\n",
    "time_const = 6000\n",
    "delay_const = 0\n",
    "tr_630A_warning = 42\n",
    "tr_630A_alarm = 50\n",
    "dtr_phA_si_1217 = case1217.t_dtr_plot(\"t_C1_phA_snsr_bushing\",\n",
    "                                      case1217.data['amp_phA'],\n",
    "                                      time_const,\n",
    "                                      conver_const,\n",
    "                                      tr_630A_warning,\n",
    "                                      tr_630A_alarm,\n",
    "                                      delay_const)\n",
    "dtr_phB_si_1217 = case1217.t_dtr_plot(\"t_C1_phB_snsr_bushing\",\n",
    "                                      case1217.data['amp_phB'],\n",
    "                                      time_const,\n",
    "                                      conver_const,\n",
    "                                      tr_630A_warning,\n",
    "                                      tr_630A_alarm,\n",
    "                                      delay_const)\n",
    "dtr_phC_si_1217 = case1217.t_dtr_plot(\"t_C1_phC_snsr_bushing\",\n",
    "                                      case1217.data['amp_phC'],\n",
    "                                      time_const,\n",
    "                                      conver_const,\n",
    "                                      tr_630A_warning,\n",
    "                                      tr_630A_alarm,\n",
    "                                      delay_const)\n",
    "\n",
    "# form algorithm output data of warning, alarm, si\n",
    "alg_result = pd.DataFrame()\n",
    "alg_result['date_time'] = dtr_phA_si_1217[\"snsr_datetime\"].copy()\n",
    "alg_result['SR_bushing_A'] = dtr_phA_si_1217[\"t_C1_phA_snsr_bushing\"].copy()\n",
    "alg_result['SR_bushing_A_warning'] = dtr_phA_si_1217['t_warning'].copy()\n",
    "alg_result['SR_bushing_A_alarm'] = dtr_phA_si_1217['t_alarm'].copy()\n",
    "alg_result['SR_bushing_A_si'] = dtr_phA_si_1217['t_si'].copy()\n",
    "\n",
    "alg_result['SR_bushing_B'] = dtr_phB_si_1217[\"t_C1_phB_snsr_bushing\"].copy()\n",
    "alg_result['SR_bushing_B_warning'] = dtr_phB_si_1217['t_warning'].copy()\n",
    "alg_result['SR_bushing_B_alarm'] = dtr_phB_si_1217['t_alarm'].copy()\n",
    "alg_result['SR_bushing_B_si'] = dtr_phB_si_1217['t_si'].copy()\n",
    "\n",
    "alg_result['SR_bushing_C'] = dtr_phC_si_1217[\"t_C1_phC_snsr_bushing\"].copy()\n",
    "alg_result['SR_bushing_C_warning'] = dtr_phC_si_1217['t_warning'].copy()\n",
    "alg_result['SR_bushing_C_alarm'] = dtr_phC_si_1217['t_alarm'].copy()\n",
    "alg_result['SR_bushing_C_si'] = dtr_phC_si_1217['t_si'].copy()\n",
    "\n",
    "alg_result['current_A'] = dtr_phA_si_1217['current'].copy()\n",
    "alg_result['current_B'] = dtr_phB_si_1217['current'].copy()\n",
    "alg_result['current_C'] = dtr_phC_si_1217['current'].copy()\n",
    "alg_result['ambient'] = case1217.data[\"t_oil_bottle_1\"].copy()\n",
    "\n",
    "alg_result.to_csv(fig_path + '\\\\' + 'alg_result.csv')\n"
   ]
  },
  {
   "cell_type": "markdown",
   "metadata": {},
   "source": [
    "## Calculate Time Constant T 20211218\n",
    "Stable 500A for PhA,PhB,PhC"
   ]
  },
  {
   "cell_type": "code",
   "execution_count": null,
   "metadata": {},
   "outputs": [],
   "source": [
    "test_date = '20211218'\n",
    "test_name = '_DTR&TR_SA12kV 500A'\n",
    "file_path = (curDirectory + '\\\\' + test_date + test_name + '\\\\' +\n",
    "             '1_Data formatted' + '\\\\' + test_date + '_data_clean_10s.csv')\n",
    "config_path = (curDirectory + '\\\\' + test_date + test_name + '\\\\' +\n",
    "               '1_Data formatted' + '\\\\' + test_date[0:4] + '-' +\n",
    "               test_date[4:6] + '-' + test_date[6:8] + '_config.json')\n",
    "fig_path = (curDirectory + '\\\\' + test_date + test_name + '\\\\' + '3_Graphs')\n",
    "# file_path = curDirectory + '\\\\20211208_DTR&TR_SA12kV 300A\\\\1_Data formatted\\\\20211229_data_clean_10s.csv'\n",
    "# config_path = curDirectory + '\\\\20211029_DTR&TR_SR12kV 100A\\\\1_Data formatted\\\\2021-10-29_config.json'\n",
    "# fig_path = curDirectory + '\\\\20211029_DTR&TR_SR12kV 100A\\\\3_Graphs'\n",
    "\n",
    "case1218 = TR.TempRiseExperiment(file_path, config_path)\n",
    "case1218.find_balance_index(list(range(21, 81)))\n",
    "case1218.data_filter('t_env', 0, 100, 1)\n",
    "case1218.interp_data_nan('t_env')\n",
    "case1218.data_filter('t_C1_phA_snsr_bushing', 0, 100, 1)\n",
    "case1218.data_filter('t_C1_phB_snsr_bushing', 0, 100, 1)\n",
    "case1218.data_filter('t_C1_phC_snsr_bushing', 0, 100, 1)\n",
    "case1218.interp_data_nan('t_C1_phA_snsr_bushing')\n",
    "case1218.interp_data_nan('t_C1_phB_snsr_bushing')\n",
    "case1218.interp_data_nan('t_C1_phC_snsr_bushing')\n",
    "# case1218.interp_data_zero('t_C1_phA_snsr_bushing')\n",
    "# case1218.interp_data_zero('t_C1_phB_snsr_bushing')\n",
    "# case1218.interp_data_zero('t_C1_phC_snsr_bushing')\n",
    "case1218.cal_dynamic_time_const('t_C1_phA_snsr_bushing', t_amb='t_oil')\n",
    "case1218.cal_dynamic_time_const('t_C1_phB_snsr_bushing', t_amb='t_oil')\n",
    "case1218.cal_dynamic_time_const('t_C1_phC_snsr_bushing', t_amb='t_oil')\n",
    "# Compare LV box ambient temp with oil bottle ambient temp\n",
    "# case1218.t_plot(['t_env', 't_oil_bottle_2'])\n",
    "print(case1218.data.loc[case1218.bal_idx, 't_C1_phA_snsr_bushing'] - case1218.t_oil.loc[case1218.bal_idx])\n",
    "print(case1218.data.loc[case1218.bal_idx, 't_C1_phB_snsr_bushing'] - case1218.t_oil.loc[case1218.bal_idx])\n",
    "print(case1218.data.loc[case1218.bal_idx, 't_C1_phC_snsr_bushing'] - case1218.t_oil.loc[case1218.bal_idx])\n"
   ]
  },
  {
   "cell_type": "markdown",
   "metadata": {},
   "source": [
    "## Calculate Conversion Constant a of 20211208,20211209,20211218\n"
   ]
  },
  {
   "cell_type": "code",
   "execution_count": null,
   "metadata": {},
   "outputs": [],
   "source": [
    "tr_500A = case1218.data.loc[case1218.bal_idx,\n",
    "                            't_C1_phB_snsr_bushing'] - case1218.t_oil.iloc[\n",
    "              case1218.bal_idx]\n",
    "tr_300A = case1208.data.loc[case1208.bal_idx,\n",
    "                            't_C1_phB_snsr_bushing'] - case1208.t_oil.iloc[\n",
    "              case1208.bal_idx]\n",
    "tr_630A = case1209.data.loc[case1209.bal_idx,\n",
    "                            't_C1_phB_snsr_bushing'] - case1209.t_oil.iloc[\n",
    "              case1209.bal_idx]\n",
    "print(tr_500A, tr_300A, tr_630A)\n",
    "conver_const = TR.TempRiseExperiment.cal_dynamic_conver_const(\n",
    "    [500, 300, 630], [tr_500A, tr_300A, tr_630A])\n"
   ]
  },
  {
   "cell_type": "markdown",
   "metadata": {},
   "source": [
    "## Plot DTR algorithm result 20211219\n",
    "Variant Current no fault 100-300-500-630-400-200 with time interval 30min,45min,15min"
   ]
  },
  {
   "cell_type": "markdown",
   "metadata": {
    "collapsed": false
   },
   "source": [
    "### 10s sample time"
   ]
  },
  {
   "cell_type": "code",
   "execution_count": null,
   "metadata": {},
   "outputs": [],
   "source": [
    "file_path = curDirectory + \\\n",
    "            '\\\\20211219_DTR&TR_SA12kV Current Variant\\\\1_Data formatted\\\\20211219_data_clean_10s.csv'\n",
    "config_path = curDirectory + \\\n",
    "              '\\\\20211219_DTR&TR_SA12kV Current Variant\\\\1_Data formatted\\\\2021-12-19_config.json'\n",
    "fig_path = curDirectory + '\\\\20211219_DTR&TR_SA12kV Current Variant\\\\3_Graphs'\n",
    "case1219 = TR.TempRiseExperiment(file_path, config_path)\n",
    "conver_const = 1.72\n",
    "time_const = 5500\n",
    "time_const_drop = 6000\n",
    "delay_const = 30\n",
    "tr_630A_warning = 42\n",
    "tr_630A_alarm = 50\n",
    "tr_630A_rated = 37\n",
    "err = 5\n",
    "# dtr_phA_si_1219_c1 = case1219.t_dtr_plot(\"t_C1_phA_snsr_bushing\",\n",
    "#                                       case1219.data['amp_phA'],\n",
    "#                                       time_const,\n",
    "#                                       conver_const,\n",
    "#                                       tr_630A_warning,\n",
    "#                                       tr_630A_alarm,\n",
    "#                                       delay_const,\n",
    "#                                       correction_warning=err,\n",
    "#                                       correction_alarm=err,\n",
    "#                                       tr_rated=tr_630A_rated,\n",
    "#                                       time_const_drop=time_const_drop,\n",
    "#                                       title='DTR performance on 20211219 of C1A')\n",
    "dtr_phB_si_1219_c1 = case1219.t_dtr_plot(\"t_C1_phB_snsr_bushing\",\n",
    "                                      case1219.data['amp_phB'],\n",
    "                                      time_const,\n",
    "                                      conver_const,\n",
    "                                      tr_630A_warning,\n",
    "                                      tr_630A_alarm,\n",
    "                                      delay_const,\n",
    "                                      correction_warning=err,\n",
    "                                      correction_alarm=err,\n",
    "                                      tr_rated=tr_630A_rated,\n",
    "                                      time_const_drop=time_const_drop,\n",
    "                                      title='DTR performance on 20211219 of C1B sample_time=10s')\n",
    "# dtr_phC_si_1219_c1 = case1219.t_dtr_plot(\"t_C1_phC_snsr_bushing\",\n",
    "#                                       case1219.data['amp_phC'],\n",
    "#                                       time_const,\n",
    "#                                       conver_const,\n",
    "#                                       tr_630A_warning,\n",
    "#                                       tr_630A_alarm,\n",
    "#                                       delay_const,\n",
    "#                                       correction_warning=err,\n",
    "#                                       correction_alarm=err,\n",
    "#                                       tr_rated=tr_630A_rated,\n",
    "#                                       time_const_drop=time_const_drop,\n",
    "#                                       title='DTR performance on 20211219 of C1C')\n",
    "# dtr_phA_si_1219_v3 = case1219.t_dtr_plot(\"t_V3_phA_snsr_bushing\",\n",
    "#                                          case1219.data['amp_phA'],\n",
    "#                                          time_const,\n",
    "#                                          conver_const,\n",
    "#                                          tr_630A_warning,\n",
    "#                                          tr_630A_alarm,\n",
    "#                                          delay_const,\n",
    "#                                          correction_warning=err,\n",
    "#                                          correction_alarm=err,\n",
    "#                                          tr_rated=tr_630A_rated,\n",
    "#                                          time_const_drop=time_const_drop,\n",
    "#                                          title='DTR performance on 20211219 of V3A')\n",
    "# dtr_phB_si_1219_v3 = case1219.t_dtr_plot(\"t_V3_phB_snsr_bushing\",\n",
    "#                                          case1219.data['amp_phB'],\n",
    "#                                          time_const,\n",
    "#                                          conver_const,\n",
    "#                                          tr_630A_warning,\n",
    "#                                          tr_630A_alarm,\n",
    "#                                          delay_const,\n",
    "#                                          correction_warning=err,\n",
    "#                                          correction_alarm=err,\n",
    "#                                          tr_rated=tr_630A_rated,\n",
    "#                                          time_const_drop=time_const_drop,\n",
    "#                                          title='DTR performance on 20211219 of V3B')\n",
    "# dtr_phC_si_1219_v3 = case1219.t_dtr_plot(\"t_V3_phC_snsr_bushing\",\n",
    "#                                          case1219.data['amp_phC'],\n",
    "#                                          time_const,\n",
    "#                                          conver_const,\n",
    "#                                          tr_630A_warning,\n",
    "#                                          tr_630A_alarm,\n",
    "#                                          delay_const,\n",
    "#                                          correction_warning=err,\n",
    "#                                          correction_alarm=err,\n",
    "#                                          tr_rated=tr_630A_rated,\n",
    "#                                          time_const_drop=time_const_drop,\n",
    "#                                          title='DTR performance on 20211219 of V3C')\n",
    "\n",
    "# form algorithm output data of warning, alarm, si\n",
    "# alg_result = pd.DataFrame()\n",
    "# alg_result['date_time'] = dtr_phA_si_1219[\"snsr_datetime\"].copy()\n",
    "# alg_result['SR_bushing_A'] = dtr_phA_si_1219[\"t_C1_phA_snsr_bushing\"].copy()\n",
    "# alg_result['SR_bushing_A_warning'] = dtr_phA_si_1219['t_warning'].copy()\n",
    "# alg_result['SR_bushing_A_alarm'] = dtr_phA_si_1219['t_alarm'].copy()\n",
    "# alg_result['SR_bushing_A_si'] = dtr_phA_si_1219['t_si'].copy()\n",
    "#\n",
    "# alg_result['SR_bushing_B'] = dtr_phB_si_1219[\"t_C1_phB_snsr_bushing\"].copy()\n",
    "# alg_result['SR_bushing_B_warning'] = dtr_phB_si_1219['t_warning'].copy()\n",
    "# alg_result['SR_bushing_B_alarm'] = dtr_phB_si_1219['t_alarm'].copy()\n",
    "# alg_result['SR_bushing_B_si'] = dtr_phB_si_1219['t_si'].copy()\n",
    "#\n",
    "# alg_result['SR_bushing_C'] = dtr_phC_si_1219[\"t_C1_phC_snsr_bushing\"].copy()\n",
    "# alg_result['SR_bushing_C_warning'] = dtr_phC_si_1219['t_warning'].copy()\n",
    "# alg_result['SR_bushing_C_alarm'] = dtr_phC_si_1219['t_alarm'].copy()\n",
    "# alg_result['SR_bushing_C_si'] = dtr_phC_si_1219['t_si'].copy()\n",
    "#\n",
    "# alg_result['current_A'] = dtr_phA_si_1219['current'].copy()\n",
    "# alg_result['current_B'] = dtr_phB_si_1219['current'].copy()\n",
    "# alg_result['current_C'] = dtr_phC_si_1219['current'].copy()\n",
    "# alg_result['ambient'] = case1219.data[\"t_oil_bottle_1\"].copy()\n",
    "#\n",
    "# alg_result.to_csv(fig_path + '\\\\' + 'alg_result.csv')\n"
   ]
  },
  {
   "cell_type": "markdown",
   "metadata": {
    "collapsed": false
   },
   "source": [
    "### 1min sample time"
   ]
  },
  {
   "cell_type": "code",
   "execution_count": null,
   "metadata": {
    "collapsed": false,
    "pycharm": {
     "name": "#%%\n"
    }
   },
   "outputs": [],
   "source": [
    "file_path = curDirectory + \\\n",
    "            '\\\\20211219_DTR&TR_SA12kV Current Variant\\\\1_Data formatted\\\\20211219_data_clean_1min.csv'\n",
    "config_path = curDirectory + \\\n",
    "              '\\\\20211219_DTR&TR_SA12kV Current Variant\\\\1_Data formatted\\\\2021-12-19_config.json'\n",
    "fig_path = curDirectory + '\\\\20211219_DTR&TR_SA12kV Current Variant\\\\3_Graphs'\n",
    "case1219_1min = TR.TempRiseExperiment(file_path, config_path)\n",
    "conver_const = 1.72\n",
    "time_const = 5500\n",
    "time_const_drop = 6000\n",
    "delay_const = 5\n",
    "tr_630A_warning = 42\n",
    "tr_630A_alarm = 50\n",
    "tr_630A_rated = 37\n",
    "err = 5\n",
    "dtr_phB_si_1219_c1_1min = case1219_1min.t_dtr_plot(\"t_C1_phB_snsr_bushing\",\n",
    "                                      case1219_1min.data['amp_phB'],\n",
    "                                      time_const,\n",
    "                                      conver_const,\n",
    "                                      tr_630A_warning,\n",
    "                                      tr_630A_alarm,\n",
    "                                      delay_const,\n",
    "                                      correction_warning=err,\n",
    "                                      correction_alarm=err,\n",
    "                                      tr_rated=tr_630A_rated,\n",
    "                                      time_const_drop=time_const_drop,\n",
    "                                      sample_time=60,\n",
    "                                      title='DTR performance on 20211219 of C1B sample_time=1min')"
   ]
  },
  {
   "cell_type": "markdown",
   "metadata": {
    "collapsed": false
   },
   "source": [
    "### 5min sample time"
   ]
  },
  {
   "cell_type": "code",
   "execution_count": null,
   "metadata": {
    "collapsed": false,
    "pycharm": {
     "name": "#%%\n"
    }
   },
   "outputs": [],
   "source": [
    "file_path = curDirectory + \\\n",
    "            '\\\\20211219_DTR&TR_SA12kV Current Variant\\\\1_Data formatted\\\\20211219_data_clean_5min.csv'\n",
    "config_path = curDirectory + \\\n",
    "              '\\\\20211219_DTR&TR_SA12kV Current Variant\\\\1_Data formatted\\\\2021-12-19_config.json'\n",
    "fig_path = curDirectory + '\\\\20211219_DTR&TR_SA12kV Current Variant\\\\3_Graphs'\n",
    "case1219_5min = TR.TempRiseExperiment(file_path, config_path)\n",
    "conver_const = 1.72\n",
    "time_const = 5500\n",
    "time_const_drop = 6000\n",
    "delay_const = 1\n",
    "tr_630A_warning = 42\n",
    "tr_630A_alarm = 50\n",
    "tr_630A_rated = 37\n",
    "err = 5\n",
    "dtr_phA_si_1219_c1_5min = case1219_5min.t_dtr_plot_inst_alarm(\"t_C1_phA_snsr_bushing\",\n",
    "                                      case1219_5min.data['amp_phA'],\n",
    "                                      time_const,\n",
    "                                      conver_const,\n",
    "                                      tr_630A_warning,\n",
    "                                      tr_630A_alarm,\n",
    "                                      delay_const,\n",
    "                                      correction_warning=err,\n",
    "                                      correction_alarm=err,\n",
    "                                      tr_rated=tr_630A_rated,\n",
    "                                      time_const_drop=time_const_drop,\n",
    "                                      sample_time=300,\n",
    "                                      title='DTR performance on 20211219 of C1A sample_time=5min')\n",
    "dtr_phB_si_1219_c1_5min = case1219_5min.t_dtr_plot_inst_alarm(\"t_C1_phB_snsr_bushing\",\n",
    "                                      case1219_5min.data['amp_phB'],\n",
    "                                      time_const,\n",
    "                                      conver_const,\n",
    "                                      tr_630A_warning,\n",
    "                                      tr_630A_alarm,\n",
    "                                      delay_const,\n",
    "                                      correction_warning=err,\n",
    "                                      correction_alarm=err,\n",
    "                                      tr_rated=tr_630A_rated,\n",
    "                                      time_const_drop=time_const_drop,\n",
    "                                      sample_time=300,\n",
    "                                      title='DTR performance on 20211219 of C1B sample_time=5min')\n",
    "dtr_phC_si_1219_c1_5min = case1219_5min.t_dtr_plot_inst_alarm(\"t_C1_phC_snsr_bushing\",\n",
    "                                      case1219_5min.data['amp_phC'],\n",
    "                                      time_const,\n",
    "                                      conver_const,\n",
    "                                      tr_630A_warning,\n",
    "                                      tr_630A_alarm,\n",
    "                                      delay_const,\n",
    "                                      correction_warning=err,\n",
    "                                      correction_alarm=err,\n",
    "                                      tr_rated=tr_630A_rated,\n",
    "                                      time_const_drop=time_const_drop,\n",
    "                                      sample_time=300,\n",
    "                                      title='DTR performance on 20211219 of C1C sample_time=5min')"
   ]
  },
  {
   "cell_type": "markdown",
   "metadata": {
    "collapsed": false
   },
   "source": [
    "### 15min sample time"
   ]
  },
  {
   "cell_type": "code",
   "execution_count": null,
   "metadata": {
    "collapsed": false,
    "pycharm": {
     "name": "#%%\n"
    }
   },
   "outputs": [],
   "source": [
    "file_path = curDirectory + \\\n",
    "            '\\\\20211219_DTR&TR_SA12kV Current Variant\\\\1_Data formatted\\\\20211219_data_clean_15min.csv'\n",
    "config_path = curDirectory + \\\n",
    "              '\\\\20211219_DTR&TR_SA12kV Current Variant\\\\1_Data formatted\\\\2021-12-19_config.json'\n",
    "fig_path = curDirectory + '\\\\20211219_DTR&TR_SA12kV Current Variant\\\\3_Graphs'\n",
    "case1219_15min = TR.TempRiseExperiment(file_path, config_path)\n",
    "conver_const = 1.72\n",
    "time_const = 5500\n",
    "time_const_drop = 6000\n",
    "delay_const = 1\n",
    "tr_630A_warning = 42\n",
    "tr_630A_alarm = 50\n",
    "tr_630A_rated = 37\n",
    "err = 5\n",
    "dtr_phB_si_1219_c1_15min = case1219_15min.t_dtr_plot(\"t_C1_phB_snsr_bushing\",\n",
    "                                      case1219_15min.data['amp_phB'],\n",
    "                                      time_const,\n",
    "                                      conver_const,\n",
    "                                      tr_630A_warning,\n",
    "                                      tr_630A_alarm,\n",
    "                                      delay_const,\n",
    "                                      correction_warning=err,\n",
    "                                      correction_alarm=err,\n",
    "                                      tr_rated=tr_630A_rated,\n",
    "                                      time_const_drop=time_const_drop,\n",
    "                                      sample_time=900,\n",
    "                                      title='DTR performance on 20211219 of C1B sample_time=15min')"
   ]
  },
  {
   "cell_type": "markdown",
   "metadata": {
    "collapsed": false
   },
   "source": [
    "### export algorithm output"
   ]
  },
  {
   "cell_type": "code",
   "execution_count": null,
   "metadata": {
    "collapsed": false,
    "pycharm": {
     "name": "#%%\n"
    }
   },
   "outputs": [],
   "source": [
    "alg_result = pd.DataFrame()\n",
    "alg_result['date_time'] = dtr_phA_si_1219_c1_5min[\"snsr_datetime\"].copy()\n",
    "alg_result['SR_bushing_A'] = dtr_phA_si_1219_c1_5min[\"t_C1_phA_snsr_bushing\"].copy()\n",
    "alg_result['SR_bushing_A_warning'] = dtr_phA_si_1219_c1_5min['t_warning'].copy()\n",
    "alg_result['SR_bushing_A_alarm'] = dtr_phA_si_1219_c1_5min['t_alarm'].copy()\n",
    "alg_result['SR_bushing_A_si'] = dtr_phA_si_1219_c1_5min['t_si'].copy()\n",
    "\n",
    "alg_result['SR_bushing_B'] = dtr_phB_si_1219_c1_5min[\"t_C1_phB_snsr_bushing\"].copy()\n",
    "alg_result['SR_bushing_B_warning'] = dtr_phB_si_1219_c1_5min['t_warning'].copy()\n",
    "alg_result['SR_bushing_B_alarm'] = dtr_phB_si_1219_c1_5min['t_alarm'].copy()\n",
    "alg_result['SR_bushing_B_si'] = dtr_phB_si_1219_c1_5min['t_si'].copy()\n",
    "\n",
    "alg_result['SR_bushing_C'] = dtr_phC_si_1219_c1_5min[\"t_C1_phC_snsr_bushing\"].copy()\n",
    "alg_result['SR_bushing_C_warning'] = dtr_phC_si_1219_c1_5min['t_warning'].copy()\n",
    "alg_result['SR_bushing_C_alarm'] = dtr_phC_si_1219_c1_5min['t_alarm'].copy()\n",
    "alg_result['SR_bushing_C_si'] = dtr_phC_si_1219_c1_5min['t_si'].copy()\n",
    "\n",
    "alg_result['current_A'] = dtr_phA_si_1219_c1_5min['current'].copy()\n",
    "alg_result['current_B'] = dtr_phB_si_1219_c1_5min['current'].copy()\n",
    "alg_result['current_C'] = dtr_phC_si_1219_c1_5min['current'].copy()\n",
    "alg_result['ambient'] = case1219_5min.data[\"t_oil_bottle_1\"].copy()\n",
    "\n",
    "alg_result.to_csv(fig_path + '\\\\' + 'alg_result_20211219.csv')"
   ]
  },
  {
   "cell_type": "markdown",
   "metadata": {
    "collapsed": false
   },
   "source": []
  },
  {
   "cell_type": "markdown",
   "metadata": {},
   "source": [
    "## Plot DTR algorithm result 20211220\n",
    "### 10s sample time"
   ]
  },
  {
   "cell_type": "code",
   "execution_count": null,
   "metadata": {},
   "outputs": [],
   "source": [
    "file_path = curDirectory + \\\n",
    "            '\\\\20211220_DTR&TR_SA12kV Fault Simulation\\\\1_Data formatted\\\\20211220_data_clean_10s.csv'\n",
    "config_path = curDirectory + \\\n",
    "              '\\\\20211220_DTR&TR_SA12kV Fault Simulation\\\\1_Data formatted\\\\2021-12-20_config.json'\n",
    "fig_path = curDirectory + '\\\\20211220_DTR&TR_SA12kV Fault Simulation\\\\3_Graphs'\n",
    "case1220 = TR.TempRiseExperiment(file_path, config_path)\n",
    "conver_const = 1.76\n",
    "time_const = 5500\n",
    "time_const_drop = 6000\n",
    "delay_const = 30\n",
    "tr_630A_warning = 42\n",
    "tr_630A_alarm = 50\n",
    "tr_630A_rated = 37\n",
    "err = 5\n",
    "# found 'nan' in column amp_phC, therefore interpolation is needed\n",
    "case1220.interp_data_nan('amp_phC')\n",
    "# dtr_phA_si_1220 = case1220.t_dtr_plot(\"t_C1_phA_snsr_bushing\",\n",
    "#                                       case1220.data['amp_phA'],\n",
    "#                                       time_const,\n",
    "#                                       conver_const,\n",
    "#                                       tr_630A_warning,\n",
    "#                                       tr_630A_alarm,\n",
    "#                                       delay_const,\n",
    "#                                       correction_warning=err,\n",
    "#                                       correction_alarm=err,\n",
    "#                                       tr_rated=tr_630A_rated,\n",
    "#                                       time_const_drop=time_const_drop,\n",
    "#                                       title='DTR performance on 20211220 of C1A')\n",
    "dtr_phB_si_1220 = case1220.t_dtr_plot(\"t_C1_phB_snsr_bushing\",\n",
    "                                      case1220.data['amp_phB'],\n",
    "                                      time_const,\n",
    "                                      conver_const,\n",
    "                                      tr_630A_warning,\n",
    "                                      tr_630A_alarm,\n",
    "                                      delay_const,\n",
    "                                      correction_warning=err,\n",
    "                                      correction_alarm=err,\n",
    "                                      tr_rated=tr_630A_rated,\n",
    "                                      time_const_drop=time_const_drop,\n",
    "                                      title='DTR performance on 20211220 of C1B sample_time=10s')\n",
    "# dtr_phC_si_1220 = case1220.t_dtr_plot(\"t_C1_phC_snsr_bushing\",\n",
    "#                                       case1220.data['amp_phC'],\n",
    "#                                       time_const,\n",
    "#                                       conver_const,\n",
    "#                                       tr_630A_warning,\n",
    "#                                       tr_630A_alarm,\n",
    "#                                       delay_const,\n",
    "#                                       correction_warning=err,\n",
    "#                                       correction_alarm=err,\n",
    "#                                       tr_rated=tr_630A_rated,\n",
    "#                                       time_const_drop=time_const_drop,\n",
    "#                                       title='DTR performance on 20211220 of C1C')\n",
    "# dtr_phA_si_1220_v3 = case1220.t_dtr_plot(\"t_V3_phA_snsr_bushing\",\n",
    "#                                          case1220.data['amp_phA'],\n",
    "#                                          time_const,\n",
    "#                                          conver_const,\n",
    "#                                          tr_630A_warning,\n",
    "#                                          tr_630A_alarm,\n",
    "#                                          delay_const,\n",
    "#                                          correction_warning=err,\n",
    "#                                          correction_alarm=err,\n",
    "#                                          tr_rated=tr_630A_rated,\n",
    "#                                          time_const_drop=time_const_drop,\n",
    "#                                          title='DTR performance on 20211220 of V3A')\n",
    "# dtr_phB_si_1220_v3 = case1220.t_dtr_plot(\"t_V3_phB_snsr_bushing\",\n",
    "#                                          case1220.data['amp_phB'],\n",
    "#                                          time_const,\n",
    "#                                          conver_const,\n",
    "#                                          tr_630A_warning,\n",
    "#                                          tr_630A_alarm,\n",
    "#                                          delay_const,\n",
    "#                                          correction_warning=err,\n",
    "#                                          correction_alarm=err,\n",
    "#                                          tr_rated=tr_630A_rated,\n",
    "#                                          time_const_drop=time_const_drop,\n",
    "#                                          title='DTR performance on 20211220 of V3B')\n",
    "# dtr_phC_si_1220_v3 = case1220.t_dtr_plot(\"t_V3_phC_snsr_bushing\",\n",
    "#                                          case1220.data['amp_phC'],\n",
    "#                                          time_const,\n",
    "#                                          conver_const,\n",
    "#                                          tr_630A_warning,\n",
    "#                                          tr_630A_alarm,\n",
    "#                                          delay_const,\n",
    "#                                          correction_warning=err,\n",
    "#                                          correction_alarm=err,\n",
    "#                                          tr_rated=tr_630A_rated,\n",
    "#                                          time_const_drop=time_const_drop,\n",
    "#                                          title='DTR performance on 20211220 of V3C')\n",
    "\n",
    "# form algorithm output data of warning, alarm, si\n",
    "# alg_result = pd.DataFrame()\n",
    "# alg_result['date_time'] = dtr_phA_si_1220[\"snsr_datetime\"].copy()\n",
    "# alg_result['SR_bushing_A'] = dtr_phA_si_1220[\"t_C1_phA_snsr_bushing\"].copy()\n",
    "# alg_result['SR_bushing_A_warning'] = dtr_phA_si_1220['t_warning'].copy()\n",
    "# alg_result['SR_bushing_A_alarm'] = dtr_phA_si_1220['t_alarm'].copy()\n",
    "# alg_result['SR_bushing_A_si'] = dtr_phA_si_1220['t_si'].copy()\n",
    "#\n",
    "# alg_result['SR_bushing_B'] = dtr_phB_si_1220[\"t_C1_phB_snsr_bushing\"].copy()\n",
    "# alg_result['SR_bushing_B_warning'] = dtr_phB_si_1220['t_warning'].copy()\n",
    "# alg_result['SR_bushing_B_alarm'] = dtr_phB_si_1220['t_alarm'].copy()\n",
    "# alg_result['SR_bushing_B_si'] = dtr_phB_si_1220['t_si'].copy()\n",
    "#\n",
    "# alg_result['SR_bushing_C'] = dtr_phC_si_1220[\"t_C1_phC_snsr_bushing\"].copy()\n",
    "# alg_result['SR_bushing_C_warning'] = dtr_phC_si_1220['t_warning'].copy()\n",
    "# alg_result['SR_bushing_C_alarm'] = dtr_phC_si_1220['t_alarm'].copy()\n",
    "# alg_result['SR_bushing_C_si'] = dtr_phC_si_1220['t_si'].copy()\n",
    "#\n",
    "# alg_result['current_A'] = dtr_phA_si_1220['current'].copy()\n",
    "# alg_result['current_B'] = dtr_phB_si_1220['current'].copy()\n",
    "# alg_result['current_C'] = dtr_phC_si_1220['current'].copy()\n",
    "# alg_result['ambient'] = case1220.data[\"t_oil_bottle_1\"].copy()\n",
    "#\n",
    "# alg_result.to_csv(fig_path + '\\\\' + 'alg_result.csv')\n"
   ]
  },
  {
   "cell_type": "markdown",
   "metadata": {
    "collapsed": false
   },
   "source": [
    "### 5min sample time"
   ]
  },
  {
   "cell_type": "code",
   "execution_count": null,
   "metadata": {
    "collapsed": false,
    "pycharm": {
     "name": "#%%\n"
    }
   },
   "outputs": [],
   "source": [
    "file_path = curDirectory + \\\n",
    "            '\\\\20211220_DTR&TR_SA12kV Fault Simulation\\\\1_Data formatted\\\\20211220_data_clean_5min.csv'\n",
    "config_path = curDirectory + \\\n",
    "              '\\\\20211220_DTR&TR_SA12kV Fault Simulation\\\\1_Data formatted\\\\2021-12-20_config.json'\n",
    "fig_path = curDirectory + '\\\\20211220_DTR&TR_SA12kV Fault Simulation\\\\3_Graphs'\n",
    "case1220_5min = TR.TempRiseExperiment(file_path, config_path)\n",
    "conver_const = 1.72\n",
    "time_const = 5500\n",
    "time_const_drop = 6000\n",
    "delay_const = 1\n",
    "tr_630A_warning = 42\n",
    "tr_630A_alarm = 50\n",
    "tr_630A_rated = 37\n",
    "err = 5\n",
    "dtr_phA_si_1220_c1_5min = case1220_5min.t_dtr_plot_inst_alarm(\"t_C1_phA_snsr_bushing\",\n",
    "                                      case1220_5min.data['amp_phA'],\n",
    "                                      time_const,\n",
    "                                      conver_const,\n",
    "                                      tr_630A_warning,\n",
    "                                      tr_630A_alarm,\n",
    "                                      delay_const,\n",
    "                                      correction_warning=err,\n",
    "                                      correction_alarm=err,\n",
    "                                      tr_rated=tr_630A_rated,\n",
    "                                      time_const_drop=time_const_drop,\n",
    "                                      sample_time=300,\n",
    "                                      title='DTR performance on 20211220 of C1A sample_time=5min')\n",
    "dtr_phB_si_1220_c1_5min = case1220_5min.t_dtr_plot_inst_alarm(\"t_C1_phB_snsr_bushing\",\n",
    "                                      case1220_5min.data['amp_phB'],\n",
    "                                      time_const,\n",
    "                                      conver_const,\n",
    "                                      tr_630A_warning,\n",
    "                                      tr_630A_alarm,\n",
    "                                      delay_const,\n",
    "                                      correction_warning=err,\n",
    "                                      correction_alarm=err,\n",
    "                                      tr_rated=tr_630A_rated,\n",
    "                                      time_const_drop=time_const_drop,\n",
    "                                      sample_time=300,\n",
    "                                      title='DTR performance on 20211220 of C1B sample_time=5min')\n",
    "dtr_phC_si_1220_c1_5min = case1220_5min.t_dtr_plot_inst_alarm(\"t_C1_phC_snsr_bushing\",\n",
    "                                      case1220_5min.data['amp_phC'],\n",
    "                                      time_const,\n",
    "                                      conver_const,\n",
    "                                      tr_630A_warning,\n",
    "                                      tr_630A_alarm,\n",
    "                                      delay_const,\n",
    "                                      correction_warning=err,\n",
    "                                      correction_alarm=err,\n",
    "                                      tr_rated=tr_630A_rated,\n",
    "                                      time_const_drop=time_const_drop,\n",
    "                                      sample_time=300,\n",
    "                                      title='DTR performance on 20211220 of C1C sample_time=5min')"
   ]
  },
  {
   "cell_type": "markdown",
   "metadata": {
    "collapsed": false
   },
   "source": [
    "### export algorithm output"
   ]
  },
  {
   "cell_type": "code",
   "execution_count": null,
   "metadata": {
    "collapsed": false,
    "pycharm": {
     "name": "#%%\n"
    }
   },
   "outputs": [],
   "source": [
    "alg_result = pd.DataFrame()\n",
    "alg_result['date_time'] = dtr_phA_si_1220_c1_5min[\"snsr_datetime\"].copy()\n",
    "alg_result['SR_bushing_A'] = dtr_phA_si_1220_c1_5min[\"t_C1_phA_snsr_bushing\"].copy()\n",
    "alg_result['SR_bushing_A_warning'] = dtr_phA_si_1220_c1_5min['t_warning'].copy()\n",
    "alg_result['SR_bushing_A_alarm'] = dtr_phA_si_1220_c1_5min['t_alarm'].copy()\n",
    "alg_result['SR_bushing_A_si'] = dtr_phA_si_1220_c1_5min['t_si'].copy()\n",
    "\n",
    "alg_result['SR_bushing_B'] = dtr_phB_si_1220_c1_5min[\"t_C1_phB_snsr_bushing\"].copy()\n",
    "alg_result['SR_bushing_B_warning'] = dtr_phB_si_1220_c1_5min['t_warning'].copy()\n",
    "alg_result['SR_bushing_B_alarm'] = dtr_phB_si_1220_c1_5min['t_alarm'].copy()\n",
    "alg_result['SR_bushing_B_si'] = dtr_phB_si_1220_c1_5min['t_si'].copy()\n",
    "\n",
    "alg_result['SR_bushing_C'] = dtr_phC_si_1220_c1_5min[\"t_C1_phC_snsr_bushing\"].copy()\n",
    "alg_result['SR_bushing_C_warning'] = dtr_phC_si_1220_c1_5min['t_warning'].copy()\n",
    "alg_result['SR_bushing_C_alarm'] = dtr_phC_si_1220_c1_5min['t_alarm'].copy()\n",
    "alg_result['SR_bushing_C_si'] = dtr_phC_si_1220_c1_5min['t_si'].copy()\n",
    "\n",
    "alg_result['current_A'] = dtr_phA_si_1220_c1_5min['current'].copy()\n",
    "alg_result['current_B'] = dtr_phB_si_1220_c1_5min['current'].copy()\n",
    "alg_result['current_C'] = dtr_phC_si_1220_c1_5min['current'].copy()\n",
    "alg_result['ambient'] = case1220_5min.data[\"t_oil_bottle_1\"].copy()\n",
    "\n",
    "alg_result.to_csv(fig_path + '\\\\' + 'alg_result_20211220.csv')"
   ]
  },
  {
   "cell_type": "markdown",
   "metadata": {},
   "source": [
    "## Plot DTR algorithm result 20211221 (invalid)\n",
    "630A constant current with phB fault, test has been identified as invalid since fault temp rise is too small to be detected by algorithm"
   ]
  },
  {
   "cell_type": "code",
   "execution_count": null,
   "metadata": {},
   "outputs": [],
   "source": [
    "file_path = curDirectory + \\\n",
    "            '\\\\20211221_DTR&TR_SA12kV Fault Simulation\\\\1_Data formatted\\\\20211221_data_clean_10s.csv'\n",
    "config_path = curDirectory + \\\n",
    "              '\\\\20211221_DTR&TR_SA12kV Fault Simulation\\\\1_Data formatted\\\\2021-12-21_config.json'\n",
    "fig_path = curDirectory + '\\\\20211221_DTR&TR_SA12kV Fault Simulation\\\\3_Graphs'\n",
    "case1221 = TR.TempRiseExperiment(file_path, config_path)\n",
    "conver_const = 1.76\n",
    "time_const = 5500\n",
    "time_const_drop = 15000\n",
    "delay_const = 20\n",
    "tr_630A_warning = 42\n",
    "tr_630A_alarm = 50\n",
    "tr_630A_rated = 38\n",
    "err = 5\n",
    "dtr_phA_si_1221 = case1221.t_dtr_plot(\"t_C1_phA_snsr_bushing\",\n",
    "                                      case1221.data['amp_phA'],\n",
    "                                      time_const,\n",
    "                                      conver_const,\n",
    "                                      tr_630A_warning,\n",
    "                                      tr_630A_alarm,\n",
    "                                      delay_const,\n",
    "                                      correction_warning=err,\n",
    "                                      correction_alarm=err,\n",
    "                                      tr_rated=tr_630A_rated,\n",
    "                                      time_const_drop=time_const_drop,\n",
    "                                      title='DTR performance on 20211221 of C1A')\n",
    "dtr_phB_si_1221 = case1221.t_dtr_plot(\"t_C1_phB_snsr_bushing\",\n",
    "                                      case1221.data['amp_phB'],\n",
    "                                      time_const,\n",
    "                                      conver_const,\n",
    "                                      tr_630A_warning,\n",
    "                                      tr_630A_alarm,\n",
    "                                      delay_const,\n",
    "                                      tr_rated=tr_630A_rated,\n",
    "                                      correction_warning=err,\n",
    "                                      correction_alarm=err,\n",
    "                                      time_const_drop=time_const_drop,\n",
    "                                      title='DTR performance on 20211221 of C1B')\n",
    "dtr_phC_si_1221 = case1221.t_dtr_plot(\"t_C1_phC_snsr_bushing\",\n",
    "                                      case1221.data['amp_phC'],\n",
    "                                      time_const,\n",
    "                                      conver_const,\n",
    "                                      tr_630A_warning,\n",
    "                                      tr_630A_alarm,\n",
    "                                      delay_const,\n",
    "                                      correction_warning=err,\n",
    "                                      correction_alarm=err,\n",
    "                                      tr_rated=tr_630A_rated,\n",
    "                                      time_const_drop=time_const_drop,\n",
    "                                      title='DTR performance on 20211221 of C1C')\n",
    "dtr_phA_si_1221_v3 = case1221.t_dtr_plot(\"t_V3_phA_snsr_bushing\",\n",
    "                                         case1221.data['amp_phA'],\n",
    "                                         time_const,\n",
    "                                         conver_const,\n",
    "                                         tr_630A_warning,\n",
    "                                         tr_630A_alarm,\n",
    "                                         delay_const,\n",
    "                                         correction_warning=err,\n",
    "                                         correction_alarm=err,\n",
    "                                         tr_rated=tr_630A_rated,\n",
    "                                         time_const_drop=time_const_drop,\n",
    "                                         title='DTR performance on 20211221 of V3A')\n",
    "dtr_phB_si_1221_v3 = case1221.t_dtr_plot(\"t_V3_phB_snsr_bushing\",\n",
    "                                         case1221.data['amp_phB'],\n",
    "                                         time_const,\n",
    "                                         conver_const,\n",
    "                                         tr_630A_warning,\n",
    "                                         tr_630A_alarm,\n",
    "                                         delay_const,\n",
    "                                         correction_warning=err,\n",
    "                                         correction_alarm=err,\n",
    "                                         tr_rated=tr_630A_rated,\n",
    "                                         time_const_drop=time_const_drop,\n",
    "                                         title='DTR performance on 20211221 of V3B')\n",
    "dtr_phC_si_1221_v3 = case1221.t_dtr_plot(\"t_V3_phC_snsr_bushing\",\n",
    "                                         case1221.data['amp_phC'],\n",
    "                                         time_const,\n",
    "                                         conver_const,\n",
    "                                         tr_630A_warning,\n",
    "                                         tr_630A_alarm,\n",
    "                                         delay_const,\n",
    "                                         correction_warning=err,\n",
    "                                         correction_alarm=err,\n",
    "                                         tr_rated=tr_630A_rated,\n",
    "                                         time_const_drop=time_const_drop,\n",
    "                                         title='DTR performance on 20211221 of V3C')\n",
    "\n",
    "# form algorithm output data of warning, alarm, si\n",
    "alg_result = pd.DataFrame()\n",
    "alg_result['date_time'] = dtr_phA_si_1221[\"snsr_datetime\"].copy()\n",
    "alg_result['SR_bushing_A'] = dtr_phA_si_1221[\"t_C1_phA_snsr_bushing\"].copy()\n",
    "alg_result['SR_bushing_A_warning'] = dtr_phA_si_1221['t_warning'].copy()\n",
    "alg_result['SR_bushing_A_alarm'] = dtr_phA_si_1221['t_alarm'].copy()\n",
    "alg_result['SR_bushing_A_si'] = dtr_phA_si_1221['t_si'].copy()\n",
    "\n",
    "alg_result['SR_bushing_B'] = dtr_phB_si_1221[\"t_C1_phB_snsr_bushing\"].copy()\n",
    "alg_result['SR_bushing_B_warning'] = dtr_phB_si_1221['t_warning'].copy()\n",
    "alg_result['SR_bushing_B_alarm'] = dtr_phB_si_1221['t_alarm'].copy()\n",
    "alg_result['SR_bushing_B_si'] = dtr_phB_si_1221['t_si'].copy()\n",
    "\n",
    "alg_result['SR_bushing_C'] = dtr_phC_si_1221[\"t_C1_phC_snsr_bushing\"].copy()\n",
    "alg_result['SR_bushing_C_warning'] = dtr_phC_si_1221['t_warning'].copy()\n",
    "alg_result['SR_bushing_C_alarm'] = dtr_phC_si_1221['t_alarm'].copy()\n",
    "alg_result['SR_bushing_C_si'] = dtr_phC_si_1221['t_si'].copy()\n",
    "\n",
    "alg_result['current_A'] = dtr_phA_si_1221['current'].copy()\n",
    "alg_result['current_B'] = dtr_phB_si_1221['current'].copy()\n",
    "alg_result['current_C'] = dtr_phC_si_1221['current'].copy()\n",
    "alg_result['ambient'] = case1221.data[\"t_oil_bottle_1\"].copy()\n",
    "\n",
    "alg_result.to_csv(fig_path + '\\\\' + 'alg_result.csv')\n"
   ]
  },
  {
   "cell_type": "markdown",
   "metadata": {},
   "source": [
    "## Plot DTR algorithm result 20211222\n",
    "630A-100A current drop without fault\n",
    "### 10s sample time"
   ]
  },
  {
   "cell_type": "code",
   "execution_count": null,
   "metadata": {},
   "outputs": [],
   "source": [
    "file_path = curDirectory + \\\n",
    "            '\\\\20211222_DTR&TR_SA12kV Current Drop\\\\1_Data formatted\\\\20211222_data_clean_10s.csv'\n",
    "config_path = curDirectory + \\\n",
    "              '\\\\20211222_DTR&TR_SA12kV Current Drop\\\\1_Data formatted\\\\2021-12-22_config.json'\n",
    "fig_path = curDirectory + '\\\\20211222_DTR&TR_SA12kV Current Drop\\\\3_Graphs'\n",
    "case1222 = TR.TempRiseExperiment(file_path, config_path)\n",
    "conver_const = 1.76\n",
    "time_const = 6000\n",
    "time_const_drop = 12000\n",
    "delay_const = 0\n",
    "tr_630A_warning = 45\n",
    "tr_630A_alarm = 50\n",
    "tr_630A_rated = 0\n",
    "case1222.interp_data_nan('amp_phC')\n",
    "dtr_phA_si_1222 = case1222.t_dtr_plot(\"t_C1_phA_snsr_bushing\",\n",
    "                                      case1222.data['amp_phA'],\n",
    "                                      time_const,\n",
    "                                      conver_const,\n",
    "                                      tr_630A_warning,\n",
    "                                      tr_630A_alarm,\n",
    "                                      delay_const,\n",
    "                                      correction_warning=0,\n",
    "                                      correction_alarm=0,\n",
    "                                      tr_rated=tr_630A_rated,\n",
    "                                      time_const_drop=time_const_drop)\n",
    "dtr_phB_si_1222 = case1222.t_dtr_plot(\"t_C1_phB_snsr_bushing\",\n",
    "                                      case1222.data['amp_phB'],\n",
    "                                      time_const,\n",
    "                                      conver_const,\n",
    "                                      tr_630A_warning,\n",
    "                                      tr_630A_alarm,\n",
    "                                      delay_const,\n",
    "                                      correction_warning=0,\n",
    "                                      correction_alarm=0,\n",
    "                                      tr_rated=tr_630A_rated,\n",
    "                                      time_const_drop=time_const_drop)\n",
    "dtr_phC_si_1222 = case1222.t_dtr_plot(\"t_C1_phC_snsr_bushing\",\n",
    "                                      case1222.data['amp_phC'],\n",
    "                                      time_const,\n",
    "                                      conver_const,\n",
    "                                      tr_630A_warning,\n",
    "                                      tr_630A_alarm,\n",
    "                                      delay_const,\n",
    "                                      correction_warning=0,\n",
    "                                      correction_alarm=0,\n",
    "                                      tr_rated=tr_630A_rated,\n",
    "                                      time_const_drop=time_const_drop)\n",
    "dtr_phA_si_1222_v3 = case1222.t_dtr_plot(\"t_V3_phA_snsr_bushing\",\n",
    "                                         case1222.data['amp_phA'],\n",
    "                                         time_const,\n",
    "                                         conver_const,\n",
    "                                         tr_630A_warning,\n",
    "                                         tr_630A_alarm,\n",
    "                                         delay_const,\n",
    "                                         correction_warning=0,\n",
    "                                         correction_alarm=0,\n",
    "                                         tr_rated=tr_630A_rated,\n",
    "                                         time_const_drop=time_const_drop)\n",
    "dtr_phB_si_1222_v3 = case1222.t_dtr_plot(\"t_V3_phB_snsr_bushing\",\n",
    "                                         case1222.data['amp_phB'],\n",
    "                                         time_const,\n",
    "                                         conver_const,\n",
    "                                         tr_630A_warning,\n",
    "                                         tr_630A_alarm,\n",
    "                                         delay_const,\n",
    "                                         correction_warning=0,\n",
    "                                         correction_alarm=0,\n",
    "                                         tr_rated=tr_630A_rated,\n",
    "                                         time_const_drop=time_const_drop)\n",
    "dtr_phC_si_1222_v3 = case1222.t_dtr_plot(\"t_V3_phC_snsr_bushing\",\n",
    "                                         case1222.data['amp_phC'],\n",
    "                                         time_const,\n",
    "                                         conver_const,\n",
    "                                         tr_630A_warning,\n",
    "                                         tr_630A_alarm,\n",
    "                                         delay_const,\n",
    "                                         correction_warning=0,\n",
    "                                         correction_alarm=0,\n",
    "                                         tr_rated=tr_630A_rated,\n",
    "                                         time_const_drop=time_const_drop)\n",
    "\n",
    "# form algorithm output data of warning, alarm, si\n",
    "\n",
    "\n",
    "# alg_result = pd.DataFrame()\n",
    "# alg_result['date_time'] = dtr_phA_si_1222[\"snsr_datetime\"].copy()\n",
    "# alg_result['SR_bushing_A'] = dtr_phA_si_1222[\"t_C1_phA_snsr_bushing\"].copy()\n",
    "# alg_result['SR_bushing_A_warning'] = dtr_phA_si_1222['t_warning'].copy()\n",
    "# alg_result['SR_bushing_A_alarm'] = dtr_phA_si_1222['t_alarm'].copy()\n",
    "# alg_result['SR_bushing_A_si'] = dtr_phA_si_1222['t_si'].copy()\n",
    "#\n",
    "# alg_result['SR_bushing_B'] = dtr_phB_si_1222[\"t_C1_phB_snsr_bushing\"].copy()\n",
    "# alg_result['SR_bushing_B_warning'] = dtr_phB_si_1222['t_warning'].copy()\n",
    "# alg_result['SR_bushing_B_alarm'] = dtr_phB_si_1222['t_alarm'].copy()\n",
    "# alg_result['SR_bushing_B_si'] = dtr_phB_si_1222['t_si'].copy()\n",
    "#\n",
    "# alg_result['SR_bushing_C'] = dtr_phC_si_1222[\"t_C1_phC_snsr_bushing\"].copy()\n",
    "# alg_result['SR_bushing_C_warning'] = dtr_phC_si_1222['t_warning'].copy()\n",
    "# alg_result['SR_bushing_C_alarm'] = dtr_phC_si_1222['t_alarm'].copy()\n",
    "# alg_result['SR_bushing_C_si'] = dtr_phC_si_1222['t_si'].copy()\n",
    "#\n",
    "# alg_result['current_A'] = dtr_phA_si_1222['current'].copy()\n",
    "# alg_result['current_B'] = dtr_phB_si_1222['current'].copy()\n",
    "# alg_result['current_C'] = dtr_phC_si_1222['current'].copy()\n",
    "# alg_result['ambient'] = case1222.data[\"t_oil_bottle_1\"].copy()\n",
    "#\n",
    "# alg_result.to_csv(fig_path + '\\\\' + 'alg_result.csv')"
   ]
  },
  {
   "cell_type": "markdown",
   "metadata": {
    "collapsed": false
   },
   "source": [
    "## Calculate Time Constant T 20211222 (invalid)\n",
    "since 100A steady-state test for Safe Air 12/24kV is not available, current dropping test on 20211222 is invalid"
   ]
  },
  {
   "cell_type": "code",
   "execution_count": null,
   "metadata": {
    "collapsed": false,
    "pycharm": {
     "name": "#%%\n"
    }
   },
   "outputs": [],
   "source": [
    "file_path = curDirectory + '\\\\20211222_DTR&TR_SA12kV Current Drop\\\\1_Data formatted\\\\20211222_data_clean_10s.csv'\n",
    "config_path = curDirectory + '\\\\20211222_DTR&TR_SA12kV Current Drop\\\\1_Data formatted\\\\2021-12-22_config.json'\n",
    "fig_path = curDirectory + '\\\\20211222_DTR&TR_SA12kV Current Drop\\\\3_Graphs'\n",
    "tr_100A_phA = (case1209.data.loc[case1209.bal_idx, 't_C1_phA_snsr_bushing'] -\n",
    "               case1209.t_oil.iloc[case1209.bal_idx])\n",
    "tr_100A_phB = (case1209.data.loc[case1209.bal_idx, 't_C1_phB_snsr_bushing'] -\n",
    "               case1209.t_oil.iloc[case1209.bal_idx])\n",
    "tr_100A_phC = (case1209.data.loc[case1209.bal_idx, 't_C1_phC_snsr_bushing'] -\n",
    "               case1209.t_oil.iloc[case1209.bal_idx])\n",
    "# print(tr_100A_phA,tr_100A_phB,tr_100A_phC)\n",
    "\n",
    "case1222 = TR.TempRiseExperiment(file_path, config_path)\n",
    "# case1222.find_balance_index(list(range(18, 52)))\n",
    "# case1118.data_filter('t_env', 0, 100, 1)\n",
    "case1222.cal_dynamic_time_const('t_C1_phA_snsr_bushing',\n",
    "                                tw=tr_100A_phA,\n",
    "                                t_amb='t_oil')\n",
    "case1222.cal_dynamic_time_const('t_C1_phB_snsr_bushing',\n",
    "                                tw=tr_100A_phB,\n",
    "                                t_amb='t_oil')\n",
    "case1222.cal_dynamic_time_const('t_C1_phC_snsr_bushing',\n",
    "                                tw=tr_100A_phC,\n",
    "                                t_amb='t_oil')"
   ]
  },
  {
   "cell_type": "markdown",
   "metadata": {
    "collapsed": false
   },
   "source": [
    "## statistical error analysis of DTR algorithm for Safe Air 12/24kV\n"
   ]
  },
  {
   "cell_type": "code",
   "execution_count": null,
   "metadata": {
    "collapsed": false,
    "pycharm": {
     "name": "#%%\n"
    }
   },
   "outputs": [],
   "source": [
    "# 20211219\n",
    "alg_result['SR_bushing_B'] = dtr_phB_si_1219_c1_5min['t_C1_phB_snsr_bushing'].copy()\n",
    "alg_result['SR_bushing_B_rated'] = dtr_phB_si_1219_c1_5min['t_rated'].copy()\n",
    "err_alg_C1B = TR.TempRiseExperiment.get_max_abs(alg_result['SR_bushing_B'], alg_result['SR_bushing_B_rated'])\n",
    "print('err_alg_C1B = ', err_alg_C1B)"
   ]
  },
  {
   "cell_type": "markdown",
   "metadata": {
    "collapsed": false
   },
   "source": [
    "# statistical error analysis for sensor (STE202)"
   ]
  },
  {
   "cell_type": "code",
   "execution_count": null,
   "metadata": {
    "collapsed": false,
    "pycharm": {
     "name": "#%%\n"
    }
   },
   "outputs": [],
   "source": [
    "max_abs_20211106_C1A = TR.TempRiseExperiment.get_max_abs(case1106_5min.data['t_C1_phA_bushing'],\n",
    "                                                         case1106_5min.data['t_C1_phA_snsr_bushing'])\n",
    "print('max_abs_20211106_C1A : ', max_abs_20211106_C1A)\n",
    "max_abs_20211106_C1B = TR.TempRiseExperiment.get_max_abs(case1106_5min.data['t_C1_phB_bushing'],\n",
    "                                                         case1106_5min.data['t_C1_phB_snsr_bushing'])\n",
    "print('max_abs_20211106_C1B : ', max_abs_20211106_C1B)\n",
    "max_abs_20211106_C1C = TR.TempRiseExperiment.get_max_abs(case1106_5min.data['t_C1_phC_bushing'],\n",
    "                                                         case1106_5min.data['t_C1_phC_snsr_bushing'])\n",
    "print('max_abs_20211106_C1C : ', max_abs_20211106_C1C)\n",
    "max_abs_20211107_C1A = TR.TempRiseExperiment.get_max_abs(case1107_5min.data['t_C1_phA_bushing'],\n",
    "                                                         case1107_5min.data['t_C1_phA_snsr_bushing'])\n",
    "print('max_abs_20211107_C1A : ', max_abs_20211107_C1A)\n",
    "max_abs_20211107_C1B = TR.TempRiseExperiment.get_max_abs(case1107_5min.data['t_C1_phB_bushing'],\n",
    "                                                         case1107_5min.data['t_C1_phB_snsr_bushing'])\n",
    "print('max_abs_20211107_C1B : ', max_abs_20211107_C1B)\n",
    "max_abs_20211107_C1C = TR.TempRiseExperiment.get_max_abs(case1107_5min.data['t_C1_phC_bushing'],\n",
    "                                                         case1107_5min.data['t_C1_phC_snsr_bushing'])\n",
    "print('max_abs_20211107_C1C : ', max_abs_20211107_C1C)\n",
    "max_abs_20211219_C1A = TR.TempRiseExperiment.get_max_abs(case1219_5min.data['t_C1_phA_bushing'],\n",
    "                                                         case1219_5min.data['t_C1_phA_snsr_bushing'])\n",
    "print('max_abs_20211219_C1A : ', max_abs_20211219_C1A)\n",
    "max_abs_20211219_C1B = TR.TempRiseExperiment.get_max_abs(case1219_5min.data['t_C1_phB_bushing'],\n",
    "                                                         case1219_5min.data['t_C1_phB_snsr_bushing'])\n",
    "print('max_abs_20211219_C1B : ', max_abs_20211219_C1B)\n",
    "max_abs_20211219_C1C = TR.TempRiseExperiment.get_max_abs(case1219_5min.data['t_C1_phC_bushing'],\n",
    "                                                         case1219_5min.data['t_C1_phC_snsr_bushing'])\n",
    "print('max_abs_20211219_C1C : ', max_abs_20211219_C1C)\n",
    "max_abs_20211221_C1A = TR.TempRiseExperiment.get_max_abs(case1221.data['t_C1_phA_bushing'],\n",
    "                                                         case1221.data['t_C1_phA_snsr_bushing'])\n",
    "print('max_abs_20211221_C1A : ', max_abs_20211221_C1A)\n",
    "max_abs_20211221_C1B = TR.TempRiseExperiment.get_max_abs(case1221.data['t_C1_phB_bushing'],\n",
    "                                                         case1221.data['t_C1_phB_snsr_bushing'])\n",
    "print('max_abs_20211221_C1B : ', max_abs_20211221_C1B)\n",
    "max_abs_20211221_C1C = TR.TempRiseExperiment.get_max_abs(case1221.data['t_C1_phC_bushing'],\n",
    "                                                         case1221.data['t_C1_phC_snsr_bushing'])\n",
    "print('max_abs_20211221_C1C : ', max_abs_20211221_C1C)\n",
    "fig, ax1 = plt.subplots(dpi=200)\n",
    "ax1.plot(case1221.data['t_C1_phC_bushing'],label='thermalcouple temp')\n",
    "ax1.plot(case1221.data['t_C1_phC_snsr_bushing'],label='sensor temp')\n",
    "ax1.legend(loc='upper left')\n",
    "ax2 = plt.twinx(ax1)\n",
    "ax2.plot(case1221.data['t_C1_phC_bushing'] - case1221.data['t_C1_phC_snsr_bushing'], 'k:',label='difference')\n",
    "ax2.legend(loc='upper right')\n",
    "plt.show()"
   ]
  },
  {
   "cell_type": "code",
   "execution_count": null,
   "metadata": {
    "collapsed": false,
    "pycharm": {
     "name": "#%%\n"
    }
   },
   "outputs": [],
   "source": []
  }
 ],
 "metadata": {
  "kernelspec": {
   "display_name": "Python 3.7.4 64-bit",
   "language": "python",
   "name": "python3"
  },
  "language_info": {
   "codemirror_mode": {
    "name": "ipython",
    "version": 3
   },
   "file_extension": ".py",
   "mimetype": "text/x-python",
   "name": "python",
   "nbconvert_exporter": "python",
   "pygments_lexer": "ipython3",
   "version": "3.7.4"
  },
  "orig_nbformat": 4,
  "vscode": {
   "interpreter": {
    "hash": "8e2917dd90de65e54e965e2cca08bfe511c1536f550d14f70f5df6e965d88763"
   }
  }
 },
 "nbformat": 4,
 "nbformat_minor": 2
}
