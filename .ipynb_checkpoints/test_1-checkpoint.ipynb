{
 "cells": [
  {
   "cell_type": "code",
   "execution_count": 2,
   "metadata": {},
   "outputs": [
    {
     "name": "stdout",
     "output_type": "stream",
     "text": [
      "53.409722845635784\n"
     ]
    }
   ],
   "source": [
    "import numpy as np\n",
    "cur = 618\n",
    "t_stable = (cur/630)**1.66*42\n",
    "theta_n_1 = 52.8680275980969 - 5\n",
    "t_amb = 20.1\n",
    "theta_stable = t_stable + t_amb\n",
    "theta_n = theta_n_1 + (theta_stable-theta_n_1)*(1-np.exp(-300/7000))\n",
    "# exp_cont = 0.94692\n",
    "# theta_n = theta_n_1 + (theta_stable-theta_n_1)*(1-exp_cont)\n",
    "print(theta_n+5)\n",
    "# print('exp_const',np.exp(-300/5500))"
   ]
  },
  {
   "cell_type": "code",
   "execution_count": 3,
   "metadata": {},
   "outputs": [
    {
     "data": {
      "text/plain": [
       "60.780365564437005"
      ]
     },
     "execution_count": 3,
     "metadata": {},
     "output_type": "execute_result"
    }
   ],
   "source": [
    "theta_stable"
   ]
  },
  {
   "cell_type": "code",
   "execution_count": null,
   "metadata": {},
   "outputs": [],
   "source": []
  }
 ],
 "metadata": {
  "kernelspec": {
   "display_name": "Python 3.7.4 64-bit",
   "language": "python",
   "name": "python3"
  },
  "language_info": {
   "codemirror_mode": {
    "name": "ipython",
    "version": 3
   },
   "file_extension": ".py",
   "mimetype": "text/x-python",
   "name": "python",
   "nbconvert_exporter": "python",
   "pygments_lexer": "ipython3",
   "version": "3.7.4"
  },
  "orig_nbformat": 4,
  "vscode": {
   "interpreter": {
    "hash": "8e2917dd90de65e54e965e2cca08bfe511c1536f550d14f70f5df6e965d88763"
   }
  }
 },
 "nbformat": 4,
 "nbformat_minor": 2
}
